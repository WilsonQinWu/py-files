{
 "cells": [
  {
   "cell_type": "code",
   "execution_count": null,
   "id": "afbef569",
   "metadata": {},
   "outputs": [],
   "source": [
    "# Question 1\n",
    "# Input_List1 = [[ 'sugar', 'lemon', 'apple'], [10, 5, 8], [4,2,6]]\n",
    "# 3 elements are present in the list. Products, Qty and their unit price.\n",
    "# Calculate the total price of apples # Expected Output : 48\n",
    "# Calculate the total price of lemons # Expecteed Output : 10\n",
    "\n",
    "Input_List1 = [[ 'sugar', 'lemon', 'apple'], [10, 5, 8], [4,2,6]]\n",
    "j=input()\n",
    "totalPrice=[]\n",
    "\n",
    "for i in Input_List1:\n",
    "    for j in i:\n",
    "        if input()=='sugar':\n",
    "            totalPrice=[Input_List1[1][0]*Input_List1[2][0]] \n",
    "            print(\"My products is:\",j)\n",
    "            print(\"The total price of\",j,\"is\",totalPrice)\n",
    "        elif j=='lemon':\n",
    "            totalPrice=[Input_List1[1][1]*Input_List1[2][1]]\n",
    "            print(\"My products is:\",j)\n",
    "            print(totalPrice)\n",
    "        elif j=='apple':\n",
    "            totalPrice=[Input_List1[1][2]*Input_List1[2][2]]\n",
    "            print(\"My products is:\",j)\n",
    "            print(totalPrice)\n",
    "        else:\n",
    "            pass\n",
    "print(totalPrice)"
   ]
  },
  {
   "cell_type": "code",
   "execution_count": 5,
   "id": "9f76848e",
   "metadata": {},
   "outputs": [
    {
     "name": "stdout",
     "output_type": "stream",
     "text": [
      "3\n"
     ]
    }
   ],
   "source": [
    "# Question 2:\n",
    "# Write a Python program to count the number of strings where the string length is 2 or more \n",
    "# and the first and last character are same from a given list of strings. \n",
    "# Sample List : ['abc', 'xyz', 'aba', '1221']\n",
    "# Expected Result : 2\n",
    "\n",
    "sample_list=['abc', 'xyz', 'aba', '1221','上海海上']\n",
    "num=0\n",
    "\n",
    "for i in sample_list:\n",
    "    if len(i)>=2:\n",
    "        if i[0]==i[-1]:\n",
    "            num=num+1\n",
    "        else:\n",
    "            pass\n",
    "    else:\n",
    "        pass\n",
    "print(num)\n",
    "        \n"
   ]
  },
  {
   "cell_type": "code",
   "execution_count": 16,
   "id": "98a9812d",
   "metadata": {},
   "outputs": [
    {
     "name": "stdout",
     "output_type": "stream",
     "text": [
      "3\n"
     ]
    }
   ],
   "source": [
    "sample_list=['abc', 'xyz', 'aba', '1221','上海海上']\n",
    "num=0\n",
    "\n",
    "for word in sample_list:\n",
    "    if len(word)>1 and word[0] == word[-1]:\n",
    "        num += 1    \n",
    "print(num)\n",
    "    "
   ]
  },
  {
   "cell_type": "code",
   "execution_count": 33,
   "id": "b3dade6a",
   "metadata": {},
   "outputs": [
    {
     "name": "stdout",
     "output_type": "stream",
     "text": [
      "['Green', 'White', 'Black']\n",
      "['Green', 'White', 'Black']\n"
     ]
    }
   ],
   "source": [
    "# Question 3:\n",
    "# Write a Python program to print a specified list after removing the 0th, 4th and 5th elements.\n",
    "# Sample List : ['Red', 'Green', 'White', 'Black', 'Pink', 'Yellow']\n",
    "# Expected Output : ['Green', 'White', 'Black']\n",
    "sample_list=['Red', 'Green', 'White', 'Black', 'Pink', 'Yellow']\n",
    "output_list=[]\n",
    "\n",
    "sample_list.pop(5)\n",
    "sample_list.pop(4)\n",
    "sample_list.pop(0)\n",
    " \n",
    "print(sample_list)\n",
    "\n",
    "color=['Red', 'Green', 'White', 'Black', 'Pink', 'Yellow']\n",
    "\n",
    "color=[x for index,x in enumerate(color) if index not in(0,4,5)]\n",
    "print(color)\n"
   ]
  },
  {
   "cell_type": "code",
   "execution_count": 45,
   "id": "00b55737",
   "metadata": {},
   "outputs": [
    {
     "name": "stdout",
     "output_type": "stream",
     "text": [
      "['red', 'orange', 'white']\n"
     ]
    }
   ],
   "source": [
    "# Question 4:\n",
    "# Write a Python program to compute the difference between two lists.\n",
    "# Sample data: \n",
    "# list1 = [\"red\", \"orange\", \"green\", \"blue\", \"white\"]\n",
    "# list2 = [\"black\", \"yellow\", \"green\", \"blue\"]\n",
    "# Expected Output: ['white', 'orange', 'red'] # this is for list1 - list2\n",
    "# Hint : Iterate over list1 and check if each element is present in list2\n",
    "\n",
    "list1 = [\"red\", \"orange\", \"green\", \"blue\", \"white\"]\n",
    "list2 = [\"black\", \"yellow\", \"green\", \"blue\"]\n",
    "\n",
    "result=[]\n",
    "\n",
    "for i in list1:\n",
    "    if i not in list2 :\n",
    "        result.append(i)            \n",
    "    else:\n",
    "         pass\n",
    "            \n",
    "print(result)\n",
    "            "
   ]
  },
  {
   "cell_type": "code",
   "execution_count": null,
   "id": "de3f4ea2",
   "metadata": {},
   "outputs": [],
   "source": []
  },
  {
   "cell_type": "code",
   "execution_count": null,
   "id": "751484d6",
   "metadata": {},
   "outputs": [],
   "source": []
  }
 ],
 "metadata": {
  "kernelspec": {
   "display_name": "Python 3 (ipykernel)",
   "language": "python",
   "name": "python3"
  },
  "language_info": {
   "codemirror_mode": {
    "name": "ipython",
    "version": 3
   },
   "file_extension": ".py",
   "mimetype": "text/x-python",
   "name": "python",
   "nbconvert_exporter": "python",
   "pygments_lexer": "ipython3",
   "version": "3.9.13"
  }
 },
 "nbformat": 4,
 "nbformat_minor": 5
}
