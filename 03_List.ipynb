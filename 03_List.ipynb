{
 "cells": [
  {
   "cell_type": "code",
   "execution_count": 2,
   "id": "864c0787",
   "metadata": {},
   "outputs": [],
   "source": [
    "# LIST\n",
    "\n",
    "# Creating a List\n",
    "a=[5,7, 'Tuesday']\n",
    "b= list('Monday')"
   ]
  },
  {
   "cell_type": "code",
   "execution_count": 3,
   "id": "bd42162b",
   "metadata": {},
   "outputs": [
    {
     "name": "stdout",
     "output_type": "stream",
     "text": [
      "The elements of a is : [5, 7, 'Tuesday']\n",
      "The elements of b is : ['M', 'o', 'n', 'd', 'a', 'y']\n"
     ]
    }
   ],
   "source": [
    "print(\"The elements of a is :\",a)\n",
    "print(\"The elements of b is :\",b)"
   ]
  },
  {
   "cell_type": "code",
   "execution_count": 4,
   "id": "f6ae6180",
   "metadata": {},
   "outputs": [],
   "source": [
    "c=[] # Empty List\n",
    "d=list() # Empty List\n",
    "e='' # Empty String"
   ]
  },
  {
   "cell_type": "code",
   "execution_count": 6,
   "id": "ce9a2cc6",
   "metadata": {},
   "outputs": [
    {
     "name": "stdout",
     "output_type": "stream",
     "text": [
      "c is : [] d is :  [] e is: \n",
      "c is : []\n",
      "d is :  []\n",
      "e is: \n"
     ]
    }
   ],
   "source": [
    "print(\"c is :\",c,\"d is : \",d,\"e is:\",e)\n",
    "print(\"c is :\",c)\n",
    "print(\"d is : \",d)\n",
    "print(\"e is:\",e)"
   ]
  },
  {
   "cell_type": "code",
   "execution_count": 7,
   "id": "338731c6",
   "metadata": {},
   "outputs": [
    {
     "data": {
      "text/plain": [
       "str"
      ]
     },
     "execution_count": 7,
     "metadata": {},
     "output_type": "execute_result"
    }
   ],
   "source": [
    "# Type(x) => Returns the data type / data structure of the x\n",
    "type(e)"
   ]
  },
  {
   "cell_type": "code",
   "execution_count": 8,
   "id": "7b9b9c53",
   "metadata": {},
   "outputs": [],
   "source": [
    "# b= list('Monday')\n",
    "x='Monday'\n",
    "b=list(x)"
   ]
  },
  {
   "cell_type": "code",
   "execution_count": 9,
   "id": "1aa61ebf",
   "metadata": {},
   "outputs": [
    {
     "name": "stdout",
     "output_type": "stream",
     "text": [
      "X is of type: <class 'str'>\n",
      "b is of type: <class 'list'>\n"
     ]
    }
   ],
   "source": [
    "print(\"X is of type:\",type(x))\n",
    "print(\"b is of type:\",type(b))"
   ]
  },
  {
   "cell_type": "code",
   "execution_count": 10,
   "id": "3f26bc08",
   "metadata": {},
   "outputs": [
    {
     "data": {
      "text/plain": [
       "['M', 'o', 'n', 'd', 'a', 'y']"
      ]
     },
     "execution_count": 10,
     "metadata": {},
     "output_type": "execute_result"
    }
   ],
   "source": [
    "b"
   ]
  },
  {
   "cell_type": "code",
   "execution_count": 11,
   "id": "485596ac",
   "metadata": {},
   "outputs": [
    {
     "data": {
      "text/plain": [
       "'M'"
      ]
     },
     "execution_count": 11,
     "metadata": {},
     "output_type": "execute_result"
    }
   ],
   "source": [
    "b[0]"
   ]
  },
  {
   "cell_type": "code",
   "execution_count": 12,
   "id": "e54e3894",
   "metadata": {},
   "outputs": [
    {
     "data": {
      "text/plain": [
       "['M', 'o', 'n', 'd', 'a']"
      ]
     },
     "execution_count": 12,
     "metadata": {},
     "output_type": "execute_result"
    }
   ],
   "source": [
    "b[0:5]"
   ]
  },
  {
   "cell_type": "code",
   "execution_count": null,
   "id": "e6329639",
   "metadata": {},
   "outputs": [],
   "source": [
    "# Append\n",
    "# Adds the given value to the end of the list\n",
    "# Syntax : Variable.append(x)"
   ]
  },
  {
   "cell_type": "code",
   "execution_count": 13,
   "id": "27b829ac",
   "metadata": {},
   "outputs": [
    {
     "data": {
      "text/plain": [
       "[5, 7, 'Tuesday']"
      ]
     },
     "execution_count": 13,
     "metadata": {},
     "output_type": "execute_result"
    }
   ],
   "source": [
    "a"
   ]
  },
  {
   "cell_type": "code",
   "execution_count": 14,
   "id": "7e1796e4",
   "metadata": {},
   "outputs": [
    {
     "name": "stdout",
     "output_type": "stream",
     "text": [
      "The elements of a is : [5, 7, 'Tuesday', 'Hi']\n"
     ]
    }
   ],
   "source": [
    "a.append('Hi')\n",
    "print(\"The elements of the list a is :\",a)"
   ]
  },
  {
   "cell_type": "code",
   "execution_count": 15,
   "id": "89520909",
   "metadata": {},
   "outputs": [
    {
     "name": "stdout",
     "output_type": "stream",
     "text": [
      "The elements of a is : [5, 7, 'Tuesday', 'Hi', 78.98]\n"
     ]
    }
   ],
   "source": [
    "a.append(78.98)\n",
    "print(\"The elements of the list a is :\",a)"
   ]
  },
  {
   "cell_type": "code",
   "execution_count": null,
   "id": "66328b85",
   "metadata": {},
   "outputs": [],
   "source": [
    "# insert(ind,value)\n",
    "# Insert() adds the given value at given index"
   ]
  },
  {
   "cell_type": "code",
   "execution_count": 16,
   "id": "5744d938",
   "metadata": {},
   "outputs": [
    {
     "name": "stdout",
     "output_type": "stream",
     "text": [
      "The elements of a is : [5, 7, 56.65, 'Tuesday', 'Hi', 78.98]\n"
     ]
    }
   ],
   "source": [
    "# add 56.65 at 2nd position\n",
    "a.insert(2,56.65)\n",
    "print(\"The elements of the list a is :\",a)"
   ]
  },
  {
   "cell_type": "code",
   "execution_count": 17,
   "id": "49c135cb",
   "metadata": {},
   "outputs": [
    {
     "name": "stdout",
     "output_type": "stream",
     "text": [
      "The elements of the list a is : [5, 7, 56.65, 'Tuesday', 'Hi', 'Today', 78.98]\n"
     ]
    }
   ],
   "source": [
    "# Add 'Today' at 5th position\n",
    "a.insert(5,'Today')\n",
    "print(\"The elements of the list a is :\",a)"
   ]
  },
  {
   "cell_type": "code",
   "execution_count": 18,
   "id": "01988865",
   "metadata": {},
   "outputs": [
    {
     "name": "stdout",
     "output_type": "stream",
     "text": [
      "The elements of the list a is : [5, 7, 56.65, 'Tuesday', 'Hi', 'Today', 78.98, 'Today']\n"
     ]
    }
   ],
   "source": [
    "# Add 'Today' at 500th position, it will go to the last position\n",
    "a.insert(500,'Today')\n",
    "print(\"The elements of the list a is :\",a)"
   ]
  },
  {
   "cell_type": "code",
   "execution_count": null,
   "id": "430fedcf",
   "metadata": {},
   "outputs": [],
   "source": [
    "# extend()\n",
    "# Adds the elements of given list to the current list\n",
    "# Syntax : List_1.extend(List_2)\n",
    "# Adds the element of list_2 to list_1"
   ]
  },
  {
   "cell_type": "code",
   "execution_count": 19,
   "id": "4d99f70d",
   "metadata": {},
   "outputs": [
    {
     "data": {
      "text/plain": [
       "[5, 7, 56.65, 'Tuesday', 'Hi', 'Today', 78.98, 'Today']"
      ]
     },
     "execution_count": 19,
     "metadata": {},
     "output_type": "execute_result"
    }
   ],
   "source": [
    "a"
   ]
  },
  {
   "cell_type": "code",
   "execution_count": 22,
   "id": "037bb522",
   "metadata": {},
   "outputs": [
    {
     "data": {
      "text/plain": [
       "['Red', 'Blue', 'Green']"
      ]
     },
     "execution_count": 22,
     "metadata": {},
     "output_type": "execute_result"
    }
   ],
   "source": [
    "b=['Red','Blue','Green']\n",
    "b"
   ]
  },
  {
   "cell_type": "code",
   "execution_count": 23,
   "id": "0c34d679",
   "metadata": {},
   "outputs": [
    {
     "name": "stdout",
     "output_type": "stream",
     "text": [
      "The elements of a after extend operation is : [5, 7, 56.65, 'Tuesday', 'Hi', 'Today', 78.98, 'Today', 'Red', 'Blue', 'Green']\n"
     ]
    }
   ],
   "source": [
    "a.extend(b)\n",
    "print(\"The elements of a after extend operation is :\",a)"
   ]
  },
  {
   "cell_type": "code",
   "execution_count": 24,
   "id": "cf3d54da",
   "metadata": {},
   "outputs": [
    {
     "name": "stdout",
     "output_type": "stream",
     "text": [
      "['Red', 'Blue', 'Green']\n"
     ]
    }
   ],
   "source": [
    "print(b)"
   ]
  },
  {
   "cell_type": "code",
   "execution_count": 30,
   "id": "e7e11cec",
   "metadata": {},
   "outputs": [
    {
     "name": "stdout",
     "output_type": "stream",
     "text": [
      "The elements from 2nd to 6th: [56.65, 'Tuesday', 'Hi', 'Today']\n",
      "The elements from 5th: ['Today', 78.98, 'Today', 'Red', 'Blue', 'Green']\n",
      "The elements till 3rd: [5, 7, 56.65]\n",
      "the last but one element of the list is: Blue\n"
     ]
    }
   ],
   "source": [
    "# Slicing / Indexing\n",
    "# Get the elements from 2nd position to 6th position\n",
    "print(\"The elements from 2nd to 6th:\",a[2:6])\n",
    "# Get all the elements starting from 5th position\n",
    "print(\"The elements from 5th:\",a[5:])\n",
    "# Get all the elements till the 3rd position\n",
    "print(\"The elements till 3rd:\",a[:3])\n",
    "# Get the last but one element of the list\n",
    "print(\"the last but one element of the list is:\",a[-2])\n"
   ]
  },
  {
   "cell_type": "code",
   "execution_count": 26,
   "id": "3d7b1706",
   "metadata": {},
   "outputs": [
    {
     "data": {
      "text/plain": [
       "[56.65, 'Tuesday', 'Hi', 'Today']"
      ]
     },
     "execution_count": 26,
     "metadata": {},
     "output_type": "execute_result"
    }
   ],
   "source": [
    "a[2:6]"
   ]
  },
  {
   "cell_type": "code",
   "execution_count": 32,
   "id": "7b0ee5cc",
   "metadata": {},
   "outputs": [
    {
     "name": "stdout",
     "output_type": "stream",
     "text": [
      "the element Tuesday is at the index : 3\n"
     ]
    }
   ],
   "source": [
    "# index(x) => returns the index position of the given value from the list\n",
    "\n",
    "ind_res=a.index('Tuesday')\n",
    "print(\"the element Tuesday is at the index :\",ind_res)"
   ]
  },
  {
   "cell_type": "code",
   "execution_count": 33,
   "id": "b1226a49",
   "metadata": {},
   "outputs": [
    {
     "data": {
      "text/plain": [
       "[5, 7, 56.65, 'Tuesday', 'Hi', 'Today', 78.98, 'Today', 'Red', 'Blue', 'Green']"
      ]
     },
     "execution_count": 33,
     "metadata": {},
     "output_type": "execute_result"
    }
   ],
   "source": [
    "a"
   ]
  },
  {
   "cell_type": "code",
   "execution_count": 36,
   "id": "87b5b15e",
   "metadata": {},
   "outputs": [
    {
     "data": {
      "text/plain": [
       "5"
      ]
     },
     "execution_count": 36,
     "metadata": {},
     "output_type": "execute_result"
    }
   ],
   "source": [
    "a.index('Today')"
   ]
  },
  {
   "cell_type": "code",
   "execution_count": 37,
   "id": "0134bfae",
   "metadata": {},
   "outputs": [
    {
     "data": {
      "text/plain": [
       "[5, 7, 56.65, 'Tuesday', 'Hi', 'Today', 78.98, 'Today', 'Red', 'Blue', 'Green']"
      ]
     },
     "execution_count": 37,
     "metadata": {},
     "output_type": "execute_result"
    }
   ],
   "source": [
    "# count(x) => returns the number of times a given value is present in the list\n",
    "a"
   ]
  },
  {
   "cell_type": "code",
   "execution_count": 38,
   "id": "714753af",
   "metadata": {},
   "outputs": [
    {
     "data": {
      "text/plain": [
       "1"
      ]
     },
     "execution_count": 38,
     "metadata": {},
     "output_type": "execute_result"
    }
   ],
   "source": [
    "a.count(7)"
   ]
  },
  {
   "cell_type": "code",
   "execution_count": 41,
   "id": "f4a46a80",
   "metadata": {},
   "outputs": [
    {
     "data": {
      "text/plain": [
       "2"
      ]
     },
     "execution_count": 41,
     "metadata": {},
     "output_type": "execute_result"
    }
   ],
   "source": [
    "a.count('Today')"
   ]
  },
  {
   "cell_type": "code",
   "execution_count": 42,
   "id": "7e9455ac",
   "metadata": {},
   "outputs": [
    {
     "data": {
      "text/plain": [
       "[5, 7, 56.65, 'Tuesday', 'Hi', 'Today', 78.98, 'Today', 'Red', 'Blue', 'Green']"
      ]
     },
     "execution_count": 42,
     "metadata": {},
     "output_type": "execute_result"
    }
   ],
   "source": [
    "# pop()\n",
    "# By default,pop() removes the last element of list & returns the element\n",
    "# a.pop(index) remove the element at the index position\n",
    "a"
   ]
  },
  {
   "cell_type": "code",
   "execution_count": 43,
   "id": "af69f7f7",
   "metadata": {},
   "outputs": [
    {
     "data": {
      "text/plain": [
       "'Green'"
      ]
     },
     "execution_count": 43,
     "metadata": {},
     "output_type": "execute_result"
    }
   ],
   "source": [
    "a.pop()"
   ]
  },
  {
   "cell_type": "code",
   "execution_count": 44,
   "id": "8b11a4ca",
   "metadata": {},
   "outputs": [
    {
     "data": {
      "text/plain": [
       "[5, 7, 56.65, 'Tuesday', 'Hi', 'Today', 78.98, 'Today', 'Red', 'Blue']"
      ]
     },
     "execution_count": 44,
     "metadata": {},
     "output_type": "execute_result"
    }
   ],
   "source": [
    "a"
   ]
  },
  {
   "cell_type": "code",
   "execution_count": 45,
   "id": "828415c1",
   "metadata": {},
   "outputs": [
    {
     "data": {
      "text/plain": [
       "56.65"
      ]
     },
     "execution_count": 45,
     "metadata": {},
     "output_type": "execute_result"
    }
   ],
   "source": [
    "a.pop(2)"
   ]
  },
  {
   "cell_type": "code",
   "execution_count": 46,
   "id": "6de08a83",
   "metadata": {},
   "outputs": [
    {
     "data": {
      "text/plain": [
       "[5, 7, 'Tuesday', 'Hi', 'Today', 78.98, 'Today', 'Red', 'Blue']"
      ]
     },
     "execution_count": 46,
     "metadata": {},
     "output_type": "execute_result"
    }
   ],
   "source": [
    "a"
   ]
  },
  {
   "cell_type": "code",
   "execution_count": null,
   "id": "b18b4528",
   "metadata": {},
   "outputs": [],
   "source": [
    "# remove(x) => removes the value x from the list"
   ]
  },
  {
   "cell_type": "code",
   "execution_count": 47,
   "id": "6ad0ff40",
   "metadata": {},
   "outputs": [],
   "source": [
    "a.remove(5)"
   ]
  },
  {
   "cell_type": "code",
   "execution_count": 48,
   "id": "abca77a9",
   "metadata": {},
   "outputs": [
    {
     "data": {
      "text/plain": [
       "[7, 'Tuesday', 'Hi', 'Today', 78.98, 'Today', 'Red', 'Blue']"
      ]
     },
     "execution_count": 48,
     "metadata": {},
     "output_type": "execute_result"
    }
   ],
   "source": [
    "a"
   ]
  },
  {
   "cell_type": "code",
   "execution_count": 49,
   "id": "aa57ec72",
   "metadata": {},
   "outputs": [],
   "source": [
    "a.remove('Today')"
   ]
  },
  {
   "cell_type": "code",
   "execution_count": 50,
   "id": "e6dca0a0",
   "metadata": {},
   "outputs": [
    {
     "data": {
      "text/plain": [
       "[7, 'Tuesday', 'Hi', 78.98, 'Today', 'Red', 'Blue']"
      ]
     },
     "execution_count": 50,
     "metadata": {},
     "output_type": "execute_result"
    }
   ],
   "source": [
    "a"
   ]
  },
  {
   "cell_type": "code",
   "execution_count": 51,
   "id": "724c32a9",
   "metadata": {},
   "outputs": [
    {
     "data": {
      "text/plain": [
       "2417983839552"
      ]
     },
     "execution_count": 51,
     "metadata": {},
     "output_type": "execute_result"
    }
   ],
   "source": [
    "# id()\n",
    "# id gives the memory location of the variable\n",
    "id(a)"
   ]
  },
  {
   "cell_type": "code",
   "execution_count": 52,
   "id": "1f8c8d8e",
   "metadata": {},
   "outputs": [],
   "source": [
    "a.clear()"
   ]
  },
  {
   "cell_type": "code",
   "execution_count": 53,
   "id": "251c1280",
   "metadata": {},
   "outputs": [
    {
     "data": {
      "text/plain": [
       "[]"
      ]
     },
     "execution_count": 53,
     "metadata": {},
     "output_type": "execute_result"
    }
   ],
   "source": [
    "a"
   ]
  },
  {
   "cell_type": "code",
   "execution_count": 54,
   "id": "de4b6e9e",
   "metadata": {},
   "outputs": [
    {
     "name": "stdout",
     "output_type": "stream",
     "text": [
      "[]\n"
     ]
    }
   ],
   "source": [
    "print(a)"
   ]
  },
  {
   "cell_type": "code",
   "execution_count": 55,
   "id": "13365be5",
   "metadata": {},
   "outputs": [
    {
     "data": {
      "text/plain": [
       "2417983839552"
      ]
     },
     "execution_count": 55,
     "metadata": {},
     "output_type": "execute_result"
    }
   ],
   "source": [
    "# clear() ==> Removes all the element from the list, but the list still exists in the memory.\n",
    "id(a)"
   ]
  },
  {
   "cell_type": "code",
   "execution_count": null,
   "id": "b86d7d97",
   "metadata": {},
   "outputs": [],
   "source": [
    "# del => delete the entire variable/object"
   ]
  },
  {
   "cell_type": "code",
   "execution_count": 56,
   "id": "1c8f82bd",
   "metadata": {},
   "outputs": [
    {
     "data": {
      "text/plain": [
       "['Red', 'Blue', 'Green']"
      ]
     },
     "execution_count": 56,
     "metadata": {},
     "output_type": "execute_result"
    }
   ],
   "source": [
    "b"
   ]
  },
  {
   "cell_type": "code",
   "execution_count": 57,
   "id": "04efd93c",
   "metadata": {},
   "outputs": [],
   "source": [
    "del b"
   ]
  },
  {
   "cell_type": "code",
   "execution_count": 58,
   "id": "1d3817a5",
   "metadata": {},
   "outputs": [
    {
     "ename": "NameError",
     "evalue": "name 'b' is not defined",
     "output_type": "error",
     "traceback": [
      "\u001b[1;31m---------------------------------------------------------------------------\u001b[0m",
      "\u001b[1;31mNameError\u001b[0m                                 Traceback (most recent call last)",
      "\u001b[1;32m~\\AppData\\Local\\Temp\\ipykernel_6732\\1685013873.py\u001b[0m in \u001b[0;36m<module>\u001b[1;34m\u001b[0m\n\u001b[1;32m----> 1\u001b[1;33m \u001b[0mb\u001b[0m\u001b[1;33m\u001b[0m\u001b[1;33m\u001b[0m\u001b[0m\n\u001b[0m",
      "\u001b[1;31mNameError\u001b[0m: name 'b' is not defined"
     ]
    }
   ],
   "source": [
    "b"
   ]
  },
  {
   "cell_type": "code",
   "execution_count": 59,
   "id": "caa82b35",
   "metadata": {},
   "outputs": [
    {
     "ename": "NameError",
     "evalue": "name 'b' is not defined",
     "output_type": "error",
     "traceback": [
      "\u001b[1;31m---------------------------------------------------------------------------\u001b[0m",
      "\u001b[1;31mNameError\u001b[0m                                 Traceback (most recent call last)",
      "\u001b[1;32m~\\AppData\\Local\\Temp\\ipykernel_6732\\1651017570.py\u001b[0m in \u001b[0;36m<module>\u001b[1;34m\u001b[0m\n\u001b[1;32m----> 1\u001b[1;33m \u001b[0mid\u001b[0m\u001b[1;33m(\u001b[0m\u001b[0mb\u001b[0m\u001b[1;33m)\u001b[0m\u001b[1;33m\u001b[0m\u001b[1;33m\u001b[0m\u001b[0m\n\u001b[0m",
      "\u001b[1;31mNameError\u001b[0m: name 'b' is not defined"
     ]
    }
   ],
   "source": [
    "id(b)"
   ]
  },
  {
   "cell_type": "code",
   "execution_count": 61,
   "id": "d7542b58",
   "metadata": {},
   "outputs": [],
   "source": [
    "a=['Red','Green',234,89.986]"
   ]
  },
  {
   "cell_type": "code",
   "execution_count": 62,
   "id": "83aca092",
   "metadata": {},
   "outputs": [],
   "source": [
    "b=a.copy()"
   ]
  },
  {
   "cell_type": "code",
   "execution_count": 63,
   "id": "d82863fc",
   "metadata": {},
   "outputs": [
    {
     "name": "stdout",
     "output_type": "stream",
     "text": [
      "The elements of a is: ['Red', 'Green', 234, 89.986]\n",
      "The elements of b is: ['Red', 'Green', 234, 89.986]\n"
     ]
    }
   ],
   "source": [
    "print(\"The elements of a is:\",a)\n",
    "print(\"The elements of b is:\",b)"
   ]
  },
  {
   "cell_type": "code",
   "execution_count": 64,
   "id": "954e9663",
   "metadata": {},
   "outputs": [],
   "source": [
    "a.clear()"
   ]
  },
  {
   "cell_type": "code",
   "execution_count": 65,
   "id": "9928d569",
   "metadata": {},
   "outputs": [
    {
     "name": "stdout",
     "output_type": "stream",
     "text": [
      "The elements of a is: []\n",
      "The elements of b is: ['Red', 'Green', 234, 89.986]\n"
     ]
    }
   ],
   "source": [
    "print(\"The elements of a is:\",a)\n",
    "print(\"The elements of b is:\",b)"
   ]
  },
  {
   "cell_type": "code",
   "execution_count": 74,
   "id": "3a71cf03",
   "metadata": {},
   "outputs": [
    {
     "name": "stdout",
     "output_type": "stream",
     "text": [
      "The value of a is : [8, 5, 7, 8, 4] and x is : 8\n",
      "[5, 7, 8, 4]\n"
     ]
    }
   ],
   "source": [
    "listn=[8,5,7,8,4]; # Global variable\n",
    "def removal(a,x):\n",
    "    print(\"The value of a is :\",a,\"and x is :\",x)\n",
    "    list1=a\n",
    "    if x in a:  # list1: local variable\n",
    "        list1.remove(x)\n",
    "    return a\n",
    "\n",
    "\n",
    "res=removal(listn,8)\n",
    "print(res)"
   ]
  },
  {
   "cell_type": "code",
   "execution_count": 75,
   "id": "f218c5ef",
   "metadata": {},
   "outputs": [
    {
     "data": {
      "text/plain": [
       "[5, 7, 4]"
      ]
     },
     "execution_count": 75,
     "metadata": {},
     "output_type": "execute_result"
    }
   ],
   "source": [
    "list1"
   ]
  },
  {
   "cell_type": "code",
   "execution_count": 76,
   "id": "c2fe6c09",
   "metadata": {},
   "outputs": [
    {
     "data": {
      "text/plain": [
       "[5, 7, 8, 4]"
      ]
     },
     "execution_count": 76,
     "metadata": {},
     "output_type": "execute_result"
    }
   ],
   "source": [
    "listn"
   ]
  },
  {
   "cell_type": "code",
   "execution_count": null,
   "id": "3b028795",
   "metadata": {},
   "outputs": [],
   "source": [
    "# input() => This is used to get the input directly from the user\n",
    "# That input is always taken as string data type."
   ]
  },
  {
   "cell_type": "code",
   "execution_count": 77,
   "id": "ec0f4635",
   "metadata": {},
   "outputs": [
    {
     "name": "stdout",
     "output_type": "stream",
     "text": [
      "Enter a number:89\n"
     ]
    }
   ],
   "source": [
    "a=input(\"Enter a number:\")"
   ]
  },
  {
   "cell_type": "code",
   "execution_count": 78,
   "id": "5c950e17",
   "metadata": {},
   "outputs": [
    {
     "data": {
      "text/plain": [
       "'89'"
      ]
     },
     "execution_count": 78,
     "metadata": {},
     "output_type": "execute_result"
    }
   ],
   "source": [
    "a"
   ]
  },
  {
   "cell_type": "code",
   "execution_count": null,
   "id": "f44499e8",
   "metadata": {},
   "outputs": [],
   "source": [
    "# sort() => This is used to sort the list elements.\n",
    "# The sorting is done on the original list itself.\n",
    "# Does not return any output."
   ]
  },
  {
   "cell_type": "code",
   "execution_count": 81,
   "id": "835c94d5",
   "metadata": {},
   "outputs": [],
   "source": [
    "a = [40,23,10,6,34]\n",
    "b = [40,23,10,6,34]"
   ]
  },
  {
   "cell_type": "code",
   "execution_count": 82,
   "id": "cf9cff37",
   "metadata": {},
   "outputs": [],
   "source": [
    "a.sort()"
   ]
  },
  {
   "cell_type": "code",
   "execution_count": 83,
   "id": "449449f4",
   "metadata": {},
   "outputs": [
    {
     "name": "stdout",
     "output_type": "stream",
     "text": [
      "The values of a is: [6, 10, 23, 34, 40]\n"
     ]
    }
   ],
   "source": [
    "print(\"The values of a is:\",a)"
   ]
  },
  {
   "cell_type": "code",
   "execution_count": 84,
   "id": "ee3fb6e1",
   "metadata": {},
   "outputs": [],
   "source": [
    "# sorted(list_name)\n",
    "# returns the sorted result\n",
    "# The original list is not changed\n",
    "b=sorted(b)"
   ]
  },
  {
   "cell_type": "code",
   "execution_count": 85,
   "id": "896ea719",
   "metadata": {},
   "outputs": [
    {
     "data": {
      "text/plain": [
       "[6, 10, 23, 34, 40]"
      ]
     },
     "execution_count": 85,
     "metadata": {},
     "output_type": "execute_result"
    }
   ],
   "source": [
    "b"
   ]
  },
  {
   "cell_type": "code",
   "execution_count": 86,
   "id": "7fd4972f",
   "metadata": {},
   "outputs": [
    {
     "name": "stdout",
     "output_type": "stream",
     "text": [
      "The elements of b is: [6, 10, 23, 34, 40]\n"
     ]
    }
   ],
   "source": [
    "# reverse()\n",
    "print(\"The elements of b is:\",b)"
   ]
  },
  {
   "cell_type": "code",
   "execution_count": 87,
   "id": "f444f7d1",
   "metadata": {},
   "outputs": [],
   "source": [
    "b.reverse()"
   ]
  },
  {
   "cell_type": "code",
   "execution_count": 88,
   "id": "8960374d",
   "metadata": {},
   "outputs": [
    {
     "name": "stdout",
     "output_type": "stream",
     "text": [
      "The elements of b after reverse is: [40, 34, 23, 10, 6]\n"
     ]
    }
   ],
   "source": [
    "print(\"The elements of b after reverse is:\",b)"
   ]
  },
  {
   "cell_type": "code",
   "execution_count": 89,
   "id": "cf48ff82",
   "metadata": {},
   "outputs": [
    {
     "name": "stdout",
     "output_type": "stream",
     "text": [
      "The elements of b after reverse is: [6, 10, 23, 34, 40]\n"
     ]
    }
   ],
   "source": [
    "b.reverse()\n",
    "print(\"The elements of b after reverse is:\",b)"
   ]
  },
  {
   "cell_type": "code",
   "execution_count": null,
   "id": "16bf5d14",
   "metadata": {},
   "outputs": [],
   "source": [
    "# in\n",
    "# in is used to check if any element is present in a list\n",
    "# returns boolean / bool : true or false\n",
    "#                           1       0"
   ]
  },
  {
   "cell_type": "code",
   "execution_count": 90,
   "id": "8bc7ef33",
   "metadata": {},
   "outputs": [
    {
     "data": {
      "text/plain": [
       "[6, 10, 23, 34, 40]"
      ]
     },
     "execution_count": 90,
     "metadata": {},
     "output_type": "execute_result"
    }
   ],
   "source": [
    "a"
   ]
  },
  {
   "cell_type": "code",
   "execution_count": 91,
   "id": "4dddbdee",
   "metadata": {},
   "outputs": [
    {
     "data": {
      "text/plain": [
       "True"
      ]
     },
     "execution_count": 91,
     "metadata": {},
     "output_type": "execute_result"
    }
   ],
   "source": [
    "10 in a"
   ]
  },
  {
   "cell_type": "code",
   "execution_count": 92,
   "id": "7d3c1df6",
   "metadata": {},
   "outputs": [
    {
     "data": {
      "text/plain": [
       "False"
      ]
     },
     "execution_count": 92,
     "metadata": {},
     "output_type": "execute_result"
    }
   ],
   "source": [
    "89 in a"
   ]
  },
  {
   "cell_type": "code",
   "execution_count": null,
   "id": "ea402843",
   "metadata": {},
   "outputs": [],
   "source": [
    "# not in\n",
    "# in is used to check if any given element is not present in a list\n",
    "# returns boolean / bool : true or false\n",
    "#                           1       0"
   ]
  },
  {
   "cell_type": "code",
   "execution_count": 93,
   "id": "1db86b3d",
   "metadata": {},
   "outputs": [
    {
     "data": {
      "text/plain": [
       "False"
      ]
     },
     "execution_count": 93,
     "metadata": {},
     "output_type": "execute_result"
    }
   ],
   "source": [
    "10 not in a"
   ]
  },
  {
   "cell_type": "code",
   "execution_count": null,
   "id": "29ab0af5",
   "metadata": {},
   "outputs": [],
   "source": [
    "# enumerate\n",
    "# for variable_name in iterable:\n",
    "#    print(variable_name)"
   ]
  },
  {
   "cell_type": "code",
   "execution_count": 94,
   "id": "ca5084d2",
   "metadata": {},
   "outputs": [
    {
     "data": {
      "text/plain": [
       "[6, 10, 23, 34, 40]"
      ]
     },
     "execution_count": 94,
     "metadata": {},
     "output_type": "execute_result"
    }
   ],
   "source": [
    "a"
   ]
  },
  {
   "cell_type": "code",
   "execution_count": 95,
   "id": "83ce7b8b",
   "metadata": {},
   "outputs": [
    {
     "name": "stdout",
     "output_type": "stream",
     "text": [
      "16\n",
      "20\n",
      "33\n",
      "44\n",
      "50\n"
     ]
    }
   ],
   "source": [
    "for x in a:\n",
    "    print(x+10)"
   ]
  },
  {
   "cell_type": "code",
   "execution_count": 98,
   "id": "8416bf64",
   "metadata": {},
   "outputs": [
    {
     "name": "stdout",
     "output_type": "stream",
     "text": [
      "16\n",
      "20\n",
      "33\n",
      "44\n",
      "50\n"
     ]
    }
   ],
   "source": [
    "for ind, x in enumerate(a):\n",
    "    print(x+10)"
   ]
  },
  {
   "cell_type": "code",
   "execution_count": 99,
   "id": "a9b87193",
   "metadata": {},
   "outputs": [],
   "source": [
    "\n",
    "# create a list of squares\n",
    "# output should like [4,9,16,36]\n",
    "\n",
    "# Hints:\n",
    "# 1.Take an empty list to capture the result\n",
    "# 2. Start a for loop with a\n",
    "# 3. Inside the loop, calculate the square\n",
    "# 4. Store the result in a new list\n",
    "# 5. Outside the for loop, print the new list to check the result"
   ]
  },
  {
   "cell_type": "code",
   "execution_count": 103,
   "id": "ae268ddc",
   "metadata": {},
   "outputs": [
    {
     "name": "stdout",
     "output_type": "stream",
     "text": [
      "The squares is: [4, 9, 16, 36, 25]\n"
     ]
    }
   ],
   "source": [
    "a = [2,3,4,6,5] #input list\n",
    "output = [] #output list\n",
    "for x in a:\n",
    "    sq_res=x*x\n",
    "    output.append(sq_res)\n",
    "    \n",
    "print(\"The squares is:\",output)"
   ]
  },
  {
   "cell_type": "code",
   "execution_count": null,
   "id": "874b3725",
   "metadata": {},
   "outputs": [],
   "source": [
    "# len（） => length\n",
    "# Counts the total number of elements inside a str, list, tuple\n",
    "# returns the total number of elements\n",
    "# Syntax: len(variable)"
   ]
  },
  {
   "cell_type": "code",
   "execution_count": 104,
   "id": "bfeb80af",
   "metadata": {},
   "outputs": [
    {
     "data": {
      "text/plain": [
       "5"
      ]
     },
     "execution_count": 104,
     "metadata": {},
     "output_type": "execute_result"
    }
   ],
   "source": [
    "len(a)"
   ]
  },
  {
   "cell_type": "code",
   "execution_count": 105,
   "id": "8a08d89f",
   "metadata": {},
   "outputs": [
    {
     "data": {
      "text/plain": [
       "5"
      ]
     },
     "execution_count": 105,
     "metadata": {},
     "output_type": "execute_result"
    }
   ],
   "source": [
    "len('Hello')"
   ]
  },
  {
   "cell_type": "code",
   "execution_count": null,
   "id": "5dec50cb",
   "metadata": {},
   "outputs": [],
   "source": [
    "# Strings "
   ]
  },
  {
   "cell_type": "code",
   "execution_count": 110,
   "id": "d6e8bc86",
   "metadata": {},
   "outputs": [
    {
     "data": {
      "text/plain": [
       "True"
      ]
     },
     "execution_count": 110,
     "metadata": {},
     "output_type": "execute_result"
    }
   ],
   "source": [
    "str1 = 'Hello'\n",
    "# startswith(x)\n",
    "# Returns boolean / bool: True or False\n",
    "str1.startswith('H')\n",
    "\n",
    "\n",
    "\n"
   ]
  },
  {
   "cell_type": "code",
   "execution_count": 111,
   "id": "13aa254e",
   "metadata": {},
   "outputs": [
    {
     "data": {
      "text/plain": [
       "False"
      ]
     },
     "execution_count": 111,
     "metadata": {},
     "output_type": "execute_result"
    }
   ],
   "source": [
    "# endswith(x)\n",
    "str1.endswith('H')"
   ]
  },
  {
   "cell_type": "code",
   "execution_count": null,
   "id": "86b1ccba",
   "metadata": {},
   "outputs": [],
   "source": []
  }
 ],
 "metadata": {
  "kernelspec": {
   "display_name": "Python 3 (ipykernel)",
   "language": "python",
   "name": "python3"
  },
  "language_info": {
   "codemirror_mode": {
    "name": "ipython",
    "version": 3
   },
   "file_extension": ".py",
   "mimetype": "text/x-python",
   "name": "python",
   "nbconvert_exporter": "python",
   "pygments_lexer": "ipython3",
   "version": "3.9.13"
  }
 },
 "nbformat": 4,
 "nbformat_minor": 5
}
