{
 "cells": [
  {
   "cell_type": "code",
   "execution_count": 18,
   "id": "de6e7502",
   "metadata": {},
   "outputs": [
    {
     "data": {
      "text/plain": [
       "' Define a string -- Commented line\\n-- SQL\\nMulti line comment\\n'"
      ]
     },
     "execution_count": 18,
     "metadata": {},
     "output_type": "execute_result"
    }
   ],
   "source": [
    "''' Define a string -- Commented line\n",
    "-- SQL\n",
    "Multi line comment\n",
    "'''\n",
    "#\n"
   ]
  },
  {
   "cell_type": "code",
   "execution_count": 15,
   "id": "f19c419d",
   "metadata": {},
   "outputs": [],
   "source": [
    "# Define a string\n",
    "# Variable_Name=Value_of_string\n",
    "\n",
    "a='Learning python'"
   ]
  },
  {
   "cell_type": "code",
   "execution_count": 16,
   "id": "ae0e4d9f",
   "metadata": {},
   "outputs": [
    {
     "name": "stdout",
     "output_type": "stream",
     "text": [
      "Learning python\n"
     ]
    }
   ],
   "source": [
    "print(a)"
   ]
  },
  {
   "cell_type": "code",
   "execution_count": 17,
   "id": "36bfe730",
   "metadata": {},
   "outputs": [
    {
     "name": "stdout",
     "output_type": "stream",
     "text": [
      "The value of a is : Learning python\n"
     ]
    }
   ],
   "source": [
    "print(\"The value of a is :\",a)"
   ]
  },
  {
   "cell_type": "code",
   "execution_count": null,
   "id": "72706272",
   "metadata": {},
   "outputs": [],
   "source": [
    "#Indexing\n",
    "#1st Case => a[index] => Gives the character at the given index\n",
    "#2nd Case => a[start_index:end_index] => gives all the characters between the start and end index\n",
    "#3rd case=> a[strtIndex:endInd:step] => Gives the characters within the index range by using step size"
   ]
  },
  {
   "cell_type": "code",
   "execution_count": 19,
   "id": "52772b67",
   "metadata": {},
   "outputs": [],
   "source": [
    "a='Learning Python'"
   ]
  },
  {
   "cell_type": "code",
   "execution_count": 63,
   "id": "fb22053e",
   "metadata": {},
   "outputs": [
    {
     "name": "stdout",
     "output_type": "stream",
     "text": [
      "Element at the 5th index is : i\n",
      "Element at the 5th index is : in\n"
     ]
    }
   ],
   "source": [
    "a='Learning Python'\n",
    "#Get the element at 5th index\n",
    "print('Element at the 5th index is :',a[5])\n",
    "print('Element at the 5th index is :',a[5:7])"
   ]
  },
  {
   "cell_type": "code",
   "execution_count": 22,
   "id": "80c5f36b",
   "metadata": {},
   "outputs": [
    {
     "name": "stdout",
     "output_type": "stream",
     "text": [
      "Substring from 2 to 10 indices is:  arning P\n",
      "Substring from 2 to 10 indices with step size of 3 is:  ai \n"
     ]
    }
   ],
   "source": [
    "#Get the substring from 2 to 10 index\n",
    "print('Substring from 2 to 10 indices is: ',a[2:10])\n",
    "\n",
    "#start index :2, end index 10, step size is 3\n",
    "print('Substring from 2 to 10 indices with step size of 3 is: ',a[2:10:3])"
   ]
  },
  {
   "cell_type": "code",
   "execution_count": 53,
   "id": "717ca12d",
   "metadata": {},
   "outputs": [
    {
     "name": "stdout",
     "output_type": "stream",
     "text": [
      "LOWE\n",
      "E\n",
      "LW\n",
      "F\n",
      "FL\n",
      "FLO\n",
      "FOE\n",
      "F\n",
      "FLOW\n",
      "LOW\n",
      "hi, \n"
     ]
    }
   ],
   "source": [
    "a='FLOWER'\n",
    "print (a[-5:-1])\n",
    "print (a[-2])\n",
    "print (a[-5:-1:2])\n",
    "print (a[0:1])\n",
    "print (a[0:2])\n",
    "print (a[0:3])\n",
    "print (a[0:5:2])\n",
    "print (a[0:1:2])\n",
    "print (a[0:4])\n",
    "print (a[1:-2])\n",
    "print ('hi,',a[1:-6])"
   ]
  },
  {
   "cell_type": "code",
   "execution_count": 54,
   "id": "4ff0083d",
   "metadata": {},
   "outputs": [
    {
     "name": "stdout",
     "output_type": "stream",
     "text": [
      "Answer\n",
      "True\n"
     ]
    }
   ],
   "source": [
    "#!/usr/bin/python\n",
    "# -*- coding: UTF-8 -*-\n",
    "# 文件名：test.py\n",
    "\n",
    "if True:\n",
    "    print (\"Answer\")\n",
    "    print (\"True\")\n",
    "else:\n",
    "    print (\"Answer\")\n",
    "    # 没有严格缩进，在执行时会报错\n",
    "    print (\"False\")"
   ]
  }
 ],
 "metadata": {
  "kernelspec": {
   "display_name": "Python 3 (ipykernel)",
   "language": "python",
   "name": "python3"
  },
  "language_info": {
   "codemirror_mode": {
    "name": "ipython",
    "version": 3
   },
   "file_extension": ".py",
   "mimetype": "text/x-python",
   "name": "python",
   "nbconvert_exporter": "python",
   "pygments_lexer": "ipython3",
   "version": "3.9.13"
  }
 },
 "nbformat": 4,
 "nbformat_minor": 5
}
