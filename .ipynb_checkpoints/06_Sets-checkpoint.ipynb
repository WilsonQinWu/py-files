{
 "cells": [
  {
   "cell_type": "code",
   "execution_count": null,
   "id": "101945cf",
   "metadata": {},
   "outputs": [],
   "source": [
    "# Set\n",
    "\n",
    "# Heterogenous\n",
    "# Mutable\n",
    "# Does not allow duplicate elements\n",
    "# No order"
   ]
  },
  {
   "cell_type": "code",
   "execution_count": null,
   "id": "807e3361",
   "metadata": {},
   "outputs": [],
   "source": [
    "# Creating a set\n",
    "# 1. set()\n",
    "# 2. {}"
   ]
  },
  {
   "cell_type": "code",
   "execution_count": 1,
   "id": "55949089",
   "metadata": {},
   "outputs": [
    {
     "data": {
      "text/plain": [
       "{'e', 'l', 'p', 't', 'u'}"
      ]
     },
     "execution_count": 1,
     "metadata": {},
     "output_type": "execute_result"
    }
   ],
   "source": [
    "a = set('tuple')\n",
    "a"
   ]
  },
  {
   "cell_type": "code",
   "execution_count": 2,
   "id": "c7169e5b",
   "metadata": {},
   "outputs": [
    {
     "ename": "TypeError",
     "evalue": "set expected at most 1 argument, got 2",
     "output_type": "error",
     "traceback": [
      "\u001b[1;31m---------------------------------------------------------------------------\u001b[0m",
      "\u001b[1;31mTypeError\u001b[0m                                 Traceback (most recent call last)",
      "\u001b[1;32m~\\AppData\\Local\\Temp\\ipykernel_5456\\2644977639.py\u001b[0m in \u001b[0;36m<module>\u001b[1;34m\u001b[0m\n\u001b[1;32m----> 1\u001b[1;33m \u001b[0mb\u001b[0m \u001b[1;33m=\u001b[0m \u001b[0mset\u001b[0m\u001b[1;33m(\u001b[0m\u001b[1;34m'tuple'\u001b[0m\u001b[1;33m,\u001b[0m\u001b[1;34m'list'\u001b[0m\u001b[1;33m)\u001b[0m\u001b[1;33m\u001b[0m\u001b[1;33m\u001b[0m\u001b[0m\n\u001b[0m\u001b[0;32m      2\u001b[0m \u001b[0mb\u001b[0m\u001b[1;33m\u001b[0m\u001b[1;33m\u001b[0m\u001b[0m\n",
      "\u001b[1;31mTypeError\u001b[0m: set expected at most 1 argument, got 2"
     ]
    }
   ],
   "source": [
    "b = set('tuple','list')\n",
    "b"
   ]
  },
  {
   "cell_type": "code",
   "execution_count": 3,
   "id": "c5c23b84",
   "metadata": {},
   "outputs": [
    {
     "data": {
      "text/plain": [
       "{10, 5, 89, 9.999, 'hello', 'hi'}"
      ]
     },
     "execution_count": 3,
     "metadata": {},
     "output_type": "execute_result"
    }
   ],
   "source": [
    "b={89,10,5,89,89,'hi','hello',9.999}\n",
    "b"
   ]
  },
  {
   "cell_type": "code",
   "execution_count": 4,
   "id": "3412162f",
   "metadata": {},
   "outputs": [
    {
     "name": "stdout",
     "output_type": "stream",
     "text": [
      "The elements of the set b is:{89, 'hi', 5, 9.999, 10, 'hello'}\n"
     ]
    }
   ],
   "source": [
    "print(f'The elements of the set b is:{b}')"
   ]
  },
  {
   "cell_type": "code",
   "execution_count": null,
   "id": "c5a53547",
   "metadata": {},
   "outputs": [],
   "source": [
    "# updating a set\n",
    "# 1. add() => No returns, added to the original set\n",
    "# 2.update()\n",
    "# 3. union()\n",
    "# 4. intersection"
   ]
  },
  {
   "cell_type": "code",
   "execution_count": 5,
   "id": "79151777",
   "metadata": {},
   "outputs": [],
   "source": [
    "# Add a single element to a set\n",
    "b.add('red')"
   ]
  },
  {
   "cell_type": "code",
   "execution_count": 6,
   "id": "65a686e8",
   "metadata": {},
   "outputs": [
    {
     "data": {
      "text/plain": [
       "{10, 5, 89, 9.999, 'hello', 'hi', 'red'}"
      ]
     },
     "execution_count": 6,
     "metadata": {},
     "output_type": "execute_result"
    }
   ],
   "source": [
    "b"
   ]
  },
  {
   "cell_type": "code",
   "execution_count": 7,
   "id": "919f9e77",
   "metadata": {},
   "outputs": [
    {
     "data": {
      "text/plain": [
       "{10, 5, 89, 9.999, 'hello', 'hi', 'red'}"
      ]
     },
     "execution_count": 7,
     "metadata": {},
     "output_type": "execute_result"
    }
   ],
   "source": [
    "# update(): To add more than 1 element to set\n",
    "# No return\n",
    "# Adds the elements to the original set\n",
    "b"
   ]
  },
  {
   "cell_type": "code",
   "execution_count": 8,
   "id": "3fc3a37b",
   "metadata": {},
   "outputs": [
    {
     "data": {
      "text/plain": [
       "{10, 5, 89, 9.999, 'blue', 'hello', 'hi', 'orange', 'red', 'yellow'}"
      ]
     },
     "execution_count": 8,
     "metadata": {},
     "output_type": "execute_result"
    }
   ],
   "source": [
    "b.update({'blue','yellow','orange'})\n",
    "b"
   ]
  },
  {
   "cell_type": "code",
   "execution_count": 15,
   "id": "a15b5753",
   "metadata": {},
   "outputs": [],
   "source": [
    "# union\n",
    "# Returns the result\n",
    "# The original set is not \n",
    "a={2,3,4,10}\n",
    "b={10,20,30}"
   ]
  },
  {
   "cell_type": "code",
   "execution_count": 10,
   "id": "935a929f",
   "metadata": {},
   "outputs": [
    {
     "data": {
      "text/plain": [
       "{2, 3, 4, 10, 20, 30}"
      ]
     },
     "execution_count": 10,
     "metadata": {},
     "output_type": "execute_result"
    }
   ],
   "source": [
    "a.union(b)"
   ]
  },
  {
   "cell_type": "code",
   "execution_count": 16,
   "id": "0f209af0",
   "metadata": {},
   "outputs": [
    {
     "data": {
      "text/plain": [
       "{10}"
      ]
     },
     "execution_count": 16,
     "metadata": {},
     "output_type": "execute_result"
    }
   ],
   "source": [
    "# intersection\n",
    "a.intersection(b)"
   ]
  },
  {
   "cell_type": "code",
   "execution_count": 17,
   "id": "f78f22f0",
   "metadata": {},
   "outputs": [
    {
     "data": {
      "text/plain": [
       "{2, 3, 4}"
      ]
     },
     "execution_count": 17,
     "metadata": {},
     "output_type": "execute_result"
    }
   ],
   "source": [
    "# difference\n",
    "a.difference(b)"
   ]
  },
  {
   "cell_type": "code",
   "execution_count": 18,
   "id": "cdff2293",
   "metadata": {},
   "outputs": [
    {
     "data": {
      "text/plain": [
       "{2, 3, 4}"
      ]
     },
     "execution_count": 18,
     "metadata": {},
     "output_type": "execute_result"
    }
   ],
   "source": [
    "a-b"
   ]
  },
  {
   "cell_type": "code",
   "execution_count": 20,
   "id": "168f8409",
   "metadata": {},
   "outputs": [],
   "source": [
    "# superset and subset\n",
    "\n",
    "c={10,20,30,40,50} # c is called superset\n",
    "d={20,30}# d is called subset"
   ]
  },
  {
   "cell_type": "code",
   "execution_count": 21,
   "id": "9ed7edc6",
   "metadata": {},
   "outputs": [
    {
     "data": {
      "text/plain": [
       "True"
      ]
     },
     "execution_count": 21,
     "metadata": {},
     "output_type": "execute_result"
    }
   ],
   "source": [
    "# If the 1st set or left set has got all the elements of the 2nd set or right set, then\n",
    "# 1st set is called as superset.\n",
    "c.issuperset(d)"
   ]
  },
  {
   "cell_type": "code",
   "execution_count": 22,
   "id": "750daf7f",
   "metadata": {},
   "outputs": [
    {
     "data": {
      "text/plain": [
       "True"
      ]
     },
     "execution_count": 22,
     "metadata": {},
     "output_type": "execute_result"
    }
   ],
   "source": [
    "d.issubset(c)"
   ]
  },
  {
   "cell_type": "code",
   "execution_count": null,
   "id": "55cdd331",
   "metadata": {},
   "outputs": [],
   "source": [
    "# Methods to delete a set\n",
    "# 1.discard(x) => Removes a given element from the set\n",
    "# 2.remove() => Removes a given element from the set\n",
    "# 3.pop() => Removes a element randomly\n",
    "# 4.clear()\n",
    "# del"
   ]
  },
  {
   "cell_type": "code",
   "execution_count": 23,
   "id": "4dd93846",
   "metadata": {},
   "outputs": [
    {
     "data": {
      "text/plain": [
       "{2, 3, 4, 10}"
      ]
     },
     "execution_count": 23,
     "metadata": {},
     "output_type": "execute_result"
    }
   ],
   "source": [
    "a"
   ]
  },
  {
   "cell_type": "code",
   "execution_count": 24,
   "id": "290e6676",
   "metadata": {},
   "outputs": [],
   "source": [
    "a.discard(10)"
   ]
  },
  {
   "cell_type": "code",
   "execution_count": 25,
   "id": "7679248f",
   "metadata": {},
   "outputs": [
    {
     "data": {
      "text/plain": [
       "{2, 3, 4}"
      ]
     },
     "execution_count": 25,
     "metadata": {},
     "output_type": "execute_result"
    }
   ],
   "source": [
    "a"
   ]
  },
  {
   "cell_type": "code",
   "execution_count": null,
   "id": "f3b065f3",
   "metadata": {},
   "outputs": [],
   "source": [
    "a.discard(90)"
   ]
  },
  {
   "cell_type": "code",
   "execution_count": null,
   "id": "0641f215",
   "metadata": {},
   "outputs": [],
   "source": [
    "# remove(x)"
   ]
  },
  {
   "cell_type": "code",
   "execution_count": 26,
   "id": "735ed636",
   "metadata": {},
   "outputs": [
    {
     "data": {
      "text/plain": [
       "{2, 3, 4}"
      ]
     },
     "execution_count": 26,
     "metadata": {},
     "output_type": "execute_result"
    }
   ],
   "source": [
    "a"
   ]
  },
  {
   "cell_type": "code",
   "execution_count": 27,
   "id": "1c3858de",
   "metadata": {},
   "outputs": [],
   "source": [
    "a.remove(4)"
   ]
  },
  {
   "cell_type": "code",
   "execution_count": 28,
   "id": "6fb51318",
   "metadata": {},
   "outputs": [
    {
     "data": {
      "text/plain": [
       "{2, 3}"
      ]
     },
     "execution_count": 28,
     "metadata": {},
     "output_type": "execute_result"
    }
   ],
   "source": [
    "a"
   ]
  },
  {
   "cell_type": "code",
   "execution_count": 29,
   "id": "438ff2f3",
   "metadata": {},
   "outputs": [
    {
     "ename": "KeyError",
     "evalue": "90",
     "output_type": "error",
     "traceback": [
      "\u001b[1;31m---------------------------------------------------------------------------\u001b[0m",
      "\u001b[1;31mKeyError\u001b[0m                                  Traceback (most recent call last)",
      "\u001b[1;32m~\\AppData\\Local\\Temp\\ipykernel_5456\\2217001152.py\u001b[0m in \u001b[0;36m<module>\u001b[1;34m\u001b[0m\n\u001b[1;32m----> 1\u001b[1;33m \u001b[0ma\u001b[0m\u001b[1;33m.\u001b[0m\u001b[0mremove\u001b[0m\u001b[1;33m(\u001b[0m\u001b[1;36m90\u001b[0m\u001b[1;33m)\u001b[0m\u001b[1;33m\u001b[0m\u001b[1;33m\u001b[0m\u001b[0m\n\u001b[0m",
      "\u001b[1;31mKeyError\u001b[0m: 90"
     ]
    }
   ],
   "source": [
    "a.remove(90)"
   ]
  },
  {
   "cell_type": "code",
   "execution_count": null,
   "id": "ba7720a7",
   "metadata": {},
   "outputs": [],
   "source": [
    "# pop=> Removes a random element"
   ]
  },
  {
   "cell_type": "code",
   "execution_count": 30,
   "id": "72cea0be",
   "metadata": {},
   "outputs": [
    {
     "data": {
      "text/plain": [
       "{10, 20, 30}"
      ]
     },
     "execution_count": 30,
     "metadata": {},
     "output_type": "execute_result"
    }
   ],
   "source": [
    "b"
   ]
  },
  {
   "cell_type": "code",
   "execution_count": 31,
   "id": "8cde01c3",
   "metadata": {},
   "outputs": [
    {
     "data": {
      "text/plain": [
       "10"
      ]
     },
     "execution_count": 31,
     "metadata": {},
     "output_type": "execute_result"
    }
   ],
   "source": [
    "b.pop()"
   ]
  },
  {
   "cell_type": "code",
   "execution_count": 32,
   "id": "e55cc2e1",
   "metadata": {},
   "outputs": [
    {
     "data": {
      "text/plain": [
       "{20, 30}"
      ]
     },
     "execution_count": 32,
     "metadata": {},
     "output_type": "execute_result"
    }
   ],
   "source": [
    "b"
   ]
  },
  {
   "cell_type": "code",
   "execution_count": 33,
   "id": "abe8fb7e",
   "metadata": {},
   "outputs": [
    {
     "data": {
      "text/plain": [
       "{20, 30}"
      ]
     },
     "execution_count": 33,
     "metadata": {},
     "output_type": "execute_result"
    }
   ],
   "source": [
    "# clear => Clears / Erases/ Remove all the elements from the set\n",
    "b"
   ]
  },
  {
   "cell_type": "code",
   "execution_count": 34,
   "id": "0b2c80f2",
   "metadata": {},
   "outputs": [],
   "source": [
    "b.clear()"
   ]
  },
  {
   "cell_type": "code",
   "execution_count": 35,
   "id": "b49d6bca",
   "metadata": {},
   "outputs": [
    {
     "data": {
      "text/plain": [
       "set()"
      ]
     },
     "execution_count": 35,
     "metadata": {},
     "output_type": "execute_result"
    }
   ],
   "source": [
    "b"
   ]
  },
  {
   "cell_type": "code",
   "execution_count": null,
   "id": "c5250061",
   "metadata": {},
   "outputs": [],
   "source": [
    "# del"
   ]
  },
  {
   "cell_type": "code",
   "execution_count": 36,
   "id": "d4052445",
   "metadata": {},
   "outputs": [
    {
     "data": {
      "text/plain": [
       "{10, 20, 30, 40, 50}"
      ]
     },
     "execution_count": 36,
     "metadata": {},
     "output_type": "execute_result"
    }
   ],
   "source": [
    "c"
   ]
  },
  {
   "cell_type": "code",
   "execution_count": 37,
   "id": "4bd08fee",
   "metadata": {},
   "outputs": [],
   "source": [
    "del c"
   ]
  },
  {
   "cell_type": "code",
   "execution_count": 38,
   "id": "f9001687",
   "metadata": {},
   "outputs": [
    {
     "ename": "NameError",
     "evalue": "name 'c' is not defined",
     "output_type": "error",
     "traceback": [
      "\u001b[1;31m---------------------------------------------------------------------------\u001b[0m",
      "\u001b[1;31mNameError\u001b[0m                                 Traceback (most recent call last)",
      "\u001b[1;32m~\\AppData\\Local\\Temp\\ipykernel_5456\\3235490055.py\u001b[0m in \u001b[0;36m<module>\u001b[1;34m\u001b[0m\n\u001b[1;32m----> 1\u001b[1;33m \u001b[0mc\u001b[0m\u001b[1;33m\u001b[0m\u001b[1;33m\u001b[0m\u001b[0m\n\u001b[0m",
      "\u001b[1;31mNameError\u001b[0m: name 'c' is not defined"
     ]
    }
   ],
   "source": [
    "c"
   ]
  },
  {
   "cell_type": "code",
   "execution_count": null,
   "id": "f1511c45",
   "metadata": {},
   "outputs": [],
   "source": []
  }
 ],
 "metadata": {
  "kernelspec": {
   "display_name": "Python 3 (ipykernel)",
   "language": "python",
   "name": "python3"
  },
  "language_info": {
   "codemirror_mode": {
    "name": "ipython",
    "version": 3
   },
   "file_extension": ".py",
   "mimetype": "text/x-python",
   "name": "python",
   "nbconvert_exporter": "python",
   "pygments_lexer": "ipython3",
   "version": "3.9.13"
  }
 },
 "nbformat": 4,
 "nbformat_minor": 5
}
