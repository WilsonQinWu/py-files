{
 "cells": [
  {
   "cell_type": "code",
   "execution_count": null,
   "id": "11fe36e7",
   "metadata": {},
   "outputs": [],
   "source": [
    "# Dictionary\n",
    "# Key valve pairs\n"
   ]
  },
  {
   "cell_type": "code",
   "execution_count": 18,
   "id": "e572e31f",
   "metadata": {},
   "outputs": [
    {
     "name": "stdout",
     "output_type": "stream",
     "text": [
      "[89, 99, 10, 101]\n"
     ]
    }
   ],
   "source": [
    "a={'a':10,'b':20,'c':30,'d':99,'e':[89,99, 10, 101]}\n",
    "print(a['e'])\n",
    "# No. of elements in the current dictionary :3\n",
    "# What are the keys of the dictionary : a,b,c\n",
    "# What are the values of the dictionary : 10,20,30\n",
    "\n",
    "# Items of dictionary : (a,10),(b,20),(c,30)"
   ]
  },
  {
   "cell_type": "code",
   "execution_count": 4,
   "id": "a17f9fc0",
   "metadata": {},
   "outputs": [
    {
     "data": {
      "text/plain": [
       "dict"
      ]
     },
     "execution_count": 4,
     "metadata": {},
     "output_type": "execute_result"
    }
   ],
   "source": [
    "b={} # Empty dictionary\n",
    "type(b)"
   ]
  },
  {
   "cell_type": "code",
   "execution_count": 20,
   "id": "67c666a5",
   "metadata": {},
   "outputs": [
    {
     "data": {
      "text/plain": [
       "101"
      ]
     },
     "execution_count": 20,
     "metadata": {},
     "output_type": "execute_result"
    }
   ],
   "source": [
    "# Get the value 20\n",
    "# dictionary_name[key]\n",
    "a['b']\n",
    "# Get the value 99\n",
    "a['d']\n",
    "# Get the value 101\n",
    "a['e'][3]\n",
    "a['e'][-1]"
   ]
  },
  {
   "cell_type": "code",
   "execution_count": 21,
   "id": "294e8120",
   "metadata": {},
   "outputs": [
    {
     "data": {
      "text/plain": [
       "{'a': 10, 'b': 20, 'c': 30, 'd': 99, 'e': [89, 99, 10, 101], 'f': 'hi'}"
      ]
     },
     "execution_count": 21,
     "metadata": {},
     "output_type": "execute_result"
    }
   ],
   "source": [
    "#Add one more element 'f':'hi'\n",
    "a['f']='hi'\n",
    "a"
   ]
  },
  {
   "cell_type": "code",
   "execution_count": 22,
   "id": "f39ff32c",
   "metadata": {},
   "outputs": [
    {
     "data": {
      "text/plain": [
       "[0, 1, 2, 3, 4, 5, 6, 7, 8, 9]"
      ]
     },
     "execution_count": 22,
     "metadata": {},
     "output_type": "execute_result"
    }
   ],
   "source": [
    "# Ex 1 : Get the squares of numbers\n",
    "numbers = list(range(10))\n",
    "numbers"
   ]
  },
  {
   "cell_type": "code",
   "execution_count": null,
   "id": "5091a199",
   "metadata": {},
   "outputs": [],
   "source": [
    "# Expected result:{0:0,1:1,2:4,3:9,4:16,....,9:81}\n",
    "# Keys: Numbers=> 0,1,2,3,4,5,6,7,8,9\n",
    "# Values are squares:0,1,4,9,16,.............,81\n",
    "# iterable = strings, list, tuple, set ,dictionary\n",
    "# for variable in iterable:\n",
    "# Body of the loop"
   ]
  },
  {
   "cell_type": "code",
   "execution_count": 24,
   "id": "73e4a923",
   "metadata": {},
   "outputs": [
    {
     "name": "stdout",
     "output_type": "stream",
     "text": [
      "{0: 0}\n",
      "{0: 0, 1: 1}\n",
      "{0: 0, 1: 1, 2: 4}\n",
      "{0: 0, 1: 1, 2: 4, 3: 9}\n",
      "{0: 0, 1: 1, 2: 4, 3: 9, 4: 16}\n",
      "{0: 0, 1: 1, 2: 4, 3: 9, 4: 16, 5: 25}\n",
      "{0: 0, 1: 1, 2: 4, 3: 9, 4: 16, 5: 25, 6: 36}\n",
      "{0: 0, 1: 1, 2: 4, 3: 9, 4: 16, 5: 25, 6: 36, 7: 49}\n",
      "{0: 0, 1: 1, 2: 4, 3: 9, 4: 16, 5: 25, 6: 36, 7: 49, 8: 64}\n",
      "{0: 0, 1: 1, 2: 4, 3: 9, 4: 16, 5: 25, 6: 36, 7: 49, 8: 64, 9: 81}\n"
     ]
    }
   ],
   "source": [
    "result={}\n",
    "\n",
    "for var in numbers:\n",
    "    sq=var*var\n",
    "    result[var]=sq\n",
    "    print(result)\n",
    "    \n",
    "\n",
    "    "
   ]
  },
  {
   "cell_type": "code",
   "execution_count": 29,
   "id": "bc697294",
   "metadata": {},
   "outputs": [
    {
     "name": "stdout",
     "output_type": "stream",
     "text": [
      "{0: 0, 1: 1, 2: 8, 3: 27, 4: 64}\n"
     ]
    }
   ],
   "source": [
    "# Ex2: Get the cubes of integers starting from 0 to 5\n",
    "# Expected result:{0:0,1:1,2:8, 3: 27, 4: 64}\n",
    "numbers = list(range(5))\n",
    "result={}\n",
    "\n",
    "for var in numbers:\n",
    "    cube=var**3\n",
    "    result[var]=cube\n",
    "print(result)"
   ]
  },
  {
   "cell_type": "code",
   "execution_count": 36,
   "id": "ee7338c8",
   "metadata": {},
   "outputs": [
    {
     "name": "stdout",
     "output_type": "stream",
     "text": [
      "{'hi': 2, 'hello': 5, 'how': 3, 'are': 3, 'u': 1, 'doing': 5}\n"
     ]
    }
   ],
   "source": [
    "# Ex3: Get the length of each string\n",
    "input_list=['hi','hello','how','are','u','doing']\n",
    "result={}\n",
    "\n",
    "for var in input_list:\n",
    "    length=len(var)\n",
    "    result[var]=length\n",
    "print(result)"
   ]
  },
  {
   "cell_type": "code",
   "execution_count": 39,
   "id": "5a586546",
   "metadata": {},
   "outputs": [
    {
     "name": "stdout",
     "output_type": "stream",
     "text": [
      "{'even': [10, 30, 18, 20], 'odd': [15, 19, 25]}\n"
     ]
    }
   ],
   "source": [
    "# Ex 4: {Even:[],Odd:[]}\n",
    "input_numbers=[10,30,15,18,19,20,25]\n",
    "#expected result=> result={'even':[10,30,18,20],'odd':[15,19,25]}\n",
    "\n",
    "result={}\n",
    "evens=[]\n",
    "odds=[]\n",
    "\n",
    "for var in input_numbers:\n",
    "    if var%2==0:\n",
    "        evens.append(var)\n",
    "    else:\n",
    "        odds.append(var)\n",
    "\n",
    "result['even']=evens\n",
    "result['odd']=odds\n",
    "print(result)"
   ]
  },
  {
   "cell_type": "code",
   "execution_count": null,
   "id": "76548b14",
   "metadata": {},
   "outputs": [],
   "source": [
    "# 4. Count the number of words present in a sentence and output it in a dict\n",
    "# Sample input:\"What is your name and what is your address\"\n",
    "# output: res={\"What\":2,\"is\":2,\"your\":2,\"name\":1,\"and\":1,\"address\":1}"
   ]
  },
  {
   "cell_type": "code",
   "execution_count": 40,
   "id": "a354f6dc",
   "metadata": {},
   "outputs": [
    {
     "ename": "NameError",
     "evalue": "name 'input_string' is not defined",
     "output_type": "error",
     "traceback": [
      "\u001b[1;31m---------------------------------------------------------------------------\u001b[0m",
      "\u001b[1;31mNameError\u001b[0m                                 Traceback (most recent call last)",
      "\u001b[1;32m~\\AppData\\Local\\Temp\\ipykernel_21616\\486420941.py\u001b[0m in \u001b[0;36m<module>\u001b[1;34m\u001b[0m\n\u001b[1;32m----> 1\u001b[1;33m \u001b[0mwords\u001b[0m\u001b[1;33m=\u001b[0m\u001b[0minput_string\u001b[0m\u001b[1;33m.\u001b[0m\u001b[0msplit\u001b[0m\u001b[1;33m(\u001b[0m\u001b[1;33m)\u001b[0m\u001b[1;33m\u001b[0m\u001b[1;33m\u001b[0m\u001b[0m\n\u001b[0m",
      "\u001b[1;31mNameError\u001b[0m: name 'input_string' is not defined"
     ]
    }
   ],
   "source": [
    "words=input_string.split()"
   ]
  },
  {
   "cell_type": "code",
   "execution_count": 41,
   "id": "9e83cf10",
   "metadata": {},
   "outputs": [
    {
     "data": {
      "text/plain": [
       "2"
      ]
     },
     "execution_count": 41,
     "metadata": {},
     "output_type": "execute_result"
    }
   ],
   "source": [
    "a=['hi','hello','hi']\n",
    "a.count('hi')"
   ]
  },
  {
   "cell_type": "code",
   "execution_count": 42,
   "id": "9691db0d",
   "metadata": {},
   "outputs": [
    {
     "data": {
      "text/plain": [
       "{'What': 2, 'is': 2, 'your': 2, 'name': 1, 'and': 1, 'address': 1}"
      ]
     },
     "execution_count": 42,
     "metadata": {},
     "output_type": "execute_result"
    }
   ],
   "source": [
    "res={\"What\":2,\"is\":2,\"your\":2,\"name\":1,\"and\":1,\"address\":1}\n",
    "res"
   ]
  },
  {
   "cell_type": "code",
   "execution_count": 43,
   "id": "1d7266fb",
   "metadata": {},
   "outputs": [
    {
     "data": {
      "text/plain": [
       "2"
      ]
     },
     "execution_count": 43,
     "metadata": {},
     "output_type": "execute_result"
    }
   ],
   "source": [
    "res['What']"
   ]
  },
  {
   "cell_type": "code",
   "execution_count": 59,
   "id": "5c8491ec",
   "metadata": {},
   "outputs": [
    {
     "name": "stdout",
     "output_type": "stream",
     "text": [
      "{'a': 110, 'b': 115, 'c': 230}\n"
     ]
    }
   ],
   "source": [
    "# --------------------------------------------------------------------------------------------------------------------------\n",
    "# 7. write the code to add 10 to each value in the given dictionary\n",
    "# Sample_input = {'a':100,'b':105,'c':220}\n",
    "# expected_out = {'a':110,'b':115,'c':230}\n",
    "sample_input = {'a':100,'b':105,'c':220}\n",
    "expected_out={}\n",
    "\n",
    "for key in sample_input:\n",
    "        expected_out[key]=sample_input[key]+10\n",
    "print(expected_out)"
   ]
  },
  {
   "cell_type": "code",
   "execution_count": null,
   "id": "3d2e5c46",
   "metadata": {},
   "outputs": [],
   "source": [
    "# Creating a dictionary\n",
    "# 1. dict()\n",
    "# 2.fromkeys()"
   ]
  },
  {
   "cell_type": "code",
   "execution_count": 57,
   "id": "1e50c7aa",
   "metadata": {},
   "outputs": [
    {
     "name": "stdout",
     "output_type": "stream",
     "text": [
      "The elements of x is: {'a': 1, 'b': 2, 'c': 3}\n",
      "dict_keys(['a', 'b', 'c'])\n"
     ]
    }
   ],
   "source": [
    "a=[('a',1),('b',2),('c',3)]\n",
    "x= dict(a)\n",
    "print(\"The elements of x is:\",x)\n",
    "print(x.keys())"
   ]
  },
  {
   "cell_type": "code",
   "execution_count": 2,
   "id": "968d2cbd",
   "metadata": {},
   "outputs": [
    {
     "data": {
      "text/plain": [
       "{'a': None, 'b': None, 'c': None}"
      ]
     },
     "execution_count": 2,
     "metadata": {},
     "output_type": "execute_result"
    }
   ],
   "source": [
    "b={}\n",
    "# Syntax: fromkeys(key,value)\n",
    "# the 1st arg key has to be an iterable\n",
    "b.fromkeys('abc')"
   ]
  },
  {
   "cell_type": "code",
   "execution_count": 3,
   "id": "f0684978",
   "metadata": {},
   "outputs": [
    {
     "data": {
      "text/plain": [
       "{'a': 100, 'b': 100, 'c': 100}"
      ]
     },
     "execution_count": 3,
     "metadata": {},
     "output_type": "execute_result"
    }
   ],
   "source": [
    "b.fromkeys('abc',100)"
   ]
  },
  {
   "cell_type": "code",
   "execution_count": 4,
   "id": "71c8092c",
   "metadata": {},
   "outputs": [
    {
     "data": {
      "text/plain": [
       "{'a': [100, 200, 300], 'b': [100, 200, 300], 'c': [100, 200, 300]}"
      ]
     },
     "execution_count": 4,
     "metadata": {},
     "output_type": "execute_result"
    }
   ],
   "source": [
    "b.fromkeys('abc',[100,200,300])"
   ]
  },
  {
   "cell_type": "code",
   "execution_count": 7,
   "id": "2fd3d31f",
   "metadata": {},
   "outputs": [
    {
     "data": {
      "text/plain": [
       "{'a': [100, 200, 300], 'b': [100, 200, 300], 'c': [100, 200, 300]}"
      ]
     },
     "execution_count": 7,
     "metadata": {},
     "output_type": "execute_result"
    }
   ],
   "source": [
    "b.fromkeys(['a','b','c'],[100,200,300])"
   ]
  },
  {
   "cell_type": "code",
   "execution_count": 10,
   "id": "c1ec9372",
   "metadata": {},
   "outputs": [
    {
     "data": {
      "text/plain": [
       "{'a': 90, 'b': 20, 'c': 20}"
      ]
     },
     "execution_count": 10,
     "metadata": {},
     "output_type": "execute_result"
    }
   ],
   "source": [
    "a = {'a':10,'b':20,'c':20,'a':90}\n",
    "a "
   ]
  },
  {
   "cell_type": "code",
   "execution_count": 11,
   "id": "7ef9d78e",
   "metadata": {},
   "outputs": [],
   "source": [
    "a['a']=100"
   ]
  },
  {
   "cell_type": "code",
   "execution_count": 12,
   "id": "64df3382",
   "metadata": {},
   "outputs": [
    {
     "data": {
      "text/plain": [
       "{'a': 100, 'b': 20, 'c': 20}"
      ]
     },
     "execution_count": 12,
     "metadata": {},
     "output_type": "execute_result"
    }
   ],
   "source": [
    "a"
   ]
  },
  {
   "cell_type": "code",
   "execution_count": 13,
   "id": "8c85ee7d",
   "metadata": {},
   "outputs": [],
   "source": [
    "z={'subject':'computers','score':80,'name':'Shane'}\n"
   ]
  },
  {
   "cell_type": "code",
   "execution_count": 14,
   "id": "868268ee",
   "metadata": {},
   "outputs": [],
   "source": [
    "a.update(z)"
   ]
  },
  {
   "cell_type": "code",
   "execution_count": 15,
   "id": "22d459dc",
   "metadata": {},
   "outputs": [
    {
     "data": {
      "text/plain": [
       "{'a': 100,\n",
       " 'b': 20,\n",
       " 'c': 20,\n",
       " 'subject': 'computers',\n",
       " 'score': 80,\n",
       " 'name': 'Shane'}"
      ]
     },
     "execution_count": 15,
     "metadata": {},
     "output_type": "execute_result"
    }
   ],
   "source": [
    "a"
   ]
  },
  {
   "cell_type": "code",
   "execution_count": 16,
   "id": "f33c5dc3",
   "metadata": {},
   "outputs": [
    {
     "data": {
      "text/plain": [
       "{'a': 1, 'b': 2, 'c': 3}"
      ]
     },
     "execution_count": 16,
     "metadata": {},
     "output_type": "execute_result"
    }
   ],
   "source": [
    "x"
   ]
  },
  {
   "cell_type": "code",
   "execution_count": 17,
   "id": "d6278561",
   "metadata": {},
   "outputs": [],
   "source": [
    "a.update(x)"
   ]
  },
  {
   "cell_type": "code",
   "execution_count": 18,
   "id": "81fe544f",
   "metadata": {},
   "outputs": [
    {
     "data": {
      "text/plain": [
       "{'a': 1, 'b': 2, 'c': 3, 'subject': 'computers', 'score': 80, 'name': 'Shane'}"
      ]
     },
     "execution_count": 18,
     "metadata": {},
     "output_type": "execute_result"
    }
   ],
   "source": [
    "a"
   ]
  },
  {
   "cell_type": "code",
   "execution_count": null,
   "id": "98794aea",
   "metadata": {},
   "outputs": [],
   "source": [
    "# Accessing the keys(), values(), items()\n",
    "# Syntax : Dictionary_name.method()"
   ]
  },
  {
   "cell_type": "code",
   "execution_count": 19,
   "id": "84324122",
   "metadata": {},
   "outputs": [
    {
     "data": {
      "text/plain": [
       "dict_keys(['a', 'b', 'c', 'subject', 'score', 'name'])"
      ]
     },
     "execution_count": 19,
     "metadata": {},
     "output_type": "execute_result"
    }
   ],
   "source": [
    "a.keys()"
   ]
  },
  {
   "cell_type": "code",
   "execution_count": 20,
   "id": "0f895778",
   "metadata": {},
   "outputs": [
    {
     "data": {
      "text/plain": [
       "dict_values([1, 2, 3, 'computers', 80, 'Shane'])"
      ]
     },
     "execution_count": 20,
     "metadata": {},
     "output_type": "execute_result"
    }
   ],
   "source": [
    "a.values()"
   ]
  },
  {
   "cell_type": "code",
   "execution_count": 21,
   "id": "34cccce2",
   "metadata": {},
   "outputs": [
    {
     "data": {
      "text/plain": [
       "dict_items([('a', 1), ('b', 2), ('c', 3), ('subject', 'computers'), ('score', 80), ('name', 'Shane')])"
      ]
     },
     "execution_count": 21,
     "metadata": {},
     "output_type": "execute_result"
    }
   ],
   "source": [
    "a.items()"
   ]
  },
  {
   "cell_type": "code",
   "execution_count": 22,
   "id": "fb75689b",
   "metadata": {},
   "outputs": [
    {
     "name": "stdout",
     "output_type": "stream",
     "text": [
      "a\n",
      "b\n",
      "c\n",
      "subject\n",
      "score\n",
      "name\n"
     ]
    }
   ],
   "source": [
    "# default method when we iterate on dictionary is keys(). Dictionary_Name.keys()\n",
    "for x in a:\n",
    "    print(x)"
   ]
  },
  {
   "cell_type": "code",
   "execution_count": 23,
   "id": "ceef5666",
   "metadata": {},
   "outputs": [
    {
     "name": "stdout",
     "output_type": "stream",
     "text": [
      "('a', 1)\n",
      "('b', 2)\n",
      "('c', 3)\n",
      "('subject', 'computers')\n",
      "('score', 80)\n",
      "('name', 'Shane')\n"
     ]
    }
   ],
   "source": [
    "for x in a.items():\n",
    "    print(x)"
   ]
  },
  {
   "cell_type": "code",
   "execution_count": 24,
   "id": "da368b12",
   "metadata": {},
   "outputs": [
    {
     "name": "stdout",
     "output_type": "stream",
     "text": [
      "Key is :a and value is :1\n",
      "Key is :b and value is :2\n",
      "Key is :c and value is :3\n",
      "Key is :subject and value is :computers\n",
      "Key is :score and value is :80\n",
      "Key is :name and value is :Shane\n"
     ]
    }
   ],
   "source": [
    "for x,y in a.items():\n",
    "    print(f'Key is :{x} and value is :{y}')"
   ]
  },
  {
   "cell_type": "code",
   "execution_count": 26,
   "id": "953de834",
   "metadata": {},
   "outputs": [
    {
     "name": "stdout",
     "output_type": "stream",
     "text": [
      "1\n",
      "2\n",
      "3\n",
      "computers\n",
      "80\n",
      "Shane\n"
     ]
    }
   ],
   "source": [
    "for x in a.values():\n",
    "    print(x)"
   ]
  },
  {
   "cell_type": "code",
   "execution_count": null,
   "id": "9c0ed532",
   "metadata": {},
   "outputs": [],
   "source": [
    "# Deleting the dictionary\n",
    "\n",
    "# 1. pop(x) ==> Removes the element based on the given key and returns the value\n",
    "# 2. popitem() ==> Removes the last element of the dictionary if no arg is given\n",
    "# 3. clear() ==>\n",
    "# 4. del ==>"
   ]
  },
  {
   "cell_type": "code",
   "execution_count": 27,
   "id": "d053e486",
   "metadata": {},
   "outputs": [
    {
     "data": {
      "text/plain": [
       "{'a': 1, 'b': 2, 'c': 3, 'subject': 'computers', 'score': 80, 'name': 'Shane'}"
      ]
     },
     "execution_count": 27,
     "metadata": {},
     "output_type": "execute_result"
    }
   ],
   "source": [
    "a"
   ]
  },
  {
   "cell_type": "code",
   "execution_count": 28,
   "id": "34232fc4",
   "metadata": {},
   "outputs": [
    {
     "data": {
      "text/plain": [
       "80"
      ]
     },
     "execution_count": 28,
     "metadata": {},
     "output_type": "execute_result"
    }
   ],
   "source": [
    "pop_res=a.pop('score')\n",
    "pop_res"
   ]
  },
  {
   "cell_type": "code",
   "execution_count": 29,
   "id": "8935526d",
   "metadata": {},
   "outputs": [
    {
     "data": {
      "text/plain": [
       "{'a': 1, 'b': 2, 'c': 3, 'subject': 'computers', 'name': 'Shane'}"
      ]
     },
     "execution_count": 29,
     "metadata": {},
     "output_type": "execute_result"
    }
   ],
   "source": [
    "a"
   ]
  },
  {
   "cell_type": "code",
   "execution_count": 30,
   "id": "53cf104e",
   "metadata": {},
   "outputs": [
    {
     "data": {
      "text/plain": [
       "('name', 'Shane')"
      ]
     },
     "execution_count": 30,
     "metadata": {},
     "output_type": "execute_result"
    }
   ],
   "source": [
    "a.popitem()"
   ]
  },
  {
   "cell_type": "code",
   "execution_count": 31,
   "id": "186b9761",
   "metadata": {},
   "outputs": [
    {
     "data": {
      "text/plain": [
       "{'a': 1, 'b': 2, 'c': 3, 'subject': 'computers'}"
      ]
     },
     "execution_count": 31,
     "metadata": {},
     "output_type": "execute_result"
    }
   ],
   "source": [
    "a"
   ]
  },
  {
   "cell_type": "code",
   "execution_count": 32,
   "id": "9a7fdd1c",
   "metadata": {},
   "outputs": [
    {
     "data": {
      "text/plain": [
       "2868916711296"
      ]
     },
     "execution_count": 32,
     "metadata": {},
     "output_type": "execute_result"
    }
   ],
   "source": [
    "#clear \n",
    "#del\n",
    "id(a)"
   ]
  },
  {
   "cell_type": "code",
   "execution_count": 33,
   "id": "472b81f1",
   "metadata": {},
   "outputs": [],
   "source": [
    "a.clear()"
   ]
  },
  {
   "cell_type": "code",
   "execution_count": 34,
   "id": "30d3916c",
   "metadata": {},
   "outputs": [
    {
     "name": "stdout",
     "output_type": "stream",
     "text": [
      "{}\n"
     ]
    }
   ],
   "source": [
    "print(a)"
   ]
  },
  {
   "cell_type": "code",
   "execution_count": 35,
   "id": "9fcc08e1",
   "metadata": {},
   "outputs": [
    {
     "data": {
      "text/plain": [
       "{}"
      ]
     },
     "execution_count": 35,
     "metadata": {},
     "output_type": "execute_result"
    }
   ],
   "source": [
    "a"
   ]
  },
  {
   "cell_type": "code",
   "execution_count": 36,
   "id": "6495e663",
   "metadata": {},
   "outputs": [
    {
     "data": {
      "text/plain": [
       "2868916711296"
      ]
     },
     "execution_count": 36,
     "metadata": {},
     "output_type": "execute_result"
    }
   ],
   "source": [
    "id(a)"
   ]
  },
  {
   "cell_type": "code",
   "execution_count": 37,
   "id": "1c4f18d7",
   "metadata": {},
   "outputs": [],
   "source": [
    "del a"
   ]
  },
  {
   "cell_type": "code",
   "execution_count": 38,
   "id": "4af2e955",
   "metadata": {},
   "outputs": [
    {
     "ename": "NameError",
     "evalue": "name 'a' is not defined",
     "output_type": "error",
     "traceback": [
      "\u001b[1;31m---------------------------------------------------------------------------\u001b[0m",
      "\u001b[1;31mNameError\u001b[0m                                 Traceback (most recent call last)",
      "\u001b[1;32m~\\AppData\\Local\\Temp\\ipykernel_8616\\56049622.py\u001b[0m in \u001b[0;36m<module>\u001b[1;34m\u001b[0m\n\u001b[1;32m----> 1\u001b[1;33m \u001b[0mid\u001b[0m\u001b[1;33m(\u001b[0m\u001b[0ma\u001b[0m\u001b[1;33m)\u001b[0m\u001b[1;33m\u001b[0m\u001b[1;33m\u001b[0m\u001b[0m\n\u001b[0m",
      "\u001b[1;31mNameError\u001b[0m: name 'a' is not defined"
     ]
    }
   ],
   "source": [
    "id(a)"
   ]
  },
  {
   "cell_type": "code",
   "execution_count": 39,
   "id": "3c8caba7",
   "metadata": {},
   "outputs": [
    {
     "name": "stdout",
     "output_type": "stream",
     "text": [
      "10\n",
      "20\n",
      "30\n",
      "40\n",
      "50\n"
     ]
    }
   ],
   "source": [
    "a=[10,20,30,40,50]\n",
    "for x in a:\n",
    "    print(x)"
   ]
  },
  {
   "cell_type": "code",
   "execution_count": 40,
   "id": "fcac2e39",
   "metadata": {},
   "outputs": [
    {
     "name": "stdout",
     "output_type": "stream",
     "text": [
      "10\n",
      "20\n",
      "30\n",
      "40\n",
      "50\n",
      "For loop is executed successfully\n"
     ]
    }
   ],
   "source": [
    "# for loop with else\n",
    "for x in a:\n",
    "    print(x)\n",
    "else:\n",
    "    print(\"For loop is executed successfully\")"
   ]
  },
  {
   "cell_type": "code",
   "execution_count": 44,
   "id": "f7832cb7",
   "metadata": {},
   "outputs": [
    {
     "name": "stdout",
     "output_type": "stream",
     "text": [
      "10\n"
     ]
    }
   ],
   "source": [
    "# break\n",
    "\n",
    "for x in a:\n",
    "    if x == 20:\n",
    "        break\n",
    "    print(x)\n",
    "else:\n",
    "    print(\"For loop is executed successfully\")"
   ]
  },
  {
   "cell_type": "code",
   "execution_count": 48,
   "id": "79293b3b",
   "metadata": {},
   "outputs": [
    {
     "name": "stdout",
     "output_type": "stream",
     "text": [
      "10\n",
      "30\n",
      "40\n",
      "50\n",
      "For loop is executed successfully\n"
     ]
    }
   ],
   "source": [
    "# continue : when continue statement is hit, it omits the execution of subsequent code after continue and \n",
    "# proceed with the next iteration\n",
    "for x in a:\n",
    "    if x == 20:        \n",
    "        continue\n",
    "    print(x)    \n",
    "else:\n",
    "    print(\"For loop is executed successfully\")"
   ]
  },
  {
   "cell_type": "code",
   "execution_count": null,
   "id": "0fd605f1",
   "metadata": {},
   "outputs": [],
   "source": [
    "# while \n",
    "# syntax\n",
    "# while(condition):\n",
    "#      body of while loop"
   ]
  },
  {
   "cell_type": "code",
   "execution_count": 49,
   "id": "4ca1038c",
   "metadata": {},
   "outputs": [
    {
     "name": "stdout",
     "output_type": "stream",
     "text": [
      "5\n",
      "3\n"
     ]
    }
   ],
   "source": [
    "i=5\n",
    "while (i>1):\n",
    "    print(i)\n",
    "    i=i-2"
   ]
  },
  {
   "cell_type": "code",
   "execution_count": 51,
   "id": "b13d7456",
   "metadata": {},
   "outputs": [
    {
     "name": "stdout",
     "output_type": "stream",
     "text": [
      "5\n",
      "3\n",
      "While loop is executed successfully\n"
     ]
    }
   ],
   "source": [
    "i=5\n",
    "while (i>1):\n",
    "    print(i)\n",
    "    i=i-2\n",
    "else:\n",
    "    print(\"While loop is executed successfully\")"
   ]
  },
  {
   "cell_type": "code",
   "execution_count": null,
   "id": "ed91ff50",
   "metadata": {},
   "outputs": [],
   "source": []
  }
 ],
 "metadata": {
  "kernelspec": {
   "display_name": "Python 3 (ipykernel)",
   "language": "python",
   "name": "python3"
  },
  "language_info": {
   "codemirror_mode": {
    "name": "ipython",
    "version": 3
   },
   "file_extension": ".py",
   "mimetype": "text/x-python",
   "name": "python",
   "nbconvert_exporter": "python",
   "pygments_lexer": "ipython3",
   "version": "3.9.13"
  }
 },
 "nbformat": 4,
 "nbformat_minor": 5
}
