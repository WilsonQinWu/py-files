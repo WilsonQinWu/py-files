{
 "cells": [
  {
   "cell_type": "code",
   "execution_count": null,
   "id": "6766eaed",
   "metadata": {},
   "outputs": [],
   "source": [
    "# Inheritance"
   ]
  },
  {
   "cell_type": "code",
   "execution_count": 5,
   "id": "d51cc8b9",
   "metadata": {},
   "outputs": [],
   "source": [
    "class Vehicle():\n",
    "    def description(self):\n",
    "        print(\"This is a vehicle\")\n",
    "\n",
    "# Inheritance\n",
    "# Child Class / Sub Class / Inherited Class\n",
    "class Car(Vehicle):\n",
    "    pass\n",
    "#Object of Child Class / Car Class\n",
    "c=Car()\n",
    "\n",
    "# Object for the \n",
    "v=Vehicle()\n"
   ]
  },
  {
   "cell_type": "code",
   "execution_count": 6,
   "id": "be21516d",
   "metadata": {},
   "outputs": [
    {
     "name": "stdout",
     "output_type": "stream",
     "text": [
      "This is a vehicle\n",
      "This is a vehicle\n"
     ]
    }
   ],
   "source": [
    "c.description()\n",
    "v.description()"
   ]
  },
  {
   "cell_type": "code",
   "execution_count": null,
   "id": "9ed2d4ae",
   "metadata": {},
   "outputs": [],
   "source": [
    "# Method Overriding"
   ]
  },
  {
   "cell_type": "code",
   "execution_count": 7,
   "id": "10f3d885",
   "metadata": {},
   "outputs": [
    {
     "name": "stdout",
     "output_type": "stream",
     "text": [
      "This is a car\n",
      "This is a vehicle\n"
     ]
    }
   ],
   "source": [
    "# Base Class / Parent Class\n",
    "class Vehicle():\n",
    "    def description(self):\n",
    "        print(\"This is a vehicle\")\n",
    "\n",
    "# Inheritance\n",
    "# Child Class / Sub Class / Inherited Class\n",
    "class Car(Vehicle):\n",
    "    def description(self):\n",
    "        print(\"This is a car\")\n",
    "\n",
    "        \n",
    "# Creation of objects\n",
    "c=Car() # Car\n",
    "v=Vehicle()\n",
    "\n",
    "# Call the description() from objects\n",
    "c.description() #Car.description(c)\n",
    "v.description() # Vehicle.description(v)"
   ]
  },
  {
   "cell_type": "code",
   "execution_count": null,
   "id": "b799142a",
   "metadata": {},
   "outputs": [],
   "source": [
    "# When a subclass provides its own custom implementation of a method \n",
    "# that is already provided by its base class or parent class,it is called overriding.\n"
   ]
  },
  {
   "cell_type": "code",
   "execution_count": null,
   "id": "130e6bee",
   "metadata": {},
   "outputs": [],
   "source": [
    "# Try to access Child class methods using parent class object\n",
    "# Parent class\n",
    "class Vehicle():\n",
    "    def description(self):\n",
    "        print(\"This is a vehicle\")\n",
    "\n",
    "# Inheritance\n",
    "# Child Class / Sub Class / Inherited Class\n",
    "class Car(Vehicle):\n",
    "    def description(self):\n",
    "        print(\"This is a car\")\n",
    "        \n",
    "    def setSpeed(self,speed):\n",
    "        print(f\"This car speed is {}\")\n",
    "\n",
    "        \n",
    "# Creation of objects\n",
    "c=Car() \n",
    "v=Vehicle()\n",
    "\n",
    "# Call the description() from objects\n",
    "c.description() #Car.description(c)\n",
    "v.description() # Vehicle.description(v)"
   ]
  },
  {
   "cell_type": "code",
   "execution_count": null,
   "id": "b59669dc",
   "metadata": {},
   "outputs": [],
   "source": []
  },
  {
   "cell_type": "code",
   "execution_count": null,
   "id": "f84e35b3",
   "metadata": {},
   "outputs": [],
   "source": []
  }
 ],
 "metadata": {
  "kernelspec": {
   "display_name": "Python 3 (ipykernel)",
   "language": "python",
   "name": "python3"
  },
  "language_info": {
   "codemirror_mode": {
    "name": "ipython",
    "version": 3
   },
   "file_extension": ".py",
   "mimetype": "text/x-python",
   "name": "python",
   "nbconvert_exporter": "python",
   "pygments_lexer": "ipython3",
   "version": "3.9.13"
  }
 },
 "nbformat": 4,
 "nbformat_minor": 5
}
