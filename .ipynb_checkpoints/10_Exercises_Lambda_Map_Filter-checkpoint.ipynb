{
 "cells": [
  {
   "cell_type": "raw",
   "id": "373d9fe0",
   "metadata": {},
   "source": [
    "Ex 1 : Write a lambda function that takes x as parameter and returns x*11.\n",
    "       Sample Input : x = 10\n",
    "       Exp Output   : 110"
   ]
  },
  {
   "cell_type": "code",
   "execution_count": 9,
   "id": "87b36939",
   "metadata": {},
   "outputs": [
    {
     "name": "stdout",
     "output_type": "stream",
     "text": [
      "Output: 110\n"
     ]
    }
   ],
   "source": [
    "x=10\n",
    "res=cal(x)\n",
    "cal=lambda x: x*11\n",
    "\n",
    "print(\"Output:\",res)"
   ]
  },
  {
   "cell_type": "raw",
   "id": "693c49ab",
   "metadata": {},
   "source": [
    "Ex 2 : Write a lambda function which takes two arguments: a and b and returns the multiplication of them: a*b\n",
    "       Sample Input of a, b = 10, 10\n",
    "       Exp Output = 100"
   ]
  },
  {
   "cell_type": "code",
   "execution_count": 15,
   "id": "10d936ff",
   "metadata": {},
   "outputs": [
    {
     "name": "stdout",
     "output_type": "stream",
     "text": [
      "Output: 100\n"
     ]
    }
   ],
   "source": [
    "a=10\n",
    "b=10\n",
    "cal=lambda a,b: a*b\n",
    "res=cal(a,b)\n",
    "print(\"Output:\",res)"
   ]
  },
  {
   "cell_type": "code",
   "execution_count": 21,
   "id": "efaca4d4",
   "metadata": {},
   "outputs": [
    {
     "name": "stdout",
     "output_type": "stream",
     "text": [
      "Output: 56\n"
     ]
    }
   ],
   "source": [
    "cal=lambda c=7,d=8: c*d\n",
    "res=cal()\n",
    "print(\"Output:\",res)"
   ]
  },
  {
   "cell_type": "raw",
   "id": "7dd782b7",
   "metadata": {},
   "source": [
    "Ex 3 : Write a map function that returns the squares of the items in the list.\n",
    "       Sample Input : lst1=[10, 20, 30, 40, 50, 60]\n",
    "       Exp Output   : [100, 400, 900, 1600, 2500, 3600]"
   ]
  },
  {
   "cell_type": "code",
   "execution_count": 17,
   "id": "14f2fda3",
   "metadata": {},
   "outputs": [
    {
     "data": {
      "text/plain": [
       "[100, 400, 900, 1600, 2500, 3600]"
      ]
     },
     "execution_count": 17,
     "metadata": {},
     "output_type": "execute_result"
    }
   ],
   "source": [
    "# map with lambda function\n",
    "lst1=[10, 20, 30, 40, 50, 60]\n",
    "list(map(lambda x: x*x,lst1))"
   ]
  },
  {
   "cell_type": "raw",
   "id": "92b1b868",
   "metadata": {},
   "source": [
    "Ex 4 : Write a map function that adds \"Hello, \" in front of each item in the list.\n",
    "       Sample Input : lst1=[\"Jane\", \"Lee\", \"Will\", \"Brie\"]\n",
    "       Exp Output   : ['Hello Jane', 'Hello Lee', 'Hello Will', 'Hello Brie']"
   ]
  },
  {
   "cell_type": "code",
   "execution_count": 18,
   "id": "3e0f4af3",
   "metadata": {},
   "outputs": [
    {
     "data": {
      "text/plain": [
       "['Hello Jane', 'Hello Lee', 'Hello Will', 'Hello Brie']"
      ]
     },
     "execution_count": 18,
     "metadata": {},
     "output_type": "execute_result"
    }
   ],
   "source": [
    "lst1=[\"Jane\", \"Lee\", \"Will\", \"Brie\"]\n",
    "list(map(lambda x:'Hello '+x, lst1))"
   ]
  },
  {
   "cell_type": "raw",
   "id": "c76e993d",
   "metadata": {},
   "source": [
    "Ex 5 : Using map() function and lambda and count() function \n",
    "       Create a list which consists of the number of occurence of letter: a.\n",
    "       Sample Inp : lst1=[\"Alaska\", \"Alabama\", \"Arizona\", \"Arkansas\", \"Colorado\", \"Montana\", \"Nevada\"]\n",
    "       Exp Output :      [1, 2, 1, 2, 1, 2, 2]"
   ]
  },
  {
   "cell_type": "code",
   "execution_count": 24,
   "id": "2bba3ef4",
   "metadata": {},
   "outputs": [
    {
     "data": {
      "text/plain": [
       "[2, 3, 1, 2, 1, 2, 2]"
      ]
     },
     "execution_count": 24,
     "metadata": {},
     "output_type": "execute_result"
    }
   ],
   "source": [
    "lst1=[\"Alaska\", \"Alabama\", \"Arizona\", \"Arkansas\", \"Colorado\", \"Montana\", \"Nevada\"]\n",
    "list(map(lambda x: x.count('a'),lst1))"
   ]
  },
  {
   "cell_type": "raw",
   "id": "c5d30661",
   "metadata": {},
   "source": [
    "Ex 6 : Using filter() function filter the list so that only negative numbers are left.\n",
    "       Sample Input : lst1=[12, -1, 9, 8, -0.5, -0.2, -100]\n",
    "       Exp Output   : [-1, -0.5, -0.2, -100]\n",
    "       "
   ]
  },
  {
   "cell_type": "code",
   "execution_count": 29,
   "id": "e952af4c",
   "metadata": {},
   "outputs": [
    {
     "data": {
      "text/plain": [
       "[-1, -0.5, -0.2, -100]"
      ]
     },
     "execution_count": 29,
     "metadata": {},
     "output_type": "execute_result"
    }
   ],
   "source": [
    "lst1=[12, -1, 9, 8, -0.5, -0.2, -100]\n",
    "list(filter(lambda x: x<0, lst1))"
   ]
  },
  {
   "cell_type": "code",
   "execution_count": 28,
   "id": "8a0d5a7b",
   "metadata": {},
   "outputs": [
    {
     "data": {
      "text/plain": [
       "[False, True, False, False, True, True, True]"
      ]
     },
     "execution_count": 28,
     "metadata": {},
     "output_type": "execute_result"
    }
   ],
   "source": [
    "lst1=[12, -1, 9, 8, -0.5, -0.2, -100]\n",
    "list(map(lambda x: x<0, lst1))"
   ]
  },
  {
   "cell_type": "code",
   "execution_count": 32,
   "id": "4363ee23",
   "metadata": {},
   "outputs": [
    {
     "name": "stdout",
     "output_type": "stream",
     "text": [
      "[1, 3, 5, 7, 9, 11, 13, 15, 17, 19]\n"
     ]
    }
   ],
   "source": [
    "# 匿名函数lambda给出的是个筛选条件，从1到19中筛选出奇数来；\n",
    "# filter将传入的函数依次作用到序列的每个元素，True则返回 False则不返回。\n",
    "print(list(filter(lambda n : n % 2 == 1, range(20))))"
   ]
  },
  {
   "cell_type": "code",
   "execution_count": null,
   "id": "19b6727b",
   "metadata": {},
   "outputs": [],
   "source": []
  }
 ],
 "metadata": {
  "kernelspec": {
   "display_name": "Python 3 (ipykernel)",
   "language": "python",
   "name": "python3"
  },
  "language_info": {
   "codemirror_mode": {
    "name": "ipython",
    "version": 3
   },
   "file_extension": ".py",
   "mimetype": "text/x-python",
   "name": "python",
   "nbconvert_exporter": "python",
   "pygments_lexer": "ipython3",
   "version": "3.9.13"
  }
 },
 "nbformat": 4,
 "nbformat_minor": 5
}
