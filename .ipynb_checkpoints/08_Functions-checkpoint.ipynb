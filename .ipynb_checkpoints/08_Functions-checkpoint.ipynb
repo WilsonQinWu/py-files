{
 "cells": [
  {
   "cell_type": "code",
   "execution_count": null,
   "id": "4905434a",
   "metadata": {},
   "outputs": [],
   "source": [
    "# Functions"
   ]
  },
  {
   "cell_type": "code",
   "execution_count": 1,
   "id": "0ea28494",
   "metadata": {},
   "outputs": [
    {
     "data": {
      "text/plain": [
       "5"
      ]
     },
     "execution_count": 1,
     "metadata": {},
     "output_type": "execute_result"
    }
   ],
   "source": [
    "2+3"
   ]
  },
  {
   "cell_type": "raw",
   "id": "655fdb65",
   "metadata": {},
   "source": [
    "# Functions Declaration\n",
    "def function_name(arguments):\n",
    "    body of function\n",
    "    return variable_name or value\n",
    "\n",
    "#Calling a function\n",
    "function_name(arguments)"
   ]
  },
  {
   "cell_type": "code",
   "execution_count": 3,
   "id": "8c7a5d27",
   "metadata": {},
   "outputs": [
    {
     "name": "stdout",
     "output_type": "stream",
     "text": [
      "The result is:7\n"
     ]
    }
   ],
   "source": [
    "# Function to add 2 numbers\n",
    "\n",
    "def add_2_numbers(val1,val2):\n",
    "    \n",
    "    res=val1+val2\n",
    "    return res\n",
    "\n",
    "# Calling the function\n",
    "add_res=add_2_numbers(3,4)\n",
    "print(f\"The result is:{add_res}\")"
   ]
  },
  {
   "cell_type": "code",
   "execution_count": null,
   "id": "ec6c0aca",
   "metadata": {},
   "outputs": [],
   "source": [
    "## Raw string or document string"
   ]
  },
  {
   "cell_type": "code",
   "execution_count": 5,
   "id": "16dc8945",
   "metadata": {},
   "outputs": [],
   "source": [
    "# Function to add 2 numbers\n",
    "def add_2_numbers(val1,val2):\n",
    "    '''\n",
    "    This function is built to add 2 numbers\n",
    "    Parameters:\n",
    "    argument 1 => val1 : int\n",
    "    argument 2 => val2 : int\n",
    "    \n",
    "    returns\n",
    "    return res : int\n",
    "    '''\n",
    "    res=val1+val2\n",
    "    return res\n",
    "\n"
   ]
  },
  {
   "cell_type": "code",
   "execution_count": 4,
   "id": "71c0e207",
   "metadata": {},
   "outputs": [],
   "source": [
    "add_2_numbers.__doc__"
   ]
  },
  {
   "cell_type": "code",
   "execution_count": 6,
   "id": "63e0ac77",
   "metadata": {},
   "outputs": [],
   "source": [
    "add_2_numbers?"
   ]
  },
  {
   "cell_type": "code",
   "execution_count": null,
   "id": "1b61c0c7",
   "metadata": {},
   "outputs": [],
   "source": [
    "## Return"
   ]
  },
  {
   "cell_type": "code",
   "execution_count": 15,
   "id": "d1ba489d",
   "metadata": {},
   "outputs": [
    {
     "name": "stdout",
     "output_type": "stream",
     "text": [
      "The value of the x is :9\n"
     ]
    }
   ],
   "source": [
    "# Write a function to give the absolute value of an integer\n",
    "\n",
    "def absolute(val):\n",
    "    if val>0:\n",
    "        return val\n",
    "        \n",
    "    else:\n",
    "        return abs(val)\n",
    "    \n",
    "    \n",
    "abs_res=absolute(-9)\n",
    "\n",
    "print(f\"The absolute result is :{abs_res}\")"
   ]
  },
  {
   "cell_type": "code",
   "execution_count": 18,
   "id": "b0f9d400",
   "metadata": {},
   "outputs": [
    {
     "name": "stdout",
     "output_type": "stream",
     "text": [
      "The value of the val is :5\n",
      "The absolute result is :5\n"
     ]
    }
   ],
   "source": [
    "abs_res=absolute(5)\n",
    "\n",
    "print(f\"The absolute result is :{abs_res}\")"
   ]
  },
  {
   "cell_type": "code",
   "execution_count": 19,
   "id": "1a9b2f40",
   "metadata": {},
   "outputs": [
    {
     "name": "stdout",
     "output_type": "stream",
     "text": [
      "hi hello\n"
     ]
    }
   ],
   "source": [
    "## Ex 1\n",
    "## Write a function to concatenate 2 strings\n",
    "\n",
    "str1 = 'hi'\n",
    "str2 = 'hello'\n",
    "\n",
    "def concatenate(str1,str2):\n",
    "    res=str1+\" \"+str2\n",
    "    return res\n",
    "\n",
    "print(concatenate(str1,str2))\n"
   ]
  },
  {
   "cell_type": "code",
   "execution_count": 21,
   "id": "a83cabac",
   "metadata": {},
   "outputs": [
    {
     "name": "stdout",
     "output_type": "stream",
     "text": [
      "3\n"
     ]
    }
   ],
   "source": [
    "# Ex 2\n",
    "# Write a function to get the remainder of the number after dividing by 5\n",
    "\n",
    "def dividingBy5(val):\n",
    "    res=val%5\n",
    "    return res\n",
    "\n",
    "print(dividingBy5(13))\n",
    "\n"
   ]
  },
  {
   "cell_type": "code",
   "execution_count": 22,
   "id": "4582c7fa",
   "metadata": {},
   "outputs": [
    {
     "name": "stdout",
     "output_type": "stream",
     "text": [
      "1\n"
     ]
    }
   ],
   "source": [
    "# Write a function to get the remainder of the number after dividing by a given number\n",
    "def dividingBy5(val1,val2):\n",
    "    res=val1%val2\n",
    "    return res\n",
    "\n",
    "print(dividingBy5(13,2))"
   ]
  },
  {
   "cell_type": "code",
   "execution_count": null,
   "id": "3ac5552b",
   "metadata": {},
   "outputs": [],
   "source": [
    "## Scope of the variable"
   ]
  },
  {
   "cell_type": "code",
   "execution_count": 26,
   "id": "cea7420d",
   "metadata": {},
   "outputs": [
    {
     "name": "stdout",
     "output_type": "stream",
     "text": [
      "The vlaue of x inside the function is :10\n",
      "The vlaue of x outside the function is :20\n"
     ]
    }
   ],
   "source": [
    "def my_fun():\n",
    "    x=10 #local variable\n",
    "    print(f\"The vlaue of x inside the function is :{x}\")\n",
    "x=20 # global variables\n",
    "my_fun()\n",
    "print(f\"The vlaue of x outside the function is :{x}\")"
   ]
  },
  {
   "cell_type": "code",
   "execution_count": 31,
   "id": "a2fdcf93",
   "metadata": {},
   "outputs": [
    {
     "name": "stdout",
     "output_type": "stream",
     "text": [
      "The vlaue of x inside the function is :10\n",
      "The vlaue of x outside the function is :10\n"
     ]
    }
   ],
   "source": [
    "#Global variable inside the function\n",
    "def my_fun():\n",
    "    global x\n",
    "    x=10 #local variable\n",
    "    print(f\"The vlaue of x inside the function is :{x}\")\n",
    "x=20 # global variables\n",
    "my_fun()\n",
    "print(f\"The vlaue of x outside the function is :{x}\")"
   ]
  },
  {
   "cell_type": "code",
   "execution_count": 32,
   "id": "173b6f84",
   "metadata": {},
   "outputs": [
    {
     "name": "stdout",
     "output_type": "stream",
     "text": [
      "130.0\n"
     ]
    }
   ],
   "source": [
    "# Ex 3\n",
    "# Write a function to calculate the total price of the product including the tax\n",
    "\n",
    "def totalPrice(price, rate):\n",
    "    totalPrice=price*(1+rate)\n",
    "    return totalPrice\n",
    "\n",
    "print(totalPrice(100,0.3))   \n"
   ]
  },
  {
   "cell_type": "code",
   "execution_count": null,
   "id": "18a3349d",
   "metadata": {},
   "outputs": [],
   "source": [
    "# Arguments\n",
    "# 1. Positional Arguments\n",
    "# 2. Default Arguments"
   ]
  },
  {
   "cell_type": "code",
   "execution_count": 34,
   "id": "0c1be347",
   "metadata": {},
   "outputs": [
    {
     "name": "stdout",
     "output_type": "stream",
     "text": [
      "130.0\n",
      "124.0\n"
     ]
    }
   ],
   "source": [
    "# Default Arguments\n",
    "def totalPrice(price, rate=0.3):\n",
    "    totalPrice=price*(1+rate)\n",
    "    return totalPrice\n",
    "\n",
    "print(totalPrice(100)) \n",
    "print(totalPrice(100,0.24)) "
   ]
  },
  {
   "cell_type": "code",
   "execution_count": 51,
   "id": "824aebda",
   "metadata": {},
   "outputs": [
    {
     "name": "stdout",
     "output_type": "stream",
     "text": [
      "The value of price is: 100\n",
      "The value of tax rate is: 0.3\n",
      "The total price of the product is:130.0\n"
     ]
    }
   ],
   "source": [
    "# Default Arguments\n",
    "def totalPrice(price,tax=0.3):\n",
    "    print(f\"The value of price is: {price}\")\n",
    "    print(f\"The value of tax rate is: {tax}\")\n",
    "    total=price+price*tax\n",
    "    return total\n",
    "\n",
    "total_price=totalPrice(100)\n",
    "print(f\"The total price of the product is:{total_price}\")"
   ]
  },
  {
   "cell_type": "code",
   "execution_count": null,
   "id": "52dc1ad0",
   "metadata": {},
   "outputs": [],
   "source": [
    "# 3. Key word arguments"
   ]
  },
  {
   "cell_type": "code",
   "execution_count": 36,
   "id": "9c1bbbfc",
   "metadata": {},
   "outputs": [
    {
     "name": "stdout",
     "output_type": "stream",
     "text": [
      "steve is from  Canada\n"
     ]
    }
   ],
   "source": [
    "def origin(name,country):\n",
    "    print(f\"{name} is from  {country}\")\n",
    "origin('steve','Canada')"
   ]
  },
  {
   "cell_type": "code",
   "execution_count": 37,
   "id": "1eeb20c9",
   "metadata": {},
   "outputs": [
    {
     "name": "stdout",
     "output_type": "stream",
     "text": [
      "Canada is from  steve\n"
     ]
    }
   ],
   "source": [
    "origin('Canada','steve')"
   ]
  },
  {
   "cell_type": "code",
   "execution_count": 40,
   "id": "3fe77a83",
   "metadata": {},
   "outputs": [
    {
     "name": "stdout",
     "output_type": "stream",
     "text": [
      "Steve is from  Canada\n"
     ]
    }
   ],
   "source": [
    "origin(country='Canada',name='Steve')"
   ]
  },
  {
   "cell_type": "code",
   "execution_count": 52,
   "id": "ec6375b0",
   "metadata": {},
   "outputs": [
    {
     "name": "stdout",
     "output_type": "stream",
     "text": [
      "Steve is from  Canada\n"
     ]
    }
   ],
   "source": [
    "origin(name='Steve',country='Canada')"
   ]
  },
  {
   "cell_type": "code",
   "execution_count": null,
   "id": "cce68d8c",
   "metadata": {},
   "outputs": [],
   "source": [
    "# 4. *args=>Variable Args / Variable Number of Arguments / Arbitary Args\n",
    "# 5. **kwargs => Variable key word args / Variable Number of key word Arguments / Arbitary KW Args\n",
    "# Lambda,Map,Filter"
   ]
  },
  {
   "cell_type": "code",
   "execution_count": 56,
   "id": "9980538f",
   "metadata": {},
   "outputs": [
    {
     "data": {
      "text/plain": [
       "25"
      ]
     },
     "execution_count": 56,
     "metadata": {},
     "output_type": "execute_result"
    }
   ],
   "source": [
    "def add_numbers(a,b):\n",
    "    \n",
    "    \n",
    "    return a+b\n",
    "\n",
    "add_numbers(10,15)"
   ]
  },
  {
   "cell_type": "code",
   "execution_count": 57,
   "id": "0ea5cc93",
   "metadata": {},
   "outputs": [
    {
     "ename": "TypeError",
     "evalue": "add_numbers() missing 3 required positional arguments: 'c', 'd', and 'e'",
     "output_type": "error",
     "traceback": [
      "\u001b[1;31m---------------------------------------------------------------------------\u001b[0m",
      "\u001b[1;31mTypeError\u001b[0m                                 Traceback (most recent call last)",
      "\u001b[1;32m~\\AppData\\Local\\Temp\\ipykernel_24984\\3483317711.py\u001b[0m in \u001b[0;36m<module>\u001b[1;34m\u001b[0m\n\u001b[0;32m      4\u001b[0m     \u001b[1;32mreturn\u001b[0m \u001b[0ma\u001b[0m\u001b[1;33m+\u001b[0m\u001b[0mb\u001b[0m\u001b[1;33m\u001b[0m\u001b[1;33m\u001b[0m\u001b[0m\n\u001b[0;32m      5\u001b[0m \u001b[1;33m\u001b[0m\u001b[0m\n\u001b[1;32m----> 6\u001b[1;33m \u001b[0madd_numbers\u001b[0m\u001b[1;33m(\u001b[0m\u001b[1;36m10\u001b[0m\u001b[1;33m,\u001b[0m\u001b[1;36m15\u001b[0m\u001b[1;33m)\u001b[0m\u001b[1;33m\u001b[0m\u001b[1;33m\u001b[0m\u001b[0m\n\u001b[0m",
      "\u001b[1;31mTypeError\u001b[0m: add_numbers() missing 3 required positional arguments: 'c', 'd', and 'e'"
     ]
    }
   ],
   "source": [
    "def add_numbers(a,b,c,d,e):\n",
    "    \n",
    "    \n",
    "    return a+b\n",
    "\n",
    "add_numbers(10,15)"
   ]
  },
  {
   "cell_type": "code",
   "execution_count": 62,
   "id": "9f1f3ba5",
   "metadata": {},
   "outputs": [
    {
     "name": "stdout",
     "output_type": "stream",
     "text": [
      "The type of args is : <class 'tuple'>\n",
      "The value of args is : ()\n"
     ]
    },
    {
     "data": {
      "text/plain": [
       "0"
      ]
     },
     "execution_count": 62,
     "metadata": {},
     "output_type": "execute_result"
    }
   ],
   "source": [
    "def add_numbers(*args):\n",
    "    \n",
    "    \n",
    "    print(f\"The type of args is : {type(args)}\") # data type of the args\n",
    "    print(f\"The value of args is : {args}\")# value type of the args\n",
    "    res=0\n",
    "    \n",
    "    for i in args:\n",
    "        res+=i\n",
    "        \n",
    "    return res\n",
    "\n",
    "add_numbers()"
   ]
  },
  {
   "cell_type": "code",
   "execution_count": 63,
   "id": "3588c4a6",
   "metadata": {},
   "outputs": [
    {
     "name": "stdout",
     "output_type": "stream",
     "text": [
      "The type of args is : <class 'tuple'>\n",
      "The value of args is : (2, 4)\n"
     ]
    },
    {
     "data": {
      "text/plain": [
       "6"
      ]
     },
     "execution_count": 63,
     "metadata": {},
     "output_type": "execute_result"
    }
   ],
   "source": [
    "add_numbers(2,4)"
   ]
  },
  {
   "cell_type": "code",
   "execution_count": 64,
   "id": "aa3b702d",
   "metadata": {},
   "outputs": [
    {
     "name": "stdout",
     "output_type": "stream",
     "text": [
      "The type of args is : <class 'tuple'>\n",
      "The value of args is : (10, 20, 30, 40)\n"
     ]
    },
    {
     "data": {
      "text/plain": [
       "100"
      ]
     },
     "execution_count": 64,
     "metadata": {},
     "output_type": "execute_result"
    }
   ],
   "source": [
    "add_numbers(10,20,30,40)"
   ]
  },
  {
   "cell_type": "code",
   "execution_count": null,
   "id": "dbb5f27d",
   "metadata": {},
   "outputs": [],
   "source": [
    "## Positional Arguments and *args"
   ]
  },
  {
   "cell_type": "code",
   "execution_count": 67,
   "id": "9771a694",
   "metadata": {},
   "outputs": [
    {
     "name": "stdout",
     "output_type": "stream",
     "text": [
      "The value of a is : 4 and b is 5\n",
      "The type of args is : <class 'tuple'>\n",
      "The value of args is : (6, 7, 8, 9, 10)\n"
     ]
    },
    {
     "data": {
      "text/plain": [
       "49"
      ]
     },
     "execution_count": 67,
     "metadata": {},
     "output_type": "execute_result"
    }
   ],
   "source": [
    "def add_numbers(a,b,*args):\n",
    "    \n",
    "    print(f\"The value of a is : {a} and b is {b}\") \n",
    "    print(f\"The type of args is : {type(args)}\") # data type of the args\n",
    "    print(f\"The value of args is : {args}\")# value type of the args\n",
    "    res=a+b\n",
    "    \n",
    "    for i in args:\n",
    "        res+=i\n",
    "        \n",
    "    return res\n",
    "\n",
    "add_numbers(4,5,6,7,8,9,10)"
   ]
  },
  {
   "cell_type": "code",
   "execution_count": null,
   "id": "f95380d1",
   "metadata": {},
   "outputs": [],
   "source": [
    "## **kwargs\n",
    "# variable number of key word arguments"
   ]
  },
  {
   "cell_type": "code",
   "execution_count": 69,
   "id": "11c0fc79",
   "metadata": {},
   "outputs": [
    {
     "name": "stdout",
     "output_type": "stream",
     "text": [
      "The data type of kwargs is <class 'dict'>\n",
      "The value of args is {'name': 'steve', 'country': 'Australia', 'greet': 'hi'}\n"
     ]
    }
   ],
   "source": [
    "def greet(**kwargs):\n",
    "    #message=''\n",
    "    print(f\"The data type of kwargs is {type(kwargs)}\")\n",
    "    print(f\"The value of args is {kwargs}\")\n",
    "   # for  k,v in kwargs.items():\n",
    "          \n",
    "greet(name='steve',country='Australia',greet='hi')\n",
    "        "
   ]
  },
  {
   "cell_type": "code",
   "execution_count": 70,
   "id": "cf1272ac",
   "metadata": {},
   "outputs": [
    {
     "name": "stdout",
     "output_type": "stream",
     "text": [
      "The data type of kwargs is <class 'dict'>\n",
      "The value of args is {}\n"
     ]
    }
   ],
   "source": [
    "greet()"
   ]
  },
  {
   "cell_type": "code",
   "execution_count": 71,
   "id": "df704cad",
   "metadata": {},
   "outputs": [
    {
     "name": "stdout",
     "output_type": "stream",
     "text": [
      "The data type of kwargs is <class 'dict'>\n",
      "The value of args is {'greet': 'welcome'}\n"
     ]
    }
   ],
   "source": [
    "greet(greet='welcome')"
   ]
  },
  {
   "cell_type": "code",
   "execution_count": 77,
   "id": "cb16b1e5",
   "metadata": {},
   "outputs": [],
   "source": [
    "def test_args(a,b,*args,**kwargs):\n",
    "    \n",
    "    print(f\"The data type of args is {type(args)}\")\n",
    "    print(f\"The value of args is {args}\")\n",
    "   \n",
    "    print(f\"The data type of kwargs is {type(kwargs)}\")\n",
    "    print(f\"The value of kwargs is {kwargs}\")\n",
    "   # for  k,v in kwargs.items():\n",
    "          \n"
   ]
  },
  {
   "cell_type": "code",
   "execution_count": 78,
   "id": "8b8559f9",
   "metadata": {},
   "outputs": [
    {
     "name": "stdout",
     "output_type": "stream",
     "text": [
      "The data type of args is <class 'tuple'>\n",
      "The value of args is (30,)\n",
      "The data type of kwargs is <class 'dict'>\n",
      "The value of kwargs is {}\n",
      "The data type of args is <class 'tuple'>\n",
      "The value of args is (30, 40, 50)\n",
      "The data type of kwargs is <class 'dict'>\n",
      "The value of kwargs is {}\n",
      "The data type of args is <class 'tuple'>\n",
      "The value of args is ('how', 'are', 'you')\n",
      "The data type of kwargs is <class 'dict'>\n",
      "The value of kwargs is {'name': 'steve', 'country': 'Australia', 'greet': 'hi'}\n"
     ]
    }
   ],
   "source": [
    "test_args(10,20,30) # a 10,b 20, args 30\n",
    "\n",
    "test_args(10,20,30,40,50) # a 10,b 20, args (30 40 50)\n",
    "\n",
    "#test_args() # Error\n",
    "\n",
    "test_args('hi','hello','how','are','you',name='steve',country='Australia',greet='hi') \n",
    "# a hi, b hello, arg (how are you),kwargs{name:steve,country:australia,greet:hi}"
   ]
  },
  {
   "cell_type": "raw",
   "id": "13a12865",
   "metadata": {},
   "source": [
    "# Lambda\n",
    "# Properties\n",
    "    Anonymous Function\n",
    "    pass \"n\" number of arguments to the lambda function\n",
    "    returns only one single value"
   ]
  },
  {
   "cell_type": "code",
   "execution_count": null,
   "id": "2d8de004",
   "metadata": {},
   "outputs": [],
   "source": [
    "# Syntax\n",
    "# lambda_name=lambda arguments : Expression / Logic\n",
    "## Calling a lambda function\n",
    "# lambda_name()"
   ]
  },
  {
   "cell_type": "code",
   "execution_count": 79,
   "id": "8e0de63c",
   "metadata": {},
   "outputs": [
    {
     "data": {
      "text/plain": [
       "'Hi, welcome the BI Sessions'"
      ]
     },
     "execution_count": 79,
     "metadata": {},
     "output_type": "execute_result"
    }
   ],
   "source": [
    "# Scenario 1: with no arguments\n",
    "greet=lambda:'Hi, welcome the BI Sessions'\n",
    "greet()"
   ]
  },
  {
   "cell_type": "code",
   "execution_count": 81,
   "id": "1498b1c4",
   "metadata": {},
   "outputs": [
    {
     "name": "stdout",
     "output_type": "stream",
     "text": [
      "The length of the string is : 17\n"
     ]
    }
   ],
   "source": [
    "# Scenario 2: with a single argument\n",
    "# Write a lambda function to calculate the length of given string\n",
    "\n",
    "str_len=lambda x: len(x)\n",
    "res=str_len('hello how are you')\n",
    "print(\"The length of the string is :\",res)"
   ]
  },
  {
   "cell_type": "code",
   "execution_count": 82,
   "id": "a7ad28ee",
   "metadata": {},
   "outputs": [
    {
     "name": "stdout",
     "output_type": "stream",
     "text": [
      "The lower case of the string is : hello how are you\n"
     ]
    }
   ],
   "source": [
    "str_lower=lambda x: x.lower()\n",
    "res=str_lower('Hello How are you')\n",
    "print(\"The lower case of the string is :\",res)"
   ]
  },
  {
   "cell_type": "code",
   "execution_count": 83,
   "id": "46fb8d36",
   "metadata": {},
   "outputs": [
    {
     "data": {
      "text/plain": [
       "'Hi Spencer'"
      ]
     },
     "execution_count": 83,
     "metadata": {},
     "output_type": "execute_result"
    }
   ],
   "source": [
    "# Scenario 3\n",
    "# Add 2 strings\n",
    "\n",
    "str_concat=lambda x,y : x+' '+y\n",
    "str_concat('Hi','Spencer')"
   ]
  },
  {
   "cell_type": "code",
   "execution_count": null,
   "id": "eac01136",
   "metadata": {},
   "outputs": [],
   "source": [
    "# MAP\n",
    "# Syntax\n",
    "# map(function, iterable)\n",
    "# iterable=list, tuple, string, dictionary, set"
   ]
  },
  {
   "cell_type": "code",
   "execution_count": 85,
   "id": "57fdc142",
   "metadata": {},
   "outputs": [],
   "source": [
    "def add_10(x):\n",
    "    return x+10"
   ]
  },
  {
   "cell_type": "code",
   "execution_count": 86,
   "id": "770c99df",
   "metadata": {},
   "outputs": [
    {
     "name": "stdout",
     "output_type": "stream",
     "text": [
      "The end result is: <map object at 0x00000244777D4460>\n"
     ]
    }
   ],
   "source": [
    "# Add 10 to a list of numbers\n",
    "numbers_list=[2,3,4,5,6]\n",
    "res=map(add_10,numbers_list)\n",
    "print(\"The end result is:\",res)"
   ]
  },
  {
   "cell_type": "code",
   "execution_count": 87,
   "id": "bfb30e7a",
   "metadata": {},
   "outputs": [
    {
     "data": {
      "text/plain": [
       "[12, 13, 14, 15, 16]"
      ]
     },
     "execution_count": 87,
     "metadata": {},
     "output_type": "execute_result"
    }
   ],
   "source": [
    "list(res)"
   ]
  },
  {
   "cell_type": "code",
   "execution_count": 88,
   "id": "699e693a",
   "metadata": {},
   "outputs": [
    {
     "data": {
      "text/plain": [
       "[12, 13, 14, 15, 16]"
      ]
     },
     "execution_count": 88,
     "metadata": {},
     "output_type": "execute_result"
    }
   ],
   "source": [
    "# map with lambda function\n",
    "list(map(lambda x: x+10,numbers_list))"
   ]
  },
  {
   "cell_type": "code",
   "execution_count": 90,
   "id": "b8a7a91c",
   "metadata": {},
   "outputs": [
    {
     "name": "stdout",
     "output_type": "stream",
     "text": [
      "[3, 6, 4]\n"
     ]
    }
   ],
   "source": [
    "# Exercise:\n",
    "# Write a map function to calc length of strings\n",
    "\n",
    "words=['red','yellow','blue']\n",
    "\n",
    "# Calculate the length of each string using map and lambda\n",
    "str_len=list(map(lambda x:len(x),words))\n",
    "print(str_len)"
   ]
  },
  {
   "cell_type": "code",
   "execution_count": null,
   "id": "6df07225",
   "metadata": {},
   "outputs": [],
   "source": [
    "# Filter\n",
    "# filter(function,iterable) #[2,false,3,5] => [2,3,5]\n"
   ]
  },
  {
   "cell_type": "code",
   "execution_count": 93,
   "id": "04fc7637",
   "metadata": {},
   "outputs": [
    {
     "data": {
      "text/plain": [
       "[2, 8]"
      ]
     },
     "execution_count": 93,
     "metadata": {},
     "output_type": "execute_result"
    }
   ],
   "source": [
    "# Cal the even numbers from a list of numbers\n",
    "numbers=[2,7,8,9]\n",
    "evens=list(filter(lambda x: x%2==0,numbers))\n",
    "evens\n"
   ]
  },
  {
   "cell_type": "code",
   "execution_count": 95,
   "id": "09e0712e",
   "metadata": {},
   "outputs": [
    {
     "data": {
      "text/plain": [
       "['yellow', 'blue']"
      ]
     },
     "execution_count": 95,
     "metadata": {},
     "output_type": "execute_result"
    }
   ],
   "source": [
    "# Get all the strings whose length is >3\n",
    "words=['red','yellow','blue']\n",
    "\n",
    "res=list(filter(lambda x:len(x)>3,words))\n",
    "res"
   ]
  },
  {
   "cell_type": "code",
   "execution_count": null,
   "id": "392c73bd",
   "metadata": {},
   "outputs": [],
   "source": []
  }
 ],
 "metadata": {
  "kernelspec": {
   "display_name": "Python 3 (ipykernel)",
   "language": "python",
   "name": "python3"
  },
  "language_info": {
   "codemirror_mode": {
    "name": "ipython",
    "version": 3
   },
   "file_extension": ".py",
   "mimetype": "text/x-python",
   "name": "python",
   "nbconvert_exporter": "python",
   "pygments_lexer": "ipython3",
   "version": "3.9.13"
  }
 },
 "nbformat": 4,
 "nbformat_minor": 5
}
