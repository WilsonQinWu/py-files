{
 "cells": [
  {
   "cell_type": "code",
   "execution_count": 7,
   "id": "93447f76",
   "metadata": {},
   "outputs": [
    {
     "name": "stdout",
     "output_type": "stream",
     "text": [
      "{'Ten': 10, 'Twenty': 20, 'Thirty': 30}\n"
     ]
    }
   ],
   "source": [
    "'''Ex 1: Convert two lists into a dictionary\n",
    "\n",
    "    Sample Input\n",
    "    keys =   ['Ten', 'Twenty', 'Thirty']\n",
    "    values = [10, 20, 30]\n",
    "    \n",
    "    Hints:\n",
    "    There are multiple ways of solving this. ( one can use zip function which we haven't discussed yet)\n",
    "    Try to do this using for loop. Take the length of the list and iterate on that range(length).\n",
    "'''\n",
    "keys =   ['Ten', 'Twenty', 'Thirty']\n",
    "values = [10, 20, 30]\n",
    "myDict={}\n",
    "values_index=0\n",
    "\n",
    "for i in keys:\n",
    "    myDict[i]=values[values_index]\n",
    "    values_index+=1\n",
    "print(myDict)"
   ]
  },
  {
   "cell_type": "code",
   "execution_count": 10,
   "id": "012e2cd1",
   "metadata": {},
   "outputs": [
    {
     "name": "stdout",
     "output_type": "stream",
     "text": [
      "{'Ten': 10, 'Twenty': 20, 'Thirty': 30, 'Fourty': 40, 'Fifty': 50}\n"
     ]
    }
   ],
   "source": [
    "'''\n",
    "Ex 2: Merge two Python dictionaries into one\n",
    "\n",
    "    Sample Input\n",
    "    dict1 = {'Ten': 10, 'Twenty': 20, 'Thirty': 30}\n",
    "    dict2 = {'Thirty': 30, 'Fourty': 40, 'Fifty': 50}\n",
    "    \n",
    "    Expected Output\n",
    "    {'Ten': 10, 'Twenty': 20, 'Thirty': 30, 'Fourty': 40, 'Fifty': 50}\n",
    "'''\n",
    "dict1 = {'Ten': 10, 'Twenty': 20, 'Thirty': 30}\n",
    "dict2 = {'Thirty': 30, 'Fourty': 40, 'Fifty': 50}\n",
    "res={}\n",
    "res.update(dict1)\n",
    "res.update(dict2)\n",
    "\n",
    "print(res)"
   ]
  },
  {
   "cell_type": "code",
   "execution_count": 39,
   "id": "7241a59e",
   "metadata": {},
   "outputs": [
    {
     "name": "stdout",
     "output_type": "stream",
     "text": [
      "{'student': {'name': 'Mike', 'marks': {'physics': 70, 'history': 80}}}\n",
      "{'name': 'Mike', 'marks': {'physics': 70, 'history': 80}}\n",
      "{'physics': 70, 'history': 80}\n",
      "80\n",
      "Mike\n"
     ]
    }
   ],
   "source": [
    "'''Ex 3: Print the value of key ‘history’ from the below dict\n",
    "    Hint : Remember the Nested lists, use the same approach but instead of index, we have keys here\n",
    "\n",
    "    sampleDict = {\n",
    "        \"class\": {\n",
    "            \"student\": {\n",
    "                \"name\": \"Mike\",\n",
    "                \"marks\": {\n",
    "                    \"physics\": 70,\n",
    "                    \"history\": 80\n",
    "                }\n",
    "            }\n",
    "        }\n",
    "    }\n",
    "    \n",
    "    Expected output:  80'''\n",
    "\n",
    "sampleDict = {\"class\": {\"student\": {\"name\": \"Mike\",\"marks\": {\"physics\": 70,\"history\": 80 } } } }\n",
    "print(sampleDict['class'])\n",
    "print(sampleDict['class']['student'])\n",
    "print(sampleDict['class']['student']['marks'])\n",
    "print(sampleDict['class']['student']['marks']['history'])\n",
    "\n",
    "print(sampleDict['class']['student']['name'])\n",
    "\n"
   ]
  },
  {
   "cell_type": "code",
   "execution_count": 40,
   "id": "65f319f3",
   "metadata": {},
   "outputs": [
    {
     "name": "stdout",
     "output_type": "stream",
     "text": [
      "{'Kelly': {'designation': 'Developer', 'salary': 8000}, 'Emma': {'designation': 'Developer', 'salary': 8000}}\n"
     ]
    }
   ],
   "source": [
    "'''\n",
    "Ex 4: Initialize dictionary with default values\n",
    "\n",
    "    Sample Input:\n",
    "    employees = ['Kelly', 'Emma']\n",
    "    defaults = {\"designation\": 'Developer', \"salary\": 8000}\n",
    "    \n",
    "    Expected output:\n",
    "    {'Kelly': {'designation': 'Developer', 'salary': 8000}, 'Emma': {'designation': 'Developer', 'salary': 8000}}\n",
    "'''\n",
    "employees = ['Kelly', 'Emma']\n",
    "defaults = {\"designation\": 'Developer', \"salary\": 8000}\n",
    "\n",
    "res={}\n",
    "\n",
    "for i in employees:\n",
    "    res[i]=defaults\n",
    "    \n",
    "print(res)\n",
    "    \n"
   ]
  },
  {
   "cell_type": "code",
   "execution_count": 46,
   "id": "951ce403",
   "metadata": {},
   "outputs": [
    {
     "name": "stdout",
     "output_type": "stream",
     "text": [
      "{'name': 'Kelly', 'salary': 8000}\n"
     ]
    }
   ],
   "source": [
    "'''Ex 5: Create a new dictionary from a given dictionary\n",
    "    Hints:\n",
    "    1st Method : You can delete the unwanted elements to get the desired dictionary\n",
    "    2nd Method : Take an empty dictionary\n",
    "               Loop through the input dictionary\n",
    "                    Add the required elements to the new dictionary\n",
    "\n",
    "    Sample Input\n",
    "    sample_dict = { \"name\": \"Kelly\", \"age\": 25, \"salary\": 8000, \"city\": \"New york\"}\n",
    "    \n",
    "    Expected Output\n",
    "    {'name': 'Kelly', 'salary': 8000}\n",
    "'''\n",
    "\n",
    "sample_dict = { \"name\": \"Kelly\", \"age\": 25, \"salary\": 8000, \"city\": \"New york\"}\n",
    "res={}\n",
    "\n",
    "for key in sample_dict:\n",
    "    if key=='name' or key=='salary':\n",
    "        res[key]=sample_dict[key]\n",
    "    else:\n",
    "        pass\n",
    "print(res)\n"
   ]
  },
  {
   "cell_type": "code",
   "execution_count": 47,
   "id": "27e00c15",
   "metadata": {},
   "outputs": [
    {
     "name": "stdout",
     "output_type": "stream",
     "text": [
      "{'age': 25, 'city': 'New york'}\n"
     ]
    }
   ],
   "source": [
    "'''Ex 6: Delete a list of keys from a dictionary\n",
    "\n",
    "    Sample Input\n",
    "    sample_dict = { \"name\": \"Kelly\", \"age\": 25, \"salary\": 8000, \"city\": \"New york\" }\n",
    "\n",
    "    # Keys to remove\n",
    "    keys = [\"name\", \"salary\"]\n",
    "    \n",
    "    # Expected Output\n",
    "    {'city': 'New york', 'age': 25}'''\n",
    "\n",
    "sample_dict = { \"name\": \"Kelly\", \"age\": 25, \"salary\": 8000, \"city\": \"New york\" }\n",
    "keys = [\"name\", \"salary\"]\n",
    "\n",
    "for key in keys:\n",
    "    sample_dict.pop(key)\n",
    "print(sample_dict)"
   ]
  },
  {
   "cell_type": "code",
   "execution_count": 56,
   "id": "fbc60d32",
   "metadata": {},
   "outputs": [
    {
     "name": "stdout",
     "output_type": "stream",
     "text": [
      "No 200\n"
     ]
    }
   ],
   "source": [
    "'''Ex 7: Check if the value 200 exists in the given dictionary, If the value 200 is present in dictionary\n",
    "      print the line \"200 present in the dict\"\n",
    "\n",
    "    Sample Input\n",
    "    sample_dict = {'a': 100, 'b': 200, 'c': 300}\n",
    "    \n",
    "    Expected Output\n",
    "    200 present in the dict'''\n",
    "\n",
    "sample_dict = {'a': 100, 'b': 200, 'c': 300}\n",
    "num=0\n",
    "for i in sample_dict:\n",
    "        if sample_dict[i]==200:\n",
    "            num=num+1\n",
    "        else:\n",
    "            pass\n",
    "if num>1: \n",
    "    print(\"200 present in the dict\")\n",
    "else:\n",
    "    print(\"No 200\")"
   ]
  },
  {
   "cell_type": "code",
   "execution_count": 76,
   "id": "239f65b2",
   "metadata": {},
   "outputs": [
    {
     "name": "stdout",
     "output_type": "stream",
     "text": [
      "{'emp1': {'name': 'Jhon', 'salary': 7500}, 'emp2': {'name': 'Emma', 'salary': 8000}, 'emp3': {'name': 'Brad', 'salary': 8500}}\n"
     ]
    }
   ],
   "source": [
    "'''Ex 8: Write a Python program to change Brad’s salary to 8500 in the following dictionary\n",
    "\n",
    "    Sample Input\n",
    "    sample_dict = {\n",
    "                    'emp1': {'name': 'Jhon', 'salary': 7500},\n",
    "                    'emp2': {'name': 'Emma', 'salary': 8000},\n",
    "                    'emp3': {'name': 'Brad', 'salary': 500}\n",
    "                 }\n",
    "    \n",
    "    Expected Output\n",
    "    \n",
    "        sample_dict = {\n",
    "                    'emp1': {'name': 'Jhon', 'salary': 7500},\n",
    "                    'emp2': {'name': 'Emma', 'salary': 8000},\n",
    "                    'emp3': {'name': 'Brad', 'salary': 8500}\n",
    "                 }'''\n",
    "\n",
    "sample_dict = {\n",
    "                 'emp1': {'name': 'Jhon', 'salary': 7500},\n",
    "                 'emp2': {'name': 'Emma', 'salary': 8000},\n",
    "                 'emp3': {'name': 'Brad', 'salary': 500}\n",
    "                 }\n",
    "    \n",
    "for i in sample_dict:    \n",
    "    if sample_dict[i]['name']=='Brad':\n",
    "           sample_dict[i]['salary']=8500\n",
    "    else:\n",
    "        pass\n",
    "print(sample_dict)"
   ]
  },
  {
   "cell_type": "code",
   "execution_count": null,
   "id": "55e4842d",
   "metadata": {},
   "outputs": [],
   "source": []
  }
 ],
 "metadata": {
  "kernelspec": {
   "display_name": "Python 3 (ipykernel)",
   "language": "python",
   "name": "python3"
  },
  "language_info": {
   "codemirror_mode": {
    "name": "ipython",
    "version": 3
   },
   "file_extension": ".py",
   "mimetype": "text/x-python",
   "name": "python",
   "nbconvert_exporter": "python",
   "pygments_lexer": "ipython3",
   "version": "3.9.13"
  }
 },
 "nbformat": 4,
 "nbformat_minor": 5
}
