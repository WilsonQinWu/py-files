{
 "cells": [
  {
   "cell_type": "raw",
   "id": "be371118",
   "metadata": {},
   "source": [
    "# Class"
   ]
  },
  {
   "cell_type": "raw",
   "id": "b528aafd",
   "metadata": {},
   "source": [
    "# Syntax\n",
    "class Name_of_Class:\n",
    "    pass"
   ]
  },
  {
   "cell_type": "code",
   "execution_count": 50,
   "id": "96a5a5cf",
   "metadata": {},
   "outputs": [],
   "source": [
    "class Car:\n",
    "    pass # Pass acts like a place holder"
   ]
  },
  {
   "cell_type": "code",
   "execution_count": 51,
   "id": "7dad4a3f",
   "metadata": {},
   "outputs": [],
   "source": [
    "# init() Method\n",
    "class Car:\n",
    "    \n",
    "    def __init__(self):\n",
    "        pass"
   ]
  },
  {
   "cell_type": "code",
   "execution_count": 52,
   "id": "3066827d",
   "metadata": {},
   "outputs": [],
   "source": [
    "# Create a class with some attributes inside the init method\n",
    "class Car:\n",
    "    # Initialize the instance variables or instance attributes\n",
    "    def __init__(self,color,style):\n",
    "        self.color=color\n",
    "        self.style=style"
   ]
  },
  {
   "cell_type": "code",
   "execution_count": 53,
   "id": "d90fb3f1",
   "metadata": {},
   "outputs": [],
   "source": [
    "# Creating an object to the class\n",
    "# Syntax:\n",
    "# object_name = ClassName( init_arg1,init_arg2)\n",
    "\n",
    "object_c=Car('blue','sedan')"
   ]
  },
  {
   "cell_type": "code",
   "execution_count": 58,
   "id": "84726251",
   "metadata": {},
   "outputs": [],
   "source": [
    "# Attributes - Class Attribute or Class Variable / Instance variable or Instance Attribute\n",
    "class Car:\n",
    "    # class variable\n",
    "    wheels=4\n",
    "    \n",
    "    #Initialize the instance variables or instance attributes\n",
    "    def __init__(self,color,style):\n",
    "        self.color=color\n",
    "        self.style=style"
   ]
  },
  {
   "cell_type": "code",
   "execution_count": 59,
   "id": "b35bc5cd",
   "metadata": {},
   "outputs": [],
   "source": [
    "object_c=Car('black','sedan')"
   ]
  },
  {
   "cell_type": "code",
   "execution_count": 61,
   "id": "7b31ce7b",
   "metadata": {},
   "outputs": [
    {
     "name": "stdout",
     "output_type": "stream",
     "text": [
      "sedan\n",
      "black\n",
      "4\n"
     ]
    }
   ],
   "source": [
    "# Accessing the attributes\n",
    "# Syntax : Object_Name.Attribute_Name\n",
    "\n",
    "print(object_c.style)\n",
    "\n",
    "print(object_c.color)\n",
    "\n",
    "print(object_c.wheels)"
   ]
  },
  {
   "cell_type": "code",
   "execution_count": 62,
   "id": "54629ffb",
   "metadata": {},
   "outputs": [
    {
     "name": "stdout",
     "output_type": "stream",
     "text": [
      "sports\n"
     ]
    }
   ],
   "source": [
    "object_c.style='sports'\n",
    "print(object_c.style)"
   ]
  },
  {
   "cell_type": "code",
   "execution_count": 64,
   "id": "00f6a962",
   "metadata": {},
   "outputs": [
    {
     "name": "stdout",
     "output_type": "stream",
     "text": [
      "SUV\n",
      "RED\n",
      "4\n"
     ]
    }
   ],
   "source": [
    "object_x = Car('RED','SUV')\n",
    "print(object_x.style)\n",
    "\n",
    "print(object_x.color)\n",
    "\n",
    "print(object_x.wheels)\n"
   ]
  },
  {
   "cell_type": "code",
   "execution_count": 38,
   "id": "9c49044e",
   "metadata": {},
   "outputs": [],
   "source": [
    "# Adding more methods to the class\n",
    "class Car:\n",
    "    # class variable\n",
    "    wheels=4\n",
    "    \n",
    "    #Initializer\n",
    "    def __init__(self,color,style):\n",
    "        self.color=color\n",
    "        self.style=style\n",
    "    \n",
    "    # Display the car information\n",
    "    def displayInfo(self):\n",
    "        print(f\"The car color is {self.color}\")\n",
    "        print(f\"The car is {self.style}\")\n",
    "        \n",
    "    # Modify the color of the car\n",
    "    def changeColor(self,new_color):\n",
    "        self.color=new_color\n",
    "    "
   ]
  },
  {
   "cell_type": "code",
   "execution_count": 39,
   "id": "218f94b0",
   "metadata": {},
   "outputs": [
    {
     "name": "stdout",
     "output_type": "stream",
     "text": [
      "The car color is Black\n",
      "The car is Sedan\n",
      "The car color is Black\n",
      "The car is Sedan\n"
     ]
    }
   ],
   "source": [
    "c=Car('Black','Sedan')\n",
    "Car.displayInfo(c)\n",
    "c.displayInfo()"
   ]
  },
  {
   "cell_type": "code",
   "execution_count": 40,
   "id": "99a796d1",
   "metadata": {},
   "outputs": [
    {
     "name": "stdout",
     "output_type": "stream",
     "text": [
      "The car color is White\n",
      "The car is Sedan\n"
     ]
    }
   ],
   "source": [
    "c.changeColor('White')\n",
    "c.displayInfo()"
   ]
  },
  {
   "cell_type": "code",
   "execution_count": 47,
   "id": "14a70be5",
   "metadata": {},
   "outputs": [],
   "source": [
    "# Ex: Finding the area and perimeter of a recentangle\n",
    "# 1. Give the name of the class as you wish\n",
    "# 2. init() 2 variables, length and breadth\n",
    "# 3. calculate(): calculate area(l*b) and perimeter(2(l+b)) of rectangle\n",
    "# 4. result(): print the result\n",
    "\n",
    "class aP:\n",
    "    def __init__(self,length,breadth):\n",
    "        self.length=length\n",
    "        self.breadth=breadth\n",
    "        pass\n",
    "    def calc(self):\n",
    "        a=self.length*self.breadth\n",
    "        p=2*(self.length+self.breadth)\n",
    "        \n",
    "        print(f\"Area :{a} & Perimeter:{p}\")\n",
    "        \n",
    "        \n",
    "    \n",
    "    "
   ]
  },
  {
   "cell_type": "code",
   "execution_count": 48,
   "id": "60cce43e",
   "metadata": {},
   "outputs": [
    {
     "name": "stdout",
     "output_type": "stream",
     "text": [
      "Area :120 & Perimeter:44\n"
     ]
    }
   ],
   "source": [
    "object1=aP(10,12)\n",
    "object1.calc()"
   ]
  },
  {
   "cell_type": "code",
   "execution_count": 49,
   "id": "68548cc2",
   "metadata": {},
   "outputs": [
    {
     "data": {
      "text/plain": [
       "'The area of the rectangle is: 600 and perimeter: 100'"
      ]
     },
     "execution_count": 49,
     "metadata": {},
     "output_type": "execute_result"
    }
   ],
   "source": [
    "class Geometry:\n",
    "    def __init__(self, length: float, breadth: float) -> None:\n",
    "        self.length = length\n",
    "        self.breadth = breadth\n",
    "    \n",
    "    def calculate(self):\n",
    "        area = self.length * self.breadth\n",
    "        perimeter = 2 * ( self.length + self.breadth )\n",
    "        return f'The area of the rectangle is: {area} and perimeter: {perimeter}'\n",
    "\n",
    "result = Geometry(20, 30)\n",
    "result.calculate()\n"
   ]
  },
  {
   "cell_type": "code",
   "execution_count": null,
   "id": "7b720937",
   "metadata": {},
   "outputs": [],
   "source": []
  }
 ],
 "metadata": {
  "kernelspec": {
   "display_name": "Python 3 (ipykernel)",
   "language": "python",
   "name": "python3"
  },
  "language_info": {
   "codemirror_mode": {
    "name": "ipython",
    "version": 3
   },
   "file_extension": ".py",
   "mimetype": "text/x-python",
   "name": "python",
   "nbconvert_exporter": "python",
   "pygments_lexer": "ipython3",
   "version": "3.9.13"
  }
 },
 "nbformat": 4,
 "nbformat_minor": 5
}
