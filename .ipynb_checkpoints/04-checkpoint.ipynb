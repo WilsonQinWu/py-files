{
 "cells": [
  {
   "cell_type": "code",
   "execution_count": 1,
   "id": "7e5041d0",
   "metadata": {},
   "outputs": [
    {
     "data": {
      "text/plain": [
       "'E:\\\\Program\\\\Anaconda3\\\\python.exe'"
      ]
     },
     "execution_count": 1,
     "metadata": {},
     "output_type": "execute_result"
    }
   ],
   "source": [
    "import sys\n",
    "\n",
    "sys.executable"
   ]
  },
  {
   "cell_type": "code",
   "execution_count": null,
   "id": "29a7efeb",
   "metadata": {},
   "outputs": [],
   "source": [
    "# Some more operation on list\n",
    "# 1D [x,y,z]\n",
    "# Nested Lists => [x,y,z,[1,,2,a,c],89] 2D List\n",
    "#              => [x,y,z,[1,2,[89,88],3,4],'red','blue'] 3D List\n",
    "# String \n",
    "# Operators => Mathematical Operations, Assignment Operators, Logical Operators, in, not in\n",
    "# Tuple"
   ]
  },
  {
   "cell_type": "code",
   "execution_count": null,
   "id": "f82f2ae7",
   "metadata": {},
   "outputs": [],
   "source": [
    "# range()\n"
   ]
  },
  {
   "cell_type": "code",
   "execution_count": null,
   "id": "5815500c",
   "metadata": {},
   "outputs": [],
   "source": [
    "# In the range of 1 to 100, get me all the even numbers\n",
    "# a=[1,2,3,4,5,.......,99,100]"
   ]
  },
  {
   "cell_type": "code",
   "execution_count": null,
   "id": "869f033d",
   "metadata": {},
   "outputs": [],
   "source": [
    "# range() ==> Gives a range of numbers\n",
    "# case 1: range(10) ==> Gives a range of numbers from 0 to 9"
   ]
  },
  {
   "cell_type": "code",
   "execution_count": 4,
   "id": "13d9c25e",
   "metadata": {},
   "outputs": [
    {
     "name": "stdout",
     "output_type": "stream",
     "text": [
      "[0, 1, 2, 3, 4, 5, 6, 7]\n"
     ]
    }
   ],
   "source": [
    "a=list(range(10))\n",
    "print(a)"
   ]
  },
  {
   "cell_type": "code",
   "execution_count": 8,
   "id": "9d051af0",
   "metadata": {},
   "outputs": [
    {
     "name": "stdout",
     "output_type": "stream",
     "text": [
      "[3, 4, 5, 6, 7, 8, 9]\n",
      "The range of (3,10) is [3, 4, 5, 6, 7, 8, 9]\n",
      "The range of (3,10) is [3, 4, 5, 6, 7, 8, 9]\n",
      "The range of (3,10) is  [3, 4, 5, 6, 7, 8, 9]\n"
     ]
    }
   ],
   "source": [
    "# case 2: range(3,10) ==> Gives a range of numbers from 3 to 9\n",
    "b=list(range(3,10))\n",
    "print(b)\n",
    "print(f'The range of (3,10) is {b}') # f strings\n",
    "print(f\"The range of (3,10) is {b}\") \n",
    "print(\"The range of (3,10) is \",b) "
   ]
  },
  {
   "cell_type": "code",
   "execution_count": 11,
   "id": "03574c79",
   "metadata": {},
   "outputs": [
    {
     "name": "stdout",
     "output_type": "stream",
     "text": [
      "The range of (3,10,2) is [3, 5, 7, 9]\n",
      "The range of (3,10,2) is  [3, 5, 7, 9]\n"
     ]
    }
   ],
   "source": [
    "# case 3: range(3,10,2) ==> Gives a range of numbers from 3 to 9 with a step 2\n",
    "c=list(range(3,10,2))\n",
    "print(f'The range of (3,10,2) is {c}')\n",
    "print(\"The range of (3,10,2) is \",c) "
   ]
  },
  {
   "cell_type": "code",
   "execution_count": 12,
   "id": "193bee79",
   "metadata": {},
   "outputs": [
    {
     "data": {
      "text/plain": [
       "[3, 7]"
      ]
     },
     "execution_count": 12,
     "metadata": {},
     "output_type": "execute_result"
    }
   ],
   "source": [
    "list(range(3,10,4))"
   ]
  },
  {
   "cell_type": "code",
   "execution_count": null,
   "id": "eadb3573",
   "metadata": {},
   "outputs": [],
   "source": [
    "# Strings\n",
    "# split() =>Splits the string into multiple pieces based on the separator"
   ]
  },
  {
   "cell_type": "code",
   "execution_count": 14,
   "id": "31b8e9f6",
   "metadata": {},
   "outputs": [
    {
     "name": "stdout",
     "output_type": "stream",
     "text": [
      "The split result is ['Hi', 'how', 'are', 'you', 'doing', 'today?']\n"
     ]
    }
   ],
   "source": [
    "str1=\"Hi how are you doing today?\"\n",
    "split_res=str1.split()\n",
    "print(f\"The split result is {split_res}\")"
   ]
  },
  {
   "cell_type": "code",
   "execution_count": 15,
   "id": "dc2749f6",
   "metadata": {},
   "outputs": [
    {
     "name": "stdout",
     "output_type": "stream",
     "text": [
      "The split result is ['The date is 2022', '11', '18 and time is 06:57:00']\n"
     ]
    }
   ],
   "source": [
    "str2 = \"The date is 2022-11-18 and time is 06:57:00\"\n",
    "split_res2=str2.split(\"-\")\n",
    "print(f\"The split result is {split_res2}\")"
   ]
  },
  {
   "cell_type": "code",
   "execution_count": 16,
   "id": "6466adee",
   "metadata": {},
   "outputs": [
    {
     "name": "stdout",
     "output_type": "stream",
     "text": [
      "The split result is ['The date is 2022-11-18 and time is 06', '57', '00']\n"
     ]
    }
   ],
   "source": [
    "# Question:\n",
    "# Split the string on the basis of \":\"\n",
    "split_res2=str2.split(\":\")\n",
    "print(f\"The split result is {split_res2}\")"
   ]
  },
  {
   "cell_type": "code",
   "execution_count": 17,
   "id": "f1bdcbc5",
   "metadata": {},
   "outputs": [
    {
     "data": {
      "text/plain": [
       "list"
      ]
     },
     "execution_count": 17,
     "metadata": {},
     "output_type": "execute_result"
    }
   ],
   "source": [
    "type(split_res2)"
   ]
  },
  {
   "cell_type": "code",
   "execution_count": 18,
   "id": "a8db5544",
   "metadata": {},
   "outputs": [
    {
     "name": "stdout",
     "output_type": "stream",
     "text": [
      "the join result is : The date is 2022-11-18 and time is 06 57 00\n"
     ]
    }
   ],
   "source": [
    "# Syntax: \" \".join(split_res2)\n",
    "join_res=\" \".join(split_res2)\n",
    "print(f'the join result is : {join_res}')\n"
   ]
  },
  {
   "cell_type": "code",
   "execution_count": 19,
   "id": "56ecb47e",
   "metadata": {},
   "outputs": [
    {
     "name": "stdout",
     "output_type": "stream",
     "text": [
      "the join result is : The date is 2022-11-18 and time is 06*# 57*# 00\n"
     ]
    }
   ],
   "source": [
    "join_res=\"*# \".join(split_res2)\n",
    "print(f'the join result is : {join_res}')"
   ]
  },
  {
   "cell_type": "code",
   "execution_count": 20,
   "id": "590ac035",
   "metadata": {},
   "outputs": [],
   "source": [
    "# List: Nested List\n",
    "a = [ 'red', 'blue', [10, 'lion', 'orange'], 90.06, 222]"
   ]
  },
  {
   "cell_type": "code",
   "execution_count": 21,
   "id": "7efdf9b6",
   "metadata": {},
   "outputs": [
    {
     "data": {
      "text/plain": [
       "'blue'"
      ]
     },
     "execution_count": 21,
     "metadata": {},
     "output_type": "execute_result"
    }
   ],
   "source": [
    "a[1]"
   ]
  },
  {
   "cell_type": "code",
   "execution_count": 27,
   "id": "17fba223",
   "metadata": {},
   "outputs": [
    {
     "data": {
      "text/plain": [
       "[10, 'lion', 'orange']"
      ]
     },
     "execution_count": 27,
     "metadata": {},
     "output_type": "execute_result"
    }
   ],
   "source": [
    "# Try to get / print just 10\n",
    "# Try to get / print lion\n",
    "#Try to get / print orange\n",
    "# Try to get / print from 10 to orange\n",
    "a[2][0]\n",
    "a[2][1]\n",
    "a[2][2]\n",
    "a[2][:]"
   ]
  },
  {
   "cell_type": "code",
   "execution_count": 32,
   "id": "336aeff7",
   "metadata": {},
   "outputs": [
    {
     "name": "stdout",
     "output_type": "stream",
     "text": [
      "240\n",
      "50\n"
     ]
    }
   ],
   "source": [
    "b = ['red',  ['lion', 'tiger','fox',[200,240,50]],'blue','green']\n",
    "# Get the weight of the tiger\n",
    "b[1] #Gives the element that corresponds to anumals & its weights\n",
    "b[1][3] #Gives all the weights\n",
    "b[1][3][1] # Get the weight of tiger\n",
    "\n",
    "\n",
    "print(b[1][3][1])\n",
    "# Get the weight of fox\n",
    "print(b[1][3][2])"
   ]
  },
  {
   "cell_type": "code",
   "execution_count": 1,
   "id": "58076ed5",
   "metadata": {},
   "outputs": [
    {
     "name": "stdout",
     "output_type": "stream",
     "text": [
      "Hello Python interpreter!\n"
     ]
    }
   ],
   "source": [
    "print(\"Hello Python interpreter!\")"
   ]
  },
  {
   "cell_type": "code",
   "execution_count": null,
   "id": "2d6e1a54",
   "metadata": {},
   "outputs": [],
   "source": []
  },
  {
   "cell_type": "code",
   "execution_count": null,
   "id": "dcbbfb9f",
   "metadata": {},
   "outputs": [],
   "source": []
  }
 ],
 "metadata": {
  "kernelspec": {
   "display_name": "Python 3 (ipykernel)",
   "language": "python",
   "name": "python3"
  },
  "language_info": {
   "codemirror_mode": {
    "name": "ipython",
    "version": 3
   },
   "file_extension": ".py",
   "mimetype": "text/x-python",
   "name": "python",
   "nbconvert_exporter": "python",
   "pygments_lexer": "ipython3",
   "version": "3.9.13"
  }
 },
 "nbformat": 4,
 "nbformat_minor": 5
}
