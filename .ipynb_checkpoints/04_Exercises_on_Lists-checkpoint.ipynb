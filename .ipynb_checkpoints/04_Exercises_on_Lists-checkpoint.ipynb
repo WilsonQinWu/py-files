{
 "cells": [
  {
   "cell_type": "code",
   "execution_count": 8,
   "id": "41749ac2",
   "metadata": {},
   "outputs": [
    {
     "name": "stdout",
     "output_type": "stream",
     "text": [
      "Enter: dfsadfeewerw23423r3we f2323\n",
      "The number of alphabets is  16\n",
      "The number of DIGITS is  10\n"
     ]
    }
   ],
   "source": [
    "# Question 1\n",
    "# Write a program that accepts a sentence and calculate the number of alphabets and digits.\n",
    "#\n",
    "# Sample Input :  hello world! 123\n",
    "#\n",
    "# Exp Output : \n",
    "# The number of alphabets is 10 \n",
    "# The number of DIGITS is 3\n",
    "\n",
    "a=\"hello world! 123\"\n",
    "\n",
    "\n",
    "b=input('Enter: ')\n",
    "\n",
    "num,alpha=0,0\n",
    "\n",
    "for i in b:\n",
    "    if i.isdigit():\n",
    "        num = num + 1\n",
    "    elif i.isalpha():\n",
    "        alpha = alpha + 1\n",
    "    else:\n",
    "        pass\n",
    "print(\"The number of alphabets is \",alpha)\n",
    "print(\"The number of DIGITS is \",num)"
   ]
  },
  {
   "cell_type": "code",
   "execution_count": 54,
   "id": "7e64077a",
   "metadata": {},
   "outputs": [
    {
     "name": "stdout",
     "output_type": "stream",
     "text": [
      "['Apple', 'Mango']\n"
     ]
    }
   ],
   "source": [
    "# Question 2\n",
    "# Write a program to get all the elements that ends with vowels\n",
    "#\n",
    "# Sample Input : ['Apple', 'Figs', 'Mango', 'Lemon']\n",
    "# Expected Output : ['Apple', 'Mango']\n",
    "#\n",
    "# Hint:\n",
    "# Get the last charcter of element and check if element in present in a list of vowels\n",
    "\n",
    "fruits=['Apple', 'Figs', 'Mango', 'Lemon']\n",
    "\n",
    "vowels=['a','e','i','o','u']\n",
    "result=[]\n",
    "\n",
    "for i in fruits:\n",
    "    if i[-1] in vowels:\n",
    "        result.append(i)\n",
    "        \n",
    "    else:\n",
    "        pass\n",
    "print(result)"
   ]
  },
  {
   "cell_type": "code",
   "execution_count": 77,
   "id": "30a6dfef",
   "metadata": {},
   "outputs": [
    {
     "name": "stdout",
     "output_type": "stream",
     "text": [
      "[0, 3, 4]\n"
     ]
    }
   ],
   "source": [
    "# Question 3\n",
    "# Write a program to get the index positions of elements that are divisible by 5\n",
    "#\n",
    "# Sample Input : [5,8,3,10,20]\n",
    "# Exp Output   : [0,3,4]\n",
    "#\n",
    "# Hint\n",
    "# Use Enumerate in for loop and check if number is divisible by 5\n",
    "\n",
    "num=[5,8,3,10,20]\n",
    "position=[]\n",
    "\n",
    "for i in num:\n",
    "    if i%5==0: \n",
    "        position.append(num.index(i))\n",
    "       \n",
    "    else:\n",
    "        pass\n",
    "print(position)"
   ]
  },
  {
   "cell_type": "code",
   "execution_count": 82,
   "id": "ebdbc1b1",
   "metadata": {},
   "outputs": [
    {
     "name": "stdout",
     "output_type": "stream",
     "text": [
      "['Red', 'Yellow', 'Orange', 'Red']\n",
      "['Green', 'Yellow', 'Orange', 'Green']\n"
     ]
    }
   ],
   "source": [
    "# Question 4\n",
    "# Write a program to replace the value Red with Green\n",
    "#\n",
    "# Sample Input : ['Red', 'Yellow', 'Orange', 'Red']\n",
    "# Exp Output   : ['Green', 'Yellow', 'Orange', 'Green']\n",
    "#\n",
    "# Hint\n",
    "# Inside the for loop, check if value is Red, if yes, save Green else save the element\n",
    "color= ['Red', 'Yellow', 'Orange', 'Red']\n",
    "print(color)\n",
    "\n",
    "changeColor=[]\n",
    "\n",
    "for i in color:\n",
    "    if i=='Red':\n",
    "        changeColor.append('Green')\n",
    "    else:\n",
    "        changeColor.append(i)\n",
    "print(changeColor)"
   ]
  },
  {
   "cell_type": "code",
   "execution_count": null,
   "id": "78281dc2",
   "metadata": {},
   "outputs": [],
   "source": []
  }
 ],
 "metadata": {
  "kernelspec": {
   "display_name": "Python 3 (ipykernel)",
   "language": "python",
   "name": "python3"
  },
  "language_info": {
   "codemirror_mode": {
    "name": "ipython",
    "version": 3
   },
   "file_extension": ".py",
   "mimetype": "text/x-python",
   "name": "python",
   "nbconvert_exporter": "python",
   "pygments_lexer": "ipython3",
   "version": "3.9.13"
  }
 },
 "nbformat": 4,
 "nbformat_minor": 5
}
