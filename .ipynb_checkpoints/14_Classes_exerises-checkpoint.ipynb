{
 "cells": [
  {
   "cell_type": "code",
   "execution_count": null,
   "id": "d3705d2f",
   "metadata": {},
   "outputs": [],
   "source": [
    "# Classes"
   ]
  },
  {
   "cell_type": "code",
   "execution_count": null,
   "id": "45619214",
   "metadata": {},
   "outputs": [],
   "source": [
    "class Name_of_the_Class()\n",
    "# init with no arguments\n",
    "    def __init__(self):\n",
    "        pass\n",
    "    \n",
    "    def func1(self):\n",
    "        pass\n",
    "    \n",
    "    def func2(self):\n",
    "        pass\n",
    "    \n",
    "# Object creation\n",
    "Object_Name=Name_of_the_Class() # => Name_of_the_Class(Object_Name)\n",
    "object_name.func1() #=> Name_of_the_class.func1(object_name)\n",
    "\n",
    "#####################################################################\n",
    "\n",
    "class Name_of_the_Class()\n",
    "# init with no arguments\n",
    "    def __init__(self,arg1):\n",
    "        pass\n",
    "    \n",
    "    def func1(self):\n",
    "        pass\n",
    "    \n",
    "    def func2(self):\n",
    "        pass\n",
    "    \n",
    "# Object creation\n",
    "Object_Name=Name_of_the_Class(val1) "
   ]
  },
  {
   "cell_type": "code",
   "execution_count": null,
   "id": "6cf7b79c",
   "metadata": {},
   "outputs": [],
   "source": []
  },
  {
   "cell_type": "code",
   "execution_count": null,
   "id": "d2724131",
   "metadata": {},
   "outputs": [],
   "source": []
  },
  {
   "cell_type": "code",
   "execution_count": null,
   "id": "6c69222b",
   "metadata": {},
   "outputs": [],
   "source": []
  },
  {
   "cell_type": "code",
   "execution_count": null,
   "id": "1aee570c",
   "metadata": {},
   "outputs": [],
   "source": []
  }
 ],
 "metadata": {
  "kernelspec": {
   "display_name": "Python 3 (ipykernel)",
   "language": "python",
   "name": "python3"
  },
  "language_info": {
   "codemirror_mode": {
    "name": "ipython",
    "version": 3
   },
   "file_extension": ".py",
   "mimetype": "text/x-python",
   "name": "python",
   "nbconvert_exporter": "python",
   "pygments_lexer": "ipython3",
   "version": "3.9.13"
  }
 },
 "nbformat": 4,
 "nbformat_minor": 5
}
