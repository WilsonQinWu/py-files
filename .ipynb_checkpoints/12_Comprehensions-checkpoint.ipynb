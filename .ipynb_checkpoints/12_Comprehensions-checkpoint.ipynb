{
 "cells": [
  {
   "cell_type": "raw",
   "id": "d6b04463",
   "metadata": {},
   "source": [
    "List Comprehension"
   ]
  },
  {
   "cell_type": "code",
   "execution_count": null,
   "id": "ddb87744",
   "metadata": {},
   "outputs": [],
   "source": [
    "\n",
    "\n",
    "#[EXPRESSION FOR ITEM IN ITERABLE]\n",
    "#ITEM: AN ITEM FROM THE ITERABLE\n",
    "#EXPRESSION: CAN BE ANY EXPRESSION  & IS EVALUATED ONCE FOR EACH ITEM             \n",
    "# AN ITERABLE OBJECT(e.g. LIST, TUPLE, ETC)"
   ]
  },
  {
   "cell_type": "code",
   "execution_count": null,
   "id": "f814b65e",
   "metadata": {},
   "outputs": [],
   "source": [
    "# Properties of List Comprehension\n",
    "Create a list\n",
    "Modify a list\n",
    "Filtering a list"
   ]
  },
  {
   "cell_type": "code",
   "execution_count": 1,
   "id": "faf8aa7f",
   "metadata": {},
   "outputs": [
    {
     "name": "stdout",
     "output_type": "stream",
     "text": [
      "[16, 25, 36]\n"
     ]
    }
   ],
   "source": [
    "# List of squares\n",
    "numbers=[4,5,6]\n",
    "squ=[digit **2 for digit in numbers]\n",
    "print(squ)"
   ]
  },
  {
   "cell_type": "code",
   "execution_count": 6,
   "id": "b39f7bbf",
   "metadata": {},
   "outputs": [
    {
     "name": "stdout",
     "output_type": "stream",
     "text": [
      "[10, 11, 12, 13, 14, 15, 16, 17, 18, 19, 20, 21, 22, 23, 24] \n",
      " [20, 21, 22, 23, 24, 25, 26, 27, 28, 29, 30, 31, 32, 33, 34]\n"
     ]
    }
   ],
   "source": [
    "# Ex: Adding 10 to evry value in the list\n",
    "list1=list(range(10,25))\n",
    "result=[num +10 for num in list1]\n",
    "print(list1,\"\\n\",result)"
   ]
  },
  {
   "cell_type": "code",
   "execution_count": 7,
   "id": "12e3d155",
   "metadata": {},
   "outputs": [
    {
     "name": "stdout",
     "output_type": "stream",
     "text": [
      "[1.0, 3.5, 4.2] \n",
      " [2.2, 7.700000000000001, 9.240000000000002]\n"
     ]
    }
   ],
   "source": [
    "# Convert the weights from kg to pound\n",
    "# 1KG=2.2Pound\n",
    "# Method 1\n",
    "weight_kg=[1.0,3.5,4.2]\n",
    "weight_pound=[x*2.2 for x in weight_kg]\n",
    "print(weight_kg,\"\\n\",weight_pound)"
   ]
  },
  {
   "cell_type": "code",
   "execution_count": 10,
   "id": "c3ff35d2",
   "metadata": {},
   "outputs": [
    {
     "name": "stdout",
     "output_type": "stream",
     "text": [
      "[2.2, 7.700000000000001, 9.240000000000002]\n"
     ]
    }
   ],
   "source": [
    "# Methods 2\n",
    "weight_kg=[1.0,3.5,4.2]\n",
    "weight_pound=[]\n",
    "for x in weight_kg:\n",
    "    res = x*2.2\n",
    "    weight_pound.append(res)\n",
    "print(weight_pound)"
   ]
  },
  {
   "cell_type": "raw",
   "id": "d013c589",
   "metadata": {},
   "source": [
    "for loop\n",
    "    for loop\n",
    "        if clause\n",
    "            for loop\n",
    "            "
   ]
  },
  {
   "cell_type": "code",
   "execution_count": null,
   "id": "fe653fd9",
   "metadata": {},
   "outputs": [],
   "source": [
    "# LIST comprehension - IF Clause"
   ]
  },
  {
   "cell_type": "code",
   "execution_count": null,
   "id": "5aaaa860",
   "metadata": {},
   "outputs": [],
   "source": [
    "# Syntax\n",
    "# [expression   for item in iterable   if condition]"
   ]
  },
  {
   "cell_type": "code",
   "execution_count": 11,
   "id": "6df9f102",
   "metadata": {},
   "outputs": [
    {
     "name": "stdout",
     "output_type": "stream",
     "text": [
      "[4, 6]\n"
     ]
    }
   ],
   "source": [
    "# Get the even nubers from the list of numbers\n",
    "numbers=[4,5,6]\n",
    "even=[x for x in numbers if x%2==0]\n",
    "print(even)\n"
   ]
  },
  {
   "cell_type": "code",
   "execution_count": 12,
   "id": "e15c57f6",
   "metadata": {},
   "outputs": [
    {
     "name": "stdout",
     "output_type": "stream",
     "text": [
      "['elephant', 'egg']\n"
     ]
    }
   ],
   "source": [
    "# Ex: Get the element starting with 'e' into a new list\n",
    "list2=['app','pencil','elephant','egg']\n",
    "# method 1\n",
    "res=[item for item in list2 if item[0]=='e']\n",
    "print(res)"
   ]
  },
  {
   "cell_type": "code",
   "execution_count": 13,
   "id": "3627e4e7",
   "metadata": {},
   "outputs": [
    {
     "data": {
      "text/plain": [
       "['elephant', 'egg']"
      ]
     },
     "execution_count": 13,
     "metadata": {},
     "output_type": "execute_result"
    }
   ],
   "source": [
    "# method 2\n",
    "res=[item for item in list2 if item.startswith('e')]\n",
    "res"
   ]
  },
  {
   "cell_type": "code",
   "execution_count": 15,
   "id": "64237f94",
   "metadata": {},
   "outputs": [
    {
     "data": {
      "text/plain": [
       "['Even', 'odd', 'Even']"
      ]
     },
     "execution_count": 15,
     "metadata": {},
     "output_type": "execute_result"
    }
   ],
   "source": [
    "# LIST Comprehension - If Else Claust\n",
    "# [True_expression if condition else Else_Expression for item in iterable]\n",
    "# Get the even or add from the list of numbers\n",
    "numbers=[4,5,6]\n",
    "res=['Even' if item%2==0 else 'odd' for item in numbers]\n",
    "res"
   ]
  },
  {
   "cell_type": "code",
   "execution_count": 17,
   "id": "25506a5f",
   "metadata": {},
   "outputs": [
    {
     "data": {
      "text/plain": [
       "['Steve', 'Ram', 'Invalid name']"
      ]
     },
     "execution_count": 17,
     "metadata": {},
     "output_type": "execute_result"
    }
   ],
   "source": [
    "# Ex : Replace names that has special characters with the word \"Invalid name\"\n",
    "# list3 = ['Steve', 'Ram', '$%^$Harry']\n",
    "# Exp Out ['Steve', 'Ram', 'Invalid name']\n",
    "\n",
    "list3 = ['Steve', 'Ram', '$%^$Harry']\n",
    "res=[name if name.isalpha() else 'Invalid name' for name in list3]\n",
    "res\n"
   ]
  },
  {
   "cell_type": "code",
   "execution_count": null,
   "id": "9675d5a5",
   "metadata": {},
   "outputs": [],
   "source": [
    "# And condition in If statement"
   ]
  },
  {
   "cell_type": "code",
   "execution_count": 22,
   "id": "b2fcd7f9",
   "metadata": {
    "scrolled": true
   },
   "outputs": [
    {
     "name": "stdout",
     "output_type": "stream",
     "text": [
      "[40, 80]\n",
      "[5, 8, 10, 15, 16, 20, 24, 25, 30, 32, 35, 40, 45, 48, 50, 55, 56, 60, 64, 65, 70, 72, 75, 80, 85, 88, 90, 95, 96, 100]\n"
     ]
    }
   ],
   "source": [
    "# Get all the numbers divisible by 5 and 8 from 1 to 100\n",
    "# And condition\n",
    "numbers=list(range(1,101))\n",
    "res=[num for num in numbers if num%5==0 and num%8==0 ]\n",
    "print(res)\n",
    "\n",
    "# Or condition in If statement\n",
    "res=[num for num in numbers if num%5==0 or num%8==0 ]\n",
    "print (res)"
   ]
  },
  {
   "cell_type": "code",
   "execution_count": 23,
   "id": "3db3efc6",
   "metadata": {},
   "outputs": [],
   "source": [
    "# Dictionary Comprehension\n",
    "# {k:v for var in iterable}"
   ]
  },
  {
   "cell_type": "code",
   "execution_count": 25,
   "id": "a73555df",
   "metadata": {},
   "outputs": [
    {
     "data": {
      "text/plain": [
       "{4: 16, 5: 25, 6: 36}"
      ]
     },
     "execution_count": 25,
     "metadata": {},
     "output_type": "execute_result"
    }
   ],
   "source": [
    "# Get the dictionary of squares\n",
    "numbers=[4,5,6]\n",
    "sq_dict={k:k**2 for k in numbers}\n",
    "sq_dict"
   ]
  },
  {
   "cell_type": "code",
   "execution_count": 27,
   "id": "d186fd23",
   "metadata": {},
   "outputs": [
    {
     "data": {
      "text/plain": [
       "{'red': 3, 'blue': 4, 'yellow': 6}"
      ]
     },
     "execution_count": 27,
     "metadata": {},
     "output_type": "execute_result"
    }
   ],
   "source": [
    "# ex: Get the length of each word.\n",
    "words=['red','blue','yellow']\n",
    "# words_lens={'red':3,'blue':4,'yellow':6}\n",
    "words_lens={word:len(word) for word in words}\n",
    "words_lens\n"
   ]
  },
  {
   "cell_type": "code",
   "execution_count": 35,
   "id": "e9a3ae6b",
   "metadata": {},
   "outputs": [
    {
     "name": "stdout",
     "output_type": "stream",
     "text": [
      "{'book': 1.1, 'milk': 4.4, 'tv': 15.400000000000002}\n",
      "{'book': 1.1, 'milk': 4.4, 'tv': 15.400000000000002}\n"
     ]
    }
   ],
   "source": [
    "# Convert the weights from kg to pounds\n",
    "\n",
    "old_weights={\n",
    "    'book':0.5,\n",
    "    'milk':2,\n",
    "    'tv':7\n",
    "}\n",
    "\n",
    "new_weights={k:v*2.2 for k,v in old_weights.items()}\n",
    "print(new_weights)\n",
    "\n",
    "new_weights1={k:v*2.2 for k,v in old_weights.items()}\n",
    "print(new_weights1)"
   ]
  },
  {
   "cell_type": "code",
   "execution_count": 41,
   "id": "dbb350b1",
   "metadata": {},
   "outputs": [
    {
     "name": "stdout",
     "output_type": "stream",
     "text": [
      "{'kevin': 12, 'marcus': 9}\n",
      "{'kevin': 12}\n"
     ]
    }
   ],
   "source": [
    "# IF Clause in Dict Comprehension\n",
    "\n",
    "ages={'kevin':12,'marcus':9,'evan':31,'nik':31}\n",
    "# Ex: 1 Get all the people whose age is <25\n",
    "\n",
    "res={k:v for k,v in ages.items() if v<25}\n",
    "print(res)\n",
    "\n",
    "# Get all people whose age is an even number and age <25\n",
    "res={k:v for k,v in ages.items() if v<25 and v%2==0}\n",
    "print(res)"
   ]
  },
  {
   "cell_type": "code",
   "execution_count": null,
   "id": "d6b55dc8",
   "metadata": {},
   "outputs": [],
   "source": []
  },
  {
   "cell_type": "code",
   "execution_count": null,
   "id": "8221aec0",
   "metadata": {},
   "outputs": [],
   "source": []
  }
 ],
 "metadata": {
  "kernelspec": {
   "display_name": "Python 3 (ipykernel)",
   "language": "python",
   "name": "python3"
  },
  "language_info": {
   "codemirror_mode": {
    "name": "ipython",
    "version": 3
   },
   "file_extension": ".py",
   "mimetype": "text/x-python",
   "name": "python",
   "nbconvert_exporter": "python",
   "pygments_lexer": "ipython3",
   "version": "3.9.13"
  }
 },
 "nbformat": 4,
 "nbformat_minor": 5
}
