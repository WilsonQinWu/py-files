{
 "cells": [
  {
   "cell_type": "code",
   "execution_count": 3,
   "id": "acde9e35",
   "metadata": {},
   "outputs": [],
   "source": [
    "Tuple"
   ]
  },
  {
   "cell_type": "code",
   "execution_count": 1,
   "id": "df26b59f",
   "metadata": {},
   "outputs": [],
   "source": [
    "# Tuple Properties\n",
    "# 1. Hetergenous\n",
    "# 2. Immutable =>No changes to the tuple after it is defined\n",
    "# 3. Indexing is applicable in a tuple"
   ]
  },
  {
   "cell_type": "code",
   "execution_count": 4,
   "id": "36789dad",
   "metadata": {},
   "outputs": [
    {
     "ename": "TypeError",
     "evalue": "'int' object is not iterable",
     "output_type": "error",
     "traceback": [
      "\u001b[1;31m---------------------------------------------------------------------------\u001b[0m",
      "\u001b[1;31mTypeError\u001b[0m                                 Traceback (most recent call last)",
      "\u001b[1;32m~\\AppData\\Local\\Temp\\ipykernel_700\\192555161.py\u001b[0m in \u001b[0;36m<module>\u001b[1;34m\u001b[0m\n\u001b[0;32m      3\u001b[0m \u001b[1;31m# 2. Using the ()\u001b[0m\u001b[1;33m\u001b[0m\u001b[1;33m\u001b[0m\u001b[0m\n\u001b[0;32m      4\u001b[0m \u001b[1;33m\u001b[0m\u001b[0m\n\u001b[1;32m----> 5\u001b[1;33m \u001b[0ma\u001b[0m\u001b[1;33m=\u001b[0m \u001b[0mtuple\u001b[0m\u001b[1;33m(\u001b[0m\u001b[1;36m8\u001b[0m\u001b[1;33m)\u001b[0m\u001b[1;33m\u001b[0m\u001b[1;33m\u001b[0m\u001b[0m\n\u001b[0m",
      "\u001b[1;31mTypeError\u001b[0m: 'int' object is not iterable"
     ]
    }
   ],
   "source": [
    "# Creating a Tuple\n",
    "# 1.Using the keyword tuple => For type \n",
    "# 2. Using the ()\n",
    "\n",
    "a= tuple(8)"
   ]
  },
  {
   "cell_type": "code",
   "execution_count": 5,
   "id": "fb04f8e5",
   "metadata": {},
   "outputs": [
    {
     "name": "stdout",
     "output_type": "stream",
     "text": [
      "The tuple a is ('f', 'l', 'o', 'w', 'e', 'r')\n"
     ]
    }
   ],
   "source": [
    "a = tuple('flower')\n",
    "print(f\"The tuple a is {a}\")"
   ]
  },
  {
   "cell_type": "code",
   "execution_count": 6,
   "id": "82261d45",
   "metadata": {},
   "outputs": [
    {
     "ename": "TypeError",
     "evalue": "tuple expected at most 1 argument, got 2",
     "output_type": "error",
     "traceback": [
      "\u001b[1;31m---------------------------------------------------------------------------\u001b[0m",
      "\u001b[1;31mTypeError\u001b[0m                                 Traceback (most recent call last)",
      "\u001b[1;32m~\\AppData\\Local\\Temp\\ipykernel_700\\1425941691.py\u001b[0m in \u001b[0;36m<module>\u001b[1;34m\u001b[0m\n\u001b[1;32m----> 1\u001b[1;33m \u001b[0mb\u001b[0m \u001b[1;33m=\u001b[0m \u001b[0mtuple\u001b[0m\u001b[1;33m(\u001b[0m\u001b[1;34m'flower'\u001b[0m\u001b[1;33m,\u001b[0m\u001b[1;34m'fruit'\u001b[0m\u001b[1;33m)\u001b[0m\u001b[1;33m\u001b[0m\u001b[1;33m\u001b[0m\u001b[0m\n\u001b[0m\u001b[0;32m      2\u001b[0m \u001b[0mprint\u001b[0m\u001b[1;33m(\u001b[0m\u001b[1;34mf\"The tuple a is {b}\"\u001b[0m\u001b[1;33m)\u001b[0m\u001b[1;33m\u001b[0m\u001b[1;33m\u001b[0m\u001b[0m\n",
      "\u001b[1;31mTypeError\u001b[0m: tuple expected at most 1 argument, got 2"
     ]
    }
   ],
   "source": [
    "b = tuple('flower','fruit')\n",
    "print(f\"The tuple a is {b}\")"
   ]
  },
  {
   "cell_type": "code",
   "execution_count": 7,
   "id": "caa4de41",
   "metadata": {},
   "outputs": [
    {
     "name": "stdout",
     "output_type": "stream",
     "text": [
      "The elements of the tuple c is (78, 'hi', 'rome', 89.76)\n"
     ]
    }
   ],
   "source": [
    "c = tuple([78,'hi','rome',89.76])\n",
    "print(f\"The elements of the tuple c is {c}\")"
   ]
  },
  {
   "cell_type": "code",
   "execution_count": 8,
   "id": "769b82e5",
   "metadata": {},
   "outputs": [
    {
     "name": "stdout",
     "output_type": "stream",
     "text": [
      "The elements of the tuple c is (89, 'paris', 90.76, [78, 'hi', 'rome', 89.76], 89)\n"
     ]
    }
   ],
   "source": [
    "# Creating a tuple using()\n",
    "a=(89,'paris',90.76,[78,'hi','rome',89.76],89)\n",
    "print(f\"The elements of the tuple c is {a}\")"
   ]
  },
  {
   "cell_type": "code",
   "execution_count": 9,
   "id": "c15997aa",
   "metadata": {},
   "outputs": [
    {
     "name": "stdout",
     "output_type": "stream",
     "text": [
      "The elements of the tuple a is: (89, 'paris', 90.76, [78, 'hi', 'rome', 89.76], 89)\n"
     ]
    }
   ],
   "source": [
    "print(\"The elements of the tuple a is:\",a)"
   ]
  },
  {
   "cell_type": "code",
   "execution_count": 10,
   "id": "09ccac30",
   "metadata": {},
   "outputs": [
    {
     "data": {
      "text/plain": [
       "90.76"
      ]
     },
     "execution_count": 10,
     "metadata": {},
     "output_type": "execute_result"
    }
   ],
   "source": [
    "a[2]"
   ]
  },
  {
   "cell_type": "code",
   "execution_count": 11,
   "id": "a422f308",
   "metadata": {},
   "outputs": [
    {
     "data": {
      "text/plain": [
       "'rome'"
      ]
     },
     "execution_count": 11,
     "metadata": {},
     "output_type": "execute_result"
    }
   ],
   "source": [
    "# Question\n",
    "# Get the element rome from the tuple a\n",
    "a[3][2]"
   ]
  },
  {
   "cell_type": "code",
   "execution_count": 14,
   "id": "8e3b109e",
   "metadata": {},
   "outputs": [
    {
     "name": "stdout",
     "output_type": "stream",
     "text": [
      "The type of a  is <class 'tuple'>\n"
     ]
    }
   ],
   "source": [
    "# Creating a tuple\n",
    "# Any element separated by a comma is treated as a tuple\n",
    "a = 9,\n",
    "print(f\"The type of a  is {type(a)}\")"
   ]
  },
  {
   "cell_type": "code",
   "execution_count": 17,
   "id": "c80f817e",
   "metadata": {},
   "outputs": [],
   "source": [
    "# update\n",
    "a=(89,'paris',90.76,[78,'hi','rome',89.76],89)"
   ]
  },
  {
   "cell_type": "code",
   "execution_count": 18,
   "id": "aa4cf6b3",
   "metadata": {},
   "outputs": [
    {
     "data": {
      "text/plain": [
       "list"
      ]
     },
     "execution_count": 18,
     "metadata": {},
     "output_type": "execute_result"
    }
   ],
   "source": [
    "# Change the element paris to london\n",
    "# tuple=>list=>Modifications on top of list => tuple\n",
    "b=list(a)\n",
    "type(b)"
   ]
  },
  {
   "cell_type": "code",
   "execution_count": 19,
   "id": "4542b5e0",
   "metadata": {},
   "outputs": [
    {
     "data": {
      "text/plain": [
       "[89, 'paris', 90.76, [78, 'hi', 'rome', 89.76], 89]"
      ]
     },
     "execution_count": 19,
     "metadata": {},
     "output_type": "execute_result"
    }
   ],
   "source": [
    "b"
   ]
  },
  {
   "cell_type": "code",
   "execution_count": 33,
   "id": "b9e590ff",
   "metadata": {},
   "outputs": [
    {
     "data": {
      "text/plain": [
       "[89, 'london', 90.76, [78, 'hi', 'rome', 89.76], 89]"
      ]
     },
     "execution_count": 33,
     "metadata": {},
     "output_type": "execute_result"
    }
   ],
   "source": [
    "b[1]='london'\n",
    "b"
   ]
  },
  {
   "cell_type": "code",
   "execution_count": 21,
   "id": "11da8d7c",
   "metadata": {},
   "outputs": [
    {
     "name": "stdout",
     "output_type": "stream",
     "text": [
      "The elements of tuple a is ((89, 'london', 90.76, [78, 'hi', 'rome', 89.76], 89),)\n"
     ]
    }
   ],
   "source": [
    "a = tuple(b),\n",
    "print(f\"The elements of tuple a is {a}\")"
   ]
  },
  {
   "cell_type": "code",
   "execution_count": 22,
   "id": "d96486a5",
   "metadata": {},
   "outputs": [],
   "source": [
    "# Delete a tuple\n",
    "del a"
   ]
  },
  {
   "cell_type": "code",
   "execution_count": 26,
   "id": "efa4c00d",
   "metadata": {},
   "outputs": [],
   "source": [
    "a=(89,'london',90.76,[78,'hi','rome',89.76],89)"
   ]
  },
  {
   "cell_type": "code",
   "execution_count": 32,
   "id": "5c4dbedd",
   "metadata": {},
   "outputs": [
    {
     "data": {
      "text/plain": [
       "2"
      ]
     },
     "execution_count": 32,
     "metadata": {},
     "output_type": "execute_result"
    }
   ],
   "source": [
    "# count()\n",
    "a.count(89)"
   ]
  },
  {
   "cell_type": "code",
   "execution_count": 30,
   "id": "761e4b8c",
   "metadata": {},
   "outputs": [
    {
     "data": {
      "text/plain": [
       "1"
      ]
     },
     "execution_count": 30,
     "metadata": {},
     "output_type": "execute_result"
    }
   ],
   "source": [
    "# index()\n",
    "a.index('london')"
   ]
  },
  {
   "cell_type": "code",
   "execution_count": 31,
   "id": "6b67373c",
   "metadata": {},
   "outputs": [
    {
     "ename": "ValueError",
     "evalue": "tuple.index(x): x not in tuple",
     "output_type": "error",
     "traceback": [
      "\u001b[1;31m---------------------------------------------------------------------------\u001b[0m",
      "\u001b[1;31mValueError\u001b[0m                                Traceback (most recent call last)",
      "\u001b[1;32m~\\AppData\\Local\\Temp\\ipykernel_700\\3451641089.py\u001b[0m in \u001b[0;36m<module>\u001b[1;34m\u001b[0m\n\u001b[1;32m----> 1\u001b[1;33m \u001b[0ma\u001b[0m\u001b[1;33m.\u001b[0m\u001b[0mindex\u001b[0m\u001b[1;33m(\u001b[0m\u001b[1;34m'787'\u001b[0m\u001b[1;33m)\u001b[0m\u001b[1;33m\u001b[0m\u001b[1;33m\u001b[0m\u001b[0m\n\u001b[0m",
      "\u001b[1;31mValueError\u001b[0m: tuple.index(x): x not in tuple"
     ]
    }
   ],
   "source": [
    "a.index('787')"
   ]
  },
  {
   "cell_type": "code",
   "execution_count": null,
   "id": "0d4ac7ed",
   "metadata": {},
   "outputs": [],
   "source": [
    "# list                                     Tuple\n",
    "# Heterogenous                               Heterogenous\n",
    "#M utable=> Can be modified                 Immutable => Can't be modified\n",
    "# syntax: list(),[]                           tuple(),()\n",
    "# Lists are slower than tuples in loop       tuple are faster"
   ]
  }
 ],
 "metadata": {
  "kernelspec": {
   "display_name": "Python 3 (ipykernel)",
   "language": "python",
   "name": "python3"
  },
  "language_info": {
   "codemirror_mode": {
    "name": "ipython",
    "version": 3
   },
   "file_extension": ".py",
   "mimetype": "text/x-python",
   "name": "python",
   "nbconvert_exporter": "python",
   "pygments_lexer": "ipython3",
   "version": "3.9.13"
  }
 },
 "nbformat": 4,
 "nbformat_minor": 5
}
