{
 "cells": [
  {
   "cell_type": "code",
   "execution_count": null,
   "id": "96d0a1ce",
   "metadata": {},
   "outputs": [],
   "source": [
    "# File operations\n",
    "# 1.Reading data from a file = r => read() / reading() / readlines()\n",
    "# 2. Writing data to a file = w\n",
    "# 3. Appending data to a file = a"
   ]
  },
  {
   "cell_type": "code",
   "execution_count": 8,
   "id": "e44e12e7",
   "metadata": {},
   "outputs": [],
   "source": [
    "# 1.Reading data from a file\n",
    "# Syntax\n",
    "# file_object = open(file_path,mode_of_operation)\n",
    "file_path = \"C:\\\\Users\\\\QIN WU\\\\Desktop\\\\GlobalData\\\\File_Operations\\\\data.txt\"\n",
    "\n",
    "file_path = r\"C:\\Users\\QIN WU\\Desktop\\GlobalData\\File_Operations\\data.txt\""
   ]
  },
  {
   "cell_type": "code",
   "execution_count": 77,
   "id": "db03f757",
   "metadata": {},
   "outputs": [
    {
     "data": {
      "text/plain": [
       "<_io.TextIOWrapper name='C:\\\\Users\\\\QIN WU\\\\Desktop\\\\GlobalData\\\\File_Operations\\\\data.txt' mode='r' encoding='cp936'>"
      ]
     },
     "execution_count": 77,
     "metadata": {},
     "output_type": "execute_result"
    }
   ],
   "source": [
    "file_path = r\"C:\\Users\\QIN WU\\Desktop\\GlobalData\\File_Operations\\data.txt\"\n",
    "file_object=open(file_path,'r')\n",
    "file_object"
   ]
  },
  {
   "cell_type": "code",
   "execution_count": null,
   "id": "13ff3e94",
   "metadata": {},
   "outputs": [],
   "source": []
  },
  {
   "cell_type": "code",
   "execution_count": 79,
   "id": "80a5e169",
   "metadata": {},
   "outputs": [
    {
     "name": "stdout",
     "output_type": "stream",
     "text": [
      "\n"
     ]
    }
   ],
   "source": [
    "file_data=file_object.read()"
   ]
  },
  {
   "cell_type": "code",
   "execution_count": 11,
   "id": "f5f9a4ab",
   "metadata": {},
   "outputs": [],
   "source": [
    "# read()  => data is read in the form of a single string"
   ]
  },
  {
   "cell_type": "code",
   "execution_count": 80,
   "id": "2ff9add8",
   "metadata": {},
   "outputs": [
    {
     "name": "stdout",
     "output_type": "stream",
     "text": [
      "The type of file data is:<class 'str'>\n",
      "The data is:\n"
     ]
    }
   ],
   "source": [
    "print(f\"The type of file data is:{type(file_data)}\")\n",
    "print(f\"The data is:{file_data}\")"
   ]
  },
  {
   "cell_type": "code",
   "execution_count": 67,
   "id": "c2000ce3",
   "metadata": {},
   "outputs": [
    {
     "name": "stdout",
     "output_type": "stream",
     "text": [
      "In the domain of natural language processing (NLP), statistical NLP in particular, \n",
      "\n"
     ]
    }
   ],
   "source": [
    "file_object=open(file_path,'r')\n",
    "file_data_readline= file_object.readline()\n",
    "print(file_data_readline)"
   ]
  },
  {
   "cell_type": "code",
   "execution_count": 68,
   "id": "28ef7f4e",
   "metadata": {},
   "outputs": [
    {
     "name": "stdout",
     "output_type": "stream",
     "text": [
      "there's a need to train the model or algorithm with lots of data. \n",
      "\n"
     ]
    }
   ],
   "source": [
    "file_data_readline= file_object.readline()\n",
    "print(file_data_readline)"
   ]
  },
  {
   "cell_type": "code",
   "execution_count": 70,
   "id": "1530fc55",
   "metadata": {},
   "outputs": [
    {
     "data": {
      "text/plain": [
       "'A common corpus is also useful for benchmarking models.\\n'"
      ]
     },
     "execution_count": 70,
     "metadata": {},
     "output_type": "execute_result"
    }
   ],
   "source": [
    "file_object.readline()\n"
   ]
  },
  {
   "cell_type": "code",
   "execution_count": 71,
   "id": "eeeab51c",
   "metadata": {},
   "outputs": [],
   "source": [
    "file_object.close()"
   ]
  },
  {
   "cell_type": "code",
   "execution_count": 91,
   "id": "dd6f4836",
   "metadata": {},
   "outputs": [
    {
     "name": "stdout",
     "output_type": "stream",
     "text": [
      "['abc\\n', 'def\\n', 'fhi']\n"
     ]
    }
   ],
   "source": [
    "# readlines()\n",
    "file_object=open(file_path,'r')\n",
    "file_data_readlines= file_object.readlines()\n",
    "file_object.close()\n",
    "print(file_data_readlines)"
   ]
  },
  {
   "cell_type": "code",
   "execution_count": 92,
   "id": "d72ebe41",
   "metadata": {},
   "outputs": [
    {
     "data": {
      "text/plain": [
       "3"
      ]
     },
     "execution_count": 92,
     "metadata": {},
     "output_type": "execute_result"
    }
   ],
   "source": [
    "len(file_data_readlines)"
   ]
  },
  {
   "cell_type": "code",
   "execution_count": 93,
   "id": "a989070a",
   "metadata": {},
   "outputs": [],
   "source": [
    "file_object.close()"
   ]
  },
  {
   "cell_type": "markdown",
   "id": "0d1ef8cf",
   "metadata": {},
   "source": [
    "# Sorting a dictionary"
   ]
  },
  {
   "cell_type": "code",
   "execution_count": 40,
   "id": "3981d3ab",
   "metadata": {},
   "outputs": [
    {
     "name": "stdout",
     "output_type": "stream",
     "text": [
      "The sorted dict based on keys is:[('a', 20), ('c', 5), ('x', 1)]\n",
      "The sorted dict in reverse order based on keys is:[('x', 1), ('c', 5), ('a', 20)]\n",
      "The sorted dict based on values is:[('x', 1), ('c', 5), ('a', 20)]\n",
      "The sorted dict in descending order based on values is:[('a', 20), ('c', 5), ('x', 1)]\n"
     ]
    }
   ],
   "source": [
    "a={'a':20,'x':1,'c':5} \n",
    "\n",
    "#Sort the dictionary based on keys # (k,v)\n",
    "sorted_keys=sorted(a.items(),key=lambda x: x[0])\n",
    "print(f\"The sorted dict based on keys is:{sorted_keys}\")\n",
    "\n",
    "#Sort the dictionary based on keys in reverse order\n",
    "sorted_keys=sorted(a.items(),key=lambda x: x[0],reverse=True)\n",
    "print(f\"The sorted dict in reverse order based on keys is:{sorted_keys}\")\n",
    "\n",
    "#Sort the dictionary based on values\n",
    "sorted_values=sorted(a.items(),key=lambda x: x[1])\n",
    "print(f\"The sorted dict based on values is:{sorted_keys}\")\n",
    "\n",
    "#Sort the dictionary based on values in reverse order\n",
    "sorted_values_desc=sorted(a.items(),key=lambda x: x[1],reverse=True)\n",
    "print(f\"The sorted dict in descending order based on values is:{sorted_values_desc}\")"
   ]
  },
  {
   "cell_type": "code",
   "execution_count": 42,
   "id": "1a8fc59f",
   "metadata": {},
   "outputs": [
    {
     "data": {
      "text/plain": [
       "{'a': 20, 'x': 1, 'c': 5}"
      ]
     },
     "execution_count": 42,
     "metadata": {},
     "output_type": "execute_result"
    }
   ],
   "source": [
    "a"
   ]
  },
  {
   "cell_type": "code",
   "execution_count": 43,
   "id": "9dd8ae9e",
   "metadata": {},
   "outputs": [],
   "source": [
    "b={'c':[4,1,10],'a':[1,10,20],'b':[99,100,1]}"
   ]
  },
  {
   "cell_type": "code",
   "execution_count": 45,
   "id": "d3c082a0",
   "metadata": {},
   "outputs": [
    {
     "data": {
      "text/plain": [
       "[('c', [4, 1, 10]), ('b', [99, 100, 1]), ('a', [1, 10, 20])]"
      ]
     },
     "execution_count": 45,
     "metadata": {},
     "output_type": "execute_result"
    }
   ],
   "source": [
    "# Sort the dict based on 3rd element in the value\n",
    "sorted(b.items(),key=lambda x:x[0],reverse=True)"
   ]
  },
  {
   "cell_type": "code",
   "execution_count": 46,
   "id": "5eda63ee",
   "metadata": {},
   "outputs": [
    {
     "data": {
      "text/plain": [
       "[('b', [99, 100, 1]), ('c', [4, 1, 10]), ('a', [1, 10, 20])]"
      ]
     },
     "execution_count": 46,
     "metadata": {},
     "output_type": "execute_result"
    }
   ],
   "source": [
    "#             k,v            c,[4,1,10]\n",
    "sorted(b.items(),key=lambda x:x[1][2])"
   ]
  },
  {
   "cell_type": "code",
   "execution_count": 47,
   "id": "9c8df8a9",
   "metadata": {},
   "outputs": [
    {
     "data": {
      "text/plain": [
       "[1, 4, 10]"
      ]
     },
     "execution_count": 47,
     "metadata": {},
     "output_type": "execute_result"
    }
   ],
   "source": [
    "x=[4,1,10]\n",
    "sorted(x)"
   ]
  },
  {
   "cell_type": "code",
   "execution_count": 50,
   "id": "7fb4d81f",
   "metadata": {},
   "outputs": [
    {
     "data": {
      "text/plain": [
       "[1, 4, 10]"
      ]
     },
     "execution_count": 50,
     "metadata": {},
     "output_type": "execute_result"
    }
   ],
   "source": [
    "x.sort()\n",
    "x"
   ]
  },
  {
   "cell_type": "markdown",
   "id": "ec571c76",
   "metadata": {},
   "source": [
    "# Write"
   ]
  },
  {
   "cell_type": "raw",
   "id": "0c2319b6",
   "metadata": {},
   "source": [
    "file_obj=open(file_path,'w')\n",
    "file_obj.write(\"Writing the 1st line\")\n",
    "file_obj.write(\"Hi hello\")\n",
    "file_obj.write(\"How r u doing\")\n",
    "file_obj.write(\"Writing the 1st line\")\n",
    "file_obj.close()"
   ]
  },
  {
   "cell_type": "code",
   "execution_count": 57,
   "id": "0c82dd0e",
   "metadata": {},
   "outputs": [],
   "source": [
    "file_obj=open(r\"C:\\Users\\QIN WU\\Desktop\\GlobalData\\File_Operations\\dummy.txt\",'w')\n",
    "file_obj.write(\"\\n My first line\")\n",
    "file_obj.write(\"\\n second line\")\n",
    "file_obj.close()\n"
   ]
  },
  {
   "cell_type": "code",
   "execution_count": null,
   "id": "3b15bcf8",
   "metadata": {},
   "outputs": [],
   "source": [
    "x=['a','b','c']\n",
    "\n",
    "x.append('z')\n",
    "x"
   ]
  },
  {
   "cell_type": "markdown",
   "id": "11f1c59a",
   "metadata": {},
   "source": [
    "# append mode"
   ]
  },
  {
   "cell_type": "code",
   "execution_count": 58,
   "id": "5a5b79b6",
   "metadata": {},
   "outputs": [],
   "source": [
    "file_obj=open(r\"C:\\Users\\QIN WU\\Desktop\\GlobalData\\File_Operations\\dummy.txt\",'a')\n",
    "file_obj.write(\"\\n appending a new line\")\n",
    "file_obj.write(\"\\n last line of the file\")\n",
    "file_obj.close()\n"
   ]
  },
  {
   "cell_type": "raw",
   "id": "c3bc2349",
   "metadata": {},
   "source": [
    "file_obj=open(file_path,mode)\n",
    ":          :\n",
    ":           :\n",
    "file_obj.close()"
   ]
  },
  {
   "cell_type": "raw",
   "id": "aca96e3d",
   "metadata": {},
   "source": [
    "with open(file_path, mode) as file_obj:\n",
    "    file_read"
   ]
  },
  {
   "cell_type": "code",
   "execution_count": 94,
   "id": "e10e4233",
   "metadata": {},
   "outputs": [
    {
     "name": "stdout",
     "output_type": "stream",
     "text": [
      "\n",
      " My first line\n",
      " second line\n",
      " appending a new line\n",
      " last line of the file\n"
     ]
    }
   ],
   "source": [
    "file_path=r\"C:\\Users\\QIN WU\\Desktop\\GlobalData\\File_Operations\\dummy.txt\"\n",
    "with open(file_path) as file_obj:\n",
    "    data=file_obj.read()\n",
    "print(data)"
   ]
  },
  {
   "cell_type": "code",
   "execution_count": null,
   "id": "622fe2f6",
   "metadata": {},
   "outputs": [],
   "source": [
    "# Read the file using read()\n",
    "\n",
    "# Split the data using split() => List of words\n",
    "\n",
    "# Iterate on the list of words and get the count of each word\n",
    "# {word : word_count}\n",
    "# Sort the dict of words based on value in descending order."
   ]
  },
  {
   "cell_type": "code",
   "execution_count": 30,
   "id": "1cd17b85",
   "metadata": {},
   "outputs": [
    {
     "name": "stdout",
     "output_type": "stream",
     "text": [
      "{'In': 1, 'the': 2, 'domain': 1, 'of': 5, 'natural': 2, 'language': 1, 'processing': 1, '(NLP),': 1, 'statistical': 1, 'NLP': 3, 'in': 2, 'particular,': 1, \"there's\": 1, 'a': 3, 'need': 1, 'to': 2, 'train': 1, 'model': 1, 'or': 1, 'algorithm': 1, 'with': 2, 'lots': 1, 'data.': 1, 'For': 1, 'this': 1, 'purpose,': 1, 'researchers': 1, 'have': 2, 'assembled': 1, 'many': 2, 'text': 5, 'corpora.': 2, 'A': 1, 'common': 1, 'corpus': 2, 'is': 2, 'also': 1, 'useful': 1, 'for': 3, 'benchmarking': 1, 'models.': 1, 'Typically,': 1, 'each': 1, 'collection': 1, 'sources.': 1, 'There': 1, 'are': 1, 'dozens': 1, 'such': 1, 'corpora': 2, 'variety': 1, 'tasks.': 1, 'This': 1, 'article': 1, 'ignores': 1, 'speech': 1, 'and': 1, 'considers': 1, 'only': 1, 'those': 2, 'form.': 1, 'While': 1, 'English': 1, 'has': 1, 'corpora,': 2, 'other': 1, 'languages': 2, 'too': 1, 'their': 1, 'own': 1, 'though': 1, 'not': 1, 'as': 2, 'extensive': 1, 'English.': 1, 'Using': 1, 'modern': 1, 'techniques,': 1, \"it's\": 1, 'possible': 1, 'apply': 1, 'on': 1, 'low-resource': 1, 'languages,': 1, 'that': 1, 'is,': 1, 'limited': 1}\n",
      "[('of', 5), ('text', 5), ('NLP', 3), ('a', 3), ('for', 3), ('the', 2), ('natural', 2), ('in', 2), ('to', 2), ('with', 2), ('have', 2), ('many', 2), ('corpora.', 2), ('corpus', 2), ('is', 2), ('corpora', 2), ('those', 2), ('corpora,', 2), ('languages', 2), ('as', 2), ('In', 1), ('domain', 1), ('language', 1), ('processing', 1), ('(NLP),', 1), ('statistical', 1), ('particular,', 1), (\"there's\", 1), ('need', 1), ('train', 1), ('model', 1), ('or', 1), ('algorithm', 1), ('lots', 1), ('data.', 1), ('For', 1), ('this', 1), ('purpose,', 1), ('researchers', 1), ('assembled', 1), ('A', 1), ('common', 1), ('also', 1), ('useful', 1), ('benchmarking', 1), ('models.', 1), ('Typically,', 1), ('each', 1), ('collection', 1), ('sources.', 1), ('There', 1), ('are', 1), ('dozens', 1), ('such', 1), ('variety', 1), ('tasks.', 1), ('This', 1), ('article', 1), ('ignores', 1), ('speech', 1), ('and', 1), ('considers', 1), ('only', 1), ('form.', 1), ('While', 1), ('English', 1), ('has', 1), ('other', 1), ('too', 1), ('their', 1), ('own', 1), ('though', 1), ('not', 1), ('extensive', 1), ('English.', 1), ('Using', 1), ('modern', 1), ('techniques,', 1), (\"it's\", 1), ('possible', 1), ('apply', 1), ('on', 1), ('low-resource', 1), ('languages,', 1), ('that', 1), ('is,', 1), ('limited', 1)]\n"
     ]
    }
   ],
   "source": [
    "file_path=r\"C:\\Users\\QIN WU\\Desktop\\GlobalData\\File_Operations\\MyData.txt\"\n",
    "file_obj=open(file_path,'r')\n",
    "file_data=file_obj.read()\n",
    "afterSplit=file_data.split()\n",
    "res={}\n",
    "\n",
    "for i in afterSplit:\n",
    "    res[i]=afterSplit.count(i)\n",
    "\n",
    "sorted_values=sorted(res.items(),key=lambda x: x[1],reverse=True)\n",
    "print(res)\n",
    "print(sorted_values)\n",
    "    \n",
    "file_obj.close()\n"
   ]
  },
  {
   "cell_type": "code",
   "execution_count": 18,
   "id": "a56038b5",
   "metadata": {},
   "outputs": [],
   "source": [
    "file_obj.close()"
   ]
  },
  {
   "cell_type": "code",
   "execution_count": 31,
   "id": "cd857664",
   "metadata": {},
   "outputs": [
    {
     "data": {
      "text/plain": [
       "_io.TextIOWrapper"
      ]
     },
     "execution_count": 31,
     "metadata": {},
     "output_type": "execute_result"
    }
   ],
   "source": [
    "type(file_obj)"
   ]
  },
  {
   "cell_type": "code",
   "execution_count": null,
   "id": "92a81b79",
   "metadata": {},
   "outputs": [],
   "source": []
  },
  {
   "cell_type": "code",
   "execution_count": null,
   "id": "29000967",
   "metadata": {},
   "outputs": [],
   "source": []
  },
  {
   "cell_type": "code",
   "execution_count": null,
   "id": "c4c371a5",
   "metadata": {},
   "outputs": [],
   "source": []
  },
  {
   "cell_type": "code",
   "execution_count": null,
   "id": "1cbef807",
   "metadata": {},
   "outputs": [],
   "source": []
  },
  {
   "cell_type": "code",
   "execution_count": null,
   "id": "d95b6bb7",
   "metadata": {},
   "outputs": [],
   "source": []
  }
 ],
 "metadata": {
  "kernelspec": {
   "display_name": "Python 3 (ipykernel)",
   "language": "python",
   "name": "python3"
  },
  "language_info": {
   "codemirror_mode": {
    "name": "ipython",
    "version": 3
   },
   "file_extension": ".py",
   "mimetype": "text/x-python",
   "name": "python",
   "nbconvert_exporter": "python",
   "pygments_lexer": "ipython3",
   "version": "3.9.13"
  }
 },
 "nbformat": 4,
 "nbformat_minor": 5
}
