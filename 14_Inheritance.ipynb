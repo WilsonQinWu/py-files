{
 "cells": [
  {
   "cell_type": "code",
   "execution_count": null,
   "id": "8d1b194a",
   "metadata": {},
   "outputs": [],
   "source": [
    "# Inheritance"
   ]
  },
  {
   "cell_type": "code",
   "execution_count": 5,
   "id": "ac34f173",
   "metadata": {},
   "outputs": [],
   "source": [
    "class Vehicle():\n",
    "    def description(self):\n",
    "        print(\"This is a vehicle\")\n",
    "\n",
    "# Inheritance\n",
    "# Child Class / Sub Class / Inherited Class\n",
    "class Car(Vehicle):\n",
    "    pass\n",
    "#Object of Child Class / Car Class\n",
    "c=Car()\n",
    "\n",
    "# Object for the \n",
    "v=Vehicle()\n"
   ]
  },
  {
   "cell_type": "code",
   "execution_count": 6,
   "id": "9d602156",
   "metadata": {},
   "outputs": [
    {
     "name": "stdout",
     "output_type": "stream",
     "text": [
      "This is a vehicle\n",
      "This is a vehicle\n"
     ]
    }
   ],
   "source": [
    "c.description()\n",
    "v.description()"
   ]
  },
  {
   "cell_type": "code",
   "execution_count": null,
   "id": "16c69ec2",
   "metadata": {},
   "outputs": [],
   "source": [
    "# Method Overriding"
   ]
  },
  {
   "cell_type": "code",
   "execution_count": 7,
   "id": "6a02f4de",
   "metadata": {},
   "outputs": [
    {
     "name": "stdout",
     "output_type": "stream",
     "text": [
      "This is a car\n",
      "This is a vehicle\n"
     ]
    }
   ],
   "source": [
    "# Base Class / Parent Class\n",
    "class Vehicle():\n",
    "    def description(self):\n",
    "        print(\"This is a vehicle\")\n",
    "\n",
    "# Inheritance\n",
    "# Child Class / Sub Class / Inherited Class\n",
    "class Car(Vehicle):\n",
    "    def description(self):\n",
    "        print(\"This is a car\")\n",
    "\n",
    "        \n",
    "# Creation of objects\n",
    "c=Car() # Car\n",
    "v=Vehicle()\n",
    "\n",
    "# Call the description() from objects\n",
    "c.description() #Car.description(c)\n",
    "v.description() # Vehicle.description(v)"
   ]
  },
  {
   "cell_type": "code",
   "execution_count": null,
   "id": "9b3b799e",
   "metadata": {},
   "outputs": [],
   "source": [
    "# When a subclass provides its own custom implementation of a method \n",
    "# that is already provided by its base class or parent class,it is called overriding.\n"
   ]
  },
  {
   "cell_type": "code",
   "execution_count": 9,
   "id": "1bc03a22",
   "metadata": {},
   "outputs": [
    {
     "name": "stdout",
     "output_type": "stream",
     "text": [
      "This car speed is 40\n"
     ]
    },
    {
     "ename": "AttributeError",
     "evalue": "'Vehicle' object has no attribute 'setSpeed'",
     "output_type": "error",
     "traceback": [
      "\u001b[1;31m---------------------------------------------------------------------------\u001b[0m",
      "\u001b[1;31mAttributeError\u001b[0m                            Traceback (most recent call last)",
      "\u001b[1;32m~\\AppData\\Local\\Temp\\ipykernel_26980\\2805088036.py\u001b[0m in \u001b[0;36m<module>\u001b[1;34m\u001b[0m\n\u001b[0;32m     21\u001b[0m \u001b[1;31m# Lets try to access setSpeed() using both the parent and child class object\u001b[0m\u001b[1;33m\u001b[0m\u001b[1;33m\u001b[0m\u001b[0m\n\u001b[0;32m     22\u001b[0m \u001b[0mc\u001b[0m\u001b[1;33m.\u001b[0m\u001b[0msetSpeed\u001b[0m\u001b[1;33m(\u001b[0m\u001b[1;36m40\u001b[0m\u001b[1;33m)\u001b[0m\u001b[1;33m\u001b[0m\u001b[1;33m\u001b[0m\u001b[0m\n\u001b[1;32m---> 23\u001b[1;33m \u001b[0mv\u001b[0m\u001b[1;33m.\u001b[0m\u001b[0msetSpeed\u001b[0m\u001b[1;33m(\u001b[0m\u001b[1;36m80\u001b[0m\u001b[1;33m)\u001b[0m\u001b[1;33m\u001b[0m\u001b[1;33m\u001b[0m\u001b[0m\n\u001b[0m\u001b[0;32m     24\u001b[0m \u001b[1;33m\u001b[0m\u001b[0m\n\u001b[0;32m     25\u001b[0m \u001b[1;31m# Call the description() from objects\u001b[0m\u001b[1;33m\u001b[0m\u001b[1;33m\u001b[0m\u001b[0m\n",
      "\u001b[1;31mAttributeError\u001b[0m: 'Vehicle' object has no attribute 'setSpeed'"
     ]
    }
   ],
   "source": [
    "# Try to access Child class methods using parent class object\n",
    "# Parent class\n",
    "class Vehicle():\n",
    "    def description(self):\n",
    "        print(\"This is a vehicle\")\n",
    "\n",
    "# Inheritance\n",
    "# Child Class / Sub Class / Inherited Class\n",
    "class Car(Vehicle):\n",
    "    def description(self):\n",
    "        print(\"This is a car\")\n",
    "        \n",
    "    def setSpeed(self,speed):\n",
    "        print(f\"This car speed is {speed}\")\n",
    "\n",
    "        \n",
    "# Creating the objects to class\n",
    "c=Car() \n",
    "v=Vehicle()\n",
    "\n",
    "# Lets try to access setSpeed() using both the parent and child class object\n",
    "c.setSpeed(40)\n",
    "v.setSpeed(80)\n",
    "\n",
    "# Call the description() from objects\n",
    "c.setSpeed() #Car.description(c)\n",
    "v.setSpeed() # Vehicle.description(v)"
   ]
  },
  {
   "cell_type": "code",
   "execution_count": null,
   "id": "e0ca35dd",
   "metadata": {},
   "outputs": [],
   "source": [
    "Super() Function"
   ]
  },
  {
   "cell_type": "code",
   "execution_count": 11,
   "id": "aaef9c30",
   "metadata": {},
   "outputs": [
    {
     "name": "stdout",
     "output_type": "stream",
     "text": [
      "The car is of Red color\n",
      "The vehicle is of Black color\n"
     ]
    }
   ],
   "source": [
    "# Parent class or base class\n",
    "class Vehicle():\n",
    "    def __init__(self,color):\n",
    "        self.color=color\n",
    "        \n",
    "    def description(self):\n",
    "        print(f\"The vehicle is of {self.color} color\")\n",
    "#Child class        \n",
    "class Car(Vehicle):\n",
    "    def __init__(self,color,style):\n",
    "        \n",
    "        super().__init__(color) # Calling the parent class __init__()=>Vehicle().__init__(Red)\n",
    "        self.style=style\n",
    "        \n",
    "    def description(self):\n",
    "        print(f\"The car is of {self.color} color\")\n",
    "\n",
    "# Creating the objects to the class\n",
    "c=Car('Red','Sedan')\n",
    "v=Vehicle('Black')\n",
    "\n",
    "c.description()\n",
    "v.description()"
   ]
  },
  {
   "cell_type": "code",
   "execution_count": null,
   "id": "88bebef1",
   "metadata": {},
   "outputs": [],
   "source": [
    "# Multiple Inheritance"
   ]
  },
  {
   "cell_type": "code",
   "execution_count": 14,
   "id": "005ec9fc",
   "metadata": {},
   "outputs": [
    {
     "name": "stdout",
     "output_type": "stream",
     "text": [
      "Vehicle on the ground\n",
      "Vehicle that flies in sky\n"
     ]
    }
   ],
   "source": [
    "# Parent Class1\n",
    "class GroundVehicle():\n",
    "    def drive(self):\n",
    "        print(\"Vehicle on the ground\")\n",
    "# Parent Class2        \n",
    "class FlyingVehicle():\n",
    "    def fly(self):\n",
    "        print(\"Vehicle that flies in sky\")\n",
    "        \n",
    "# Child Class or Derived Class\n",
    "class Car(GroundVehicle, FlyingVehicle):\n",
    "       pass\n",
    "\n",
    "# Create object for the sub class or child class\n",
    "c=Car()\n",
    "\n",
    "c.drive()\n",
    "c.fly()"
   ]
  },
  {
   "cell_type": "code",
   "execution_count": null,
   "id": "96443df8",
   "metadata": {},
   "outputs": [],
   "source": []
  },
  {
   "cell_type": "code",
   "execution_count": null,
   "id": "5f1b7815",
   "metadata": {},
   "outputs": [],
   "source": []
  },
  {
   "cell_type": "code",
   "execution_count": null,
   "id": "0c6c22ea",
   "metadata": {},
   "outputs": [],
   "source": []
  },
  {
   "cell_type": "code",
   "execution_count": null,
   "id": "34e2a43c",
   "metadata": {},
   "outputs": [],
   "source": []
  }
 ],
 "metadata": {
  "kernelspec": {
   "display_name": "Python 3 (ipykernel)",
   "language": "python",
   "name": "python3"
  },
  "language_info": {
   "codemirror_mode": {
    "name": "ipython",
    "version": 3
   },
   "file_extension": ".py",
   "mimetype": "text/x-python",
   "name": "python",
   "nbconvert_exporter": "python",
   "pygments_lexer": "ipython3",
   "version": "3.9.13"
  }
 },
 "nbformat": 4,
 "nbformat_minor": 5
}
