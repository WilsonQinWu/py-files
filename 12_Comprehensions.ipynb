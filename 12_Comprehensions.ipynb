{
 "cells": [
  {
   "cell_type": "raw",
   "id": "a8f5dee9",
   "metadata": {},
   "source": [
    "List Comprehension"
   ]
  },
  {
   "cell_type": "code",
   "execution_count": null,
   "id": "28c51ef2",
   "metadata": {},
   "outputs": [],
   "source": [
    "\n",
    "\n",
    "#[EXPRESSION FOR ITEM IN ITERABLE]\n",
    "#ITEM: AN ITEM FROM THE ITERABLE\n",
    "#EXPRESSION: CAN BE ANY EXPRESSION  & IS EVALUATED ONCE FOR EACH ITEM             \n",
    "# AN ITERABLE OBJECT(e.g. LIST, TUPLE, ETC)"
   ]
  },
  {
   "cell_type": "code",
   "execution_count": null,
   "id": "bab0ce5c",
   "metadata": {},
   "outputs": [],
   "source": [
    "# Properties of List Comprehension\n",
    "Create a list\n",
    "Modify a list\n",
    "Filtering a list"
   ]
  },
  {
   "cell_type": "code",
   "execution_count": 1,
   "id": "2e6aa5f6",
   "metadata": {},
   "outputs": [
    {
     "name": "stdout",
     "output_type": "stream",
     "text": [
      "[16, 25, 36]\n"
     ]
    }
   ],
   "source": [
    "# List of squares\n",
    "numbers=[4,5,6]\n",
    "squ=[digit **2 for digit in numbers]\n",
    "print(squ)"
   ]
  },
  {
   "cell_type": "code",
   "execution_count": 6,
   "id": "b9404602",
   "metadata": {},
   "outputs": [
    {
     "name": "stdout",
     "output_type": "stream",
     "text": [
      "[10, 11, 12, 13, 14, 15, 16, 17, 18, 19, 20, 21, 22, 23, 24] \n",
      " [20, 21, 22, 23, 24, 25, 26, 27, 28, 29, 30, 31, 32, 33, 34]\n"
     ]
    }
   ],
   "source": [
    "# Ex: Adding 10 to evry value in the list\n",
    "list1=list(range(10,25))\n",
    "result=[num +10 for num in list1]\n",
    "print(list1,\"\\n\",result)"
   ]
  },
  {
   "cell_type": "code",
   "execution_count": 7,
   "id": "742be269",
   "metadata": {},
   "outputs": [
    {
     "name": "stdout",
     "output_type": "stream",
     "text": [
      "[1.0, 3.5, 4.2] \n",
      " [2.2, 7.700000000000001, 9.240000000000002]\n"
     ]
    }
   ],
   "source": [
    "# Convert the weights from kg to pound\n",
    "# 1KG=2.2Pound\n",
    "# Method 1\n",
    "weight_kg=[1.0,3.5,4.2]\n",
    "weight_pound=[x*2.2 for x in weight_kg]\n",
    "print(weight_kg,\"\\n\",weight_pound)"
   ]
  },
  {
   "cell_type": "code",
   "execution_count": 10,
   "id": "f0ea6c80",
   "metadata": {},
   "outputs": [
    {
     "name": "stdout",
     "output_type": "stream",
     "text": [
      "[2.2, 7.700000000000001, 9.240000000000002]\n"
     ]
    }
   ],
   "source": [
    "# Methods 2\n",
    "weight_kg=[1.0,3.5,4.2]\n",
    "weight_pound=[]\n",
    "for x in weight_kg:\n",
    "    res = x*2.2\n",
    "    weight_pound.append(res)\n",
    "print(weight_pound)"
   ]
  },
  {
   "cell_type": "raw",
   "id": "88ddfd06",
   "metadata": {},
   "source": [
    "for loop\n",
    "    for loop\n",
    "        if clause\n",
    "            for loop\n",
    "            "
   ]
  },
  {
   "cell_type": "code",
   "execution_count": null,
   "id": "caca9b39",
   "metadata": {},
   "outputs": [],
   "source": [
    "# LIST comprehension - IF Clause"
   ]
  },
  {
   "cell_type": "code",
   "execution_count": null,
   "id": "c529caea",
   "metadata": {},
   "outputs": [],
   "source": [
    "# Syntax\n",
    "# [expression   for item in iterable   if condition]"
   ]
  },
  {
   "cell_type": "code",
   "execution_count": 11,
   "id": "ddf3ca09",
   "metadata": {},
   "outputs": [
    {
     "name": "stdout",
     "output_type": "stream",
     "text": [
      "[4, 6]\n"
     ]
    }
   ],
   "source": [
    "# Get the even nubers from the list of numbers\n",
    "numbers=[4,5,6]\n",
    "even=[x for x in numbers if x%2==0]\n",
    "print(even)\n"
   ]
  },
  {
   "cell_type": "code",
   "execution_count": 12,
   "id": "c2b20363",
   "metadata": {},
   "outputs": [
    {
     "name": "stdout",
     "output_type": "stream",
     "text": [
      "['elephant', 'egg']\n"
     ]
    }
   ],
   "source": [
    "# Ex: Get the element starting with 'e' into a new list\n",
    "list2=['app','pencil','elephant','egg']\n",
    "# method 1\n",
    "res=[item for item in list2 if item[0]=='e']\n",
    "print(res)"
   ]
  },
  {
   "cell_type": "code",
   "execution_count": 13,
   "id": "3d40a4bd",
   "metadata": {},
   "outputs": [
    {
     "data": {
      "text/plain": [
       "['elephant', 'egg']"
      ]
     },
     "execution_count": 13,
     "metadata": {},
     "output_type": "execute_result"
    }
   ],
   "source": [
    "# method 2\n",
    "res=[item for item in list2 if item.startswith('e')]\n",
    "res"
   ]
  },
  {
   "cell_type": "code",
   "execution_count": 15,
   "id": "d84dfddf",
   "metadata": {},
   "outputs": [
    {
     "data": {
      "text/plain": [
       "['Even', 'odd', 'Even']"
      ]
     },
     "execution_count": 15,
     "metadata": {},
     "output_type": "execute_result"
    }
   ],
   "source": [
    "# LIST Comprehension - If Else Claust\n",
    "# [True_expression if condition else Else_Expression for item in iterable]\n",
    "# Get the even or add from the list of numbers\n",
    "numbers=[4,5,6]\n",
    "res=['Even' if item%2==0 else 'odd' for item in numbers]\n",
    "res"
   ]
  },
  {
   "cell_type": "code",
   "execution_count": 17,
   "id": "67974f1b",
   "metadata": {},
   "outputs": [
    {
     "data": {
      "text/plain": [
       "['Steve', 'Ram', 'Invalid name']"
      ]
     },
     "execution_count": 17,
     "metadata": {},
     "output_type": "execute_result"
    }
   ],
   "source": [
    "# Ex : Replace names that has special characters with the word \"Invalid name\"\n",
    "# list3 = ['Steve', 'Ram', '$%^$Harry']\n",
    "# Exp Out ['Steve', 'Ram', 'Invalid name']\n",
    "\n",
    "list3 = ['Steve', 'Ram', '$%^$Harry']\n",
    "res=[name if name.isalpha() else 'Invalid name' for name in list3]\n",
    "res\n"
   ]
  },
  {
   "cell_type": "code",
   "execution_count": null,
   "id": "bec41d2a",
   "metadata": {},
   "outputs": [],
   "source": [
    "# And condition in If statement"
   ]
  },
  {
   "cell_type": "code",
   "execution_count": 22,
   "id": "69cb63ae",
   "metadata": {
    "scrolled": true
   },
   "outputs": [
    {
     "name": "stdout",
     "output_type": "stream",
     "text": [
      "[40, 80]\n",
      "[5, 8, 10, 15, 16, 20, 24, 25, 30, 32, 35, 40, 45, 48, 50, 55, 56, 60, 64, 65, 70, 72, 75, 80, 85, 88, 90, 95, 96, 100]\n"
     ]
    }
   ],
   "source": [
    "# Get all the numbers divisible by 5 and 8 from 1 to 100\n",
    "# And condition\n",
    "numbers=list(range(1,101))\n",
    "res=[num for num in numbers if num%5==0 and num%8==0 ]\n",
    "print(res)\n",
    "\n",
    "# Or condition in If statement\n",
    "res=[num for num in numbers if num%5==0 or num%8==0 ]\n",
    "print (res)"
   ]
  },
  {
   "cell_type": "code",
   "execution_count": 23,
   "id": "abc04df2",
   "metadata": {},
   "outputs": [],
   "source": [
    "# Dictionary Comprehension\n",
    "# {k:v for var in iterable}"
   ]
  },
  {
   "cell_type": "code",
   "execution_count": 25,
   "id": "8ab166e0",
   "metadata": {},
   "outputs": [
    {
     "data": {
      "text/plain": [
       "{4: 16, 5: 25, 6: 36}"
      ]
     },
     "execution_count": 25,
     "metadata": {},
     "output_type": "execute_result"
    }
   ],
   "source": [
    "# Get the dictionary of squares\n",
    "numbers=[4,5,6]\n",
    "sq_dict={k:k**2 for k in numbers}\n",
    "sq_dict"
   ]
  },
  {
   "cell_type": "code",
   "execution_count": 27,
   "id": "321bbdbe",
   "metadata": {},
   "outputs": [
    {
     "data": {
      "text/plain": [
       "{'red': 3, 'blue': 4, 'yellow': 6}"
      ]
     },
     "execution_count": 27,
     "metadata": {},
     "output_type": "execute_result"
    }
   ],
   "source": [
    "# ex: Get the length of each word.\n",
    "words=['red','blue','yellow']\n",
    "# words_lens={'red':3,'blue':4,'yellow':6}\n",
    "words_lens={word:len(word) for word in words}\n",
    "words_lens\n"
   ]
  },
  {
   "cell_type": "code",
   "execution_count": 42,
   "id": "03a32e9f",
   "metadata": {},
   "outputs": [
    {
     "ename": "SyntaxError",
     "evalue": "cannot assign to function call (1561289140.py, line 12)",
     "output_type": "error",
     "traceback": [
      "\u001b[1;36m  File \u001b[1;32m\"C:\\Users\\QIN WU\\AppData\\Local\\Temp\\ipykernel_25016\\1561289140.py\"\u001b[1;36m, line \u001b[1;32m12\u001b[0m\n\u001b[1;33m    new_weights1={old_weights.keys():old_weights.values()*2.2 for old_weights.keys(),old_weights.values() in old_weights.items()}\u001b[0m\n\u001b[1;37m                                                                  ^\u001b[0m\n\u001b[1;31mSyntaxError\u001b[0m\u001b[1;31m:\u001b[0m cannot assign to function call\n"
     ]
    }
   ],
   "source": [
    "# Convert the weights from kg to pounds\n",
    "\n",
    "old_weights={\n",
    "    'book':0.5,\n",
    "    'milk':2,\n",
    "    'tv':7\n",
    "}\n",
    "\n",
    "new_weights={k:v*2.2 for k,v in old_weights.items()}\n",
    "print(new_weights)\n",
    "\n",
    "new_weights1={old_weights.keys():old_weights.values()*2.2 for old_weights.keys(),old_weights.values() in old_weights.items()}\n",
    "print(new_weights1)"
   ]
  },
  {
   "cell_type": "code",
   "execution_count": 41,
   "id": "56305997",
   "metadata": {},
   "outputs": [
    {
     "name": "stdout",
     "output_type": "stream",
     "text": [
      "{'kevin': 12, 'marcus': 9}\n",
      "{'kevin': 12}\n"
     ]
    }
   ],
   "source": [
    "# IF Clause in Dict Comprehension\n",
    "# Syntax: {exp for statement if clause}\n",
    "\n",
    "ages={'kevin':12,'marcus':9,'evan':31,'nik':31}\n",
    "# Ex: 1 Get all the people whose age is <25\n",
    "\n",
    "res={k:v for k,v in ages.items() if v<25}\n",
    "print(res)\n",
    "\n",
    "# Get all people whose age is an even number and age <25\n",
    "res={k:v for k,v in ages.items() if v<25 and v%2==0}\n",
    "print(res)"
   ]
  },
  {
   "cell_type": "code",
   "execution_count": null,
   "id": "d7cecca4",
   "metadata": {},
   "outputs": [],
   "source": []
  },
  {
   "cell_type": "code",
   "execution_count": null,
   "id": "10d24e9e",
   "metadata": {},
   "outputs": [],
   "source": []
  }
 ],
 "metadata": {
  "kernelspec": {
   "display_name": "Python 3 (ipykernel)",
   "language": "python",
   "name": "python3"
  },
  "language_info": {
   "codemirror_mode": {
    "name": "ipython",
    "version": 3
   },
   "file_extension": ".py",
   "mimetype": "text/x-python",
   "name": "python",
   "nbconvert_exporter": "python",
   "pygments_lexer": "ipython3",
   "version": "3.9.13"
  }
 },
 "nbformat": 4,
 "nbformat_minor": 5
}
