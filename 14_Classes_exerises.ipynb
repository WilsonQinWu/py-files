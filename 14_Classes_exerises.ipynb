{
 "cells": [
  {
   "cell_type": "code",
   "execution_count": null,
   "id": "d2b8c748",
   "metadata": {},
   "outputs": [],
   "source": [
    "# Classes"
   ]
  },
  {
   "cell_type": "code",
   "execution_count": null,
   "id": "d34b981c",
   "metadata": {},
   "outputs": [],
   "source": [
    "class Name_of_the_Class()\n",
    "# init with no arguments\n",
    "    def __init__(self):\n",
    "        pass\n",
    "    \n",
    "    def func1(self):\n",
    "        pass\n",
    "    \n",
    "    def func2(self):\n",
    "        pass\n",
    "    \n",
    "# Object creation\n",
    "Object_Name=Name_of_the_Class() # => Name_of_the_Class(Object_Name)\n",
    "object_name.func1() #=> Name_of_the_class.func1(object_name)\n",
    "\n",
    "#####################################################################\n",
    "\n",
    "class Name_of_the_Class()\n",
    "# init with no arguments\n",
    "    def __init__(self,arg1):\n",
    "        pass\n",
    "    \n",
    "    def func1(self):\n",
    "        pass\n",
    "    \n",
    "    def func2(self):\n",
    "        pass\n",
    "    \n",
    "# Object creation\n",
    "Object_Name=Name_of_the_Class(val1) "
   ]
  },
  {
   "cell_type": "code",
   "execution_count": 37,
   "id": "9543a235",
   "metadata": {},
   "outputs": [],
   "source": [
    "class mathops():\n",
    "    name='Good Math'\n",
    "    \n",
    "    def __init__(self,a,b):\n",
    "        self.a=a\n",
    "        self.b=b\n",
    "        \n",
    "    def adds(self,a,b):\n",
    "        print(a+b)\n",
    "        return a+b\n",
    "    \n",
    "    def muls(self,x,y):\n",
    "        return x*y\n",
    "    \n",
    "    def sub(self,u,v):\n",
    "        return u-v"
   ]
  },
  {
   "cell_type": "code",
   "execution_count": 42,
   "id": "952f994c",
   "metadata": {},
   "outputs": [
    {
     "ename": "TypeError",
     "evalue": "__init__() missing 2 required positional arguments: 'a' and 'b'",
     "output_type": "error",
     "traceback": [
      "\u001b[1;31m---------------------------------------------------------------------------\u001b[0m",
      "\u001b[1;31mTypeError\u001b[0m                                 Traceback (most recent call last)",
      "\u001b[1;32m~\\AppData\\Local\\Temp\\ipykernel_21432\\3646869603.py\u001b[0m in \u001b[0;36m<module>\u001b[1;34m\u001b[0m\n\u001b[1;32m----> 1\u001b[1;33m \u001b[0mobj1\u001b[0m\u001b[1;33m=\u001b[0m\u001b[0mmathops\u001b[0m\u001b[1;33m(\u001b[0m\u001b[1;33m)\u001b[0m\u001b[1;33m\u001b[0m\u001b[1;33m\u001b[0m\u001b[0m\n\u001b[0m\u001b[0;32m      2\u001b[0m \u001b[0mmathops\u001b[0m\u001b[1;33m.\u001b[0m\u001b[0madds\u001b[0m\u001b[1;33m(\u001b[0m\u001b[0mobj1\u001b[0m\u001b[1;33m,\u001b[0m\u001b[1;36m4\u001b[0m\u001b[1;33m,\u001b[0m\u001b[1;36m5\u001b[0m\u001b[1;33m)\u001b[0m\u001b[1;33m\u001b[0m\u001b[1;33m\u001b[0m\u001b[0m\n",
      "\u001b[1;31mTypeError\u001b[0m: __init__() missing 2 required positional arguments: 'a' and 'b'"
     ]
    }
   ],
   "source": [
    "obj1=mathops()\n",
    "mathops.adds(obj1,4,5)"
   ]
  },
  {
   "cell_type": "code",
   "execution_count": 20,
   "id": "b9e778a2",
   "metadata": {},
   "outputs": [
    {
     "name": "stdout",
     "output_type": "stream",
     "text": [
      "25\n",
      "25\n",
      "25 150 -5\n"
     ]
    }
   ],
   "source": [
    "x_obj=mathops()\n",
    "obj1_add_res=x_obj.adds(10,15)\n",
    "\n",
    "y_obj=mathops()\n",
    "obj1_muls_res=x_obj.muls(10,15)\n",
    "\n",
    "z_obj=mathops()\n",
    "obj1_sub_res=x_obj.sub(10,15)\n",
    "print(obj1_add_res)\n",
    "print(obj1_add_res,obj1_muls_res,obj1_sub_res)"
   ]
  },
  {
   "cell_type": "code",
   "execution_count": null,
   "id": "9d103f5a",
   "metadata": {},
   "outputs": [],
   "source": []
  },
  {
   "cell_type": "code",
   "execution_count": null,
   "id": "7709689b",
   "metadata": {},
   "outputs": [],
   "source": []
  }
 ],
 "metadata": {
  "kernelspec": {
   "display_name": "Python 3 (ipykernel)",
   "language": "python",
   "name": "python3"
  },
  "language_info": {
   "codemirror_mode": {
    "name": "ipython",
    "version": 3
   },
   "file_extension": ".py",
   "mimetype": "text/x-python",
   "name": "python",
   "nbconvert_exporter": "python",
   "pygments_lexer": "ipython3",
   "version": "3.9.13"
  }
 },
 "nbformat": 4,
 "nbformat_minor": 5
}
