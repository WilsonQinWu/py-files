{
 "cells": [
  {
   "cell_type": "code",
   "execution_count": 2,
   "id": "d7feb5f0",
   "metadata": {},
   "outputs": [],
   "source": [
    "a='Holiday is relaxing'"
   ]
  },
  {
   "cell_type": "code",
   "execution_count": 3,
   "id": "1afdd2a0",
   "metadata": {},
   "outputs": [
    {
     "name": "stdout",
     "output_type": "stream",
     "text": [
      "Holiday is relaxing\n"
     ]
    }
   ],
   "source": [
    "print(a)"
   ]
  },
  {
   "cell_type": "code",
   "execution_count": null,
   "id": "6287cdc1",
   "metadata": {},
   "outputs": [],
   "source": [
    "# To delete a cell\n",
    "# ESC + X"
   ]
  },
  {
   "cell_type": "code",
   "execution_count": null,
   "id": "621be622",
   "metadata": {},
   "outputs": [],
   "source": [
    "# ESC + A ==> To add a new cell above the current cell"
   ]
  },
  {
   "cell_type": "code",
   "execution_count": null,
   "id": "b106a03b",
   "metadata": {},
   "outputs": [],
   "source": [
    "# ESC + B ==> To add a new cell below the current cell"
   ]
  },
  {
   "cell_type": "code",
   "execution_count": null,
   "id": "8cd82cad",
   "metadata": {},
   "outputs": [],
   "source": [
    "# Syntax\n",
    "# variable_name.methodName()"
   ]
  },
  {
   "cell_type": "code",
   "execution_count": 4,
   "id": "4f0bb6f8",
   "metadata": {},
   "outputs": [
    {
     "name": "stdout",
     "output_type": "stream",
     "text": [
      "The string in lower case is: HOLIDAY IS RELAXING\n"
     ]
    }
   ],
   "source": [
    "# upper()\n",
    "res_upper = a.upper()\n",
    "print(\"The string in upper case is:\",res_upper)"
   ]
  },
  {
   "cell_type": "code",
   "execution_count": 5,
   "id": "90ad57d0",
   "metadata": {},
   "outputs": [
    {
     "name": "stdout",
     "output_type": "stream",
     "text": [
      "The string in upper case is: holiday is relaxing\n"
     ]
    }
   ],
   "source": [
    "# lower()\n",
    "res_lower = a.lower()\n",
    "print(\"The string in upper case is:\",res_lower)"
   ]
  },
  {
   "cell_type": "code",
   "execution_count": 11,
   "id": "932a1ac8",
   "metadata": {},
   "outputs": [
    {
     "name": "stdout",
     "output_type": "stream",
     "text": [
      "No of a is: 2\n",
      "No of z is: 0\n"
     ]
    }
   ],
   "source": [
    "# count(x) 方法用于统计字符串里某个字符或子字符串出现的次数。可选参数为在字符串搜索的开始与结束位置。\n",
    "# str.count(sub, start= 0,end=len(string))\n",
    "# https://www.runoob.com/python/att-string-count.html\n",
    "res_count=a.count('a')\n",
    "print('No of a is:',res_count)\n",
    "\n",
    "res_count_2=a.count('z')\n",
    "print('No of z is:',res_count_2)"
   ]
  },
  {
   "cell_type": "code",
   "execution_count": 13,
   "id": "37fdb5d3",
   "metadata": {},
   "outputs": [
    {
     "name": "stdout",
     "output_type": "stream",
     "text": [
      "The character a is present at index:  5\n",
      "The character z is present at index:  -1\n"
     ]
    }
   ],
   "source": [
    "# find() 方法检测字符串中是否包含子字符串 str ，如果指定 beg（开始） 和 end（结束） 范围，则检查是否包含在指定范围内，\n",
    "# 如果包含子字符串返回开始的索引值，否则返回-1\n",
    "# str.find(str, beg=0, end=len(string))\n",
    "res_find_a=a.find('a')\n",
    "print(\"The character a is present at index: \", res_find_a)\n",
    "\n",
    "res_find_z=a.find('z')\n",
    "print(\"The character z is present at index: \", res_find_z)"
   ]
  },
  {
   "cell_type": "code",
   "execution_count": 14,
   "id": "3e3f222d",
   "metadata": {},
   "outputs": [
    {
     "name": "stdout",
     "output_type": "stream",
     "text": [
      "The character a is present at index:  14\n",
      "The character z is present at index:  -1\n"
     ]
    }
   ],
   "source": [
    "# rfind() 类似于 find() 函数，返回字符串最后一次出现的位置，如果没有匹配项则返回 -1。Returns the index position of the match: int\n",
    "# str.find(str, beg=0, end=len(string))\n",
    "\n",
    "res_find_a=a.rfind('a')\n",
    "print(\"The character a is present at index: \", res_find_a)\n",
    "\n",
    "res_find_z=a.rfind('z')\n",
    "print(\"The character z is present at index: \", res_find_z)"
   ]
  },
  {
   "cell_type": "code",
   "execution_count": 20,
   "id": "d1b19eef",
   "metadata": {},
   "outputs": [
    {
     "name": "stdout",
     "output_type": "stream",
     "text": [
      "The index of a is :  5\n"
     ]
    },
    {
     "ename": "ValueError",
     "evalue": "substring not found",
     "output_type": "error",
     "traceback": [
      "\u001b[1;31m---------------------------------------------------------------------------\u001b[0m",
      "\u001b[1;31mValueError\u001b[0m                                Traceback (most recent call last)",
      "\u001b[1;32m~\\AppData\\Local\\Temp\\ipykernel_27744\\2428536908.py\u001b[0m in \u001b[0;36m<module>\u001b[1;34m\u001b[0m\n\u001b[0;32m      4\u001b[0m \u001b[0mprint\u001b[0m\u001b[1;33m(\u001b[0m\u001b[1;34m\"The index of a is : \"\u001b[0m\u001b[1;33m,\u001b[0m \u001b[0mres_index_a\u001b[0m\u001b[1;33m)\u001b[0m\u001b[1;33m\u001b[0m\u001b[1;33m\u001b[0m\u001b[0m\n\u001b[0;32m      5\u001b[0m \u001b[1;33m\u001b[0m\u001b[0m\n\u001b[1;32m----> 6\u001b[1;33m \u001b[0mres_index_z\u001b[0m\u001b[1;33m=\u001b[0m\u001b[0ma\u001b[0m\u001b[1;33m.\u001b[0m\u001b[0mindex\u001b[0m\u001b[1;33m(\u001b[0m\u001b[1;34m'z'\u001b[0m\u001b[1;33m)\u001b[0m\u001b[1;33m\u001b[0m\u001b[1;33m\u001b[0m\u001b[0m\n\u001b[0m\u001b[0;32m      7\u001b[0m \u001b[0mprint\u001b[0m\u001b[1;33m(\u001b[0m\u001b[1;34m\"The index of z is ： \"\u001b[0m\u001b[1;33m,\u001b[0m \u001b[0mres_index_z\u001b[0m\u001b[1;33m)\u001b[0m\u001b[1;33m\u001b[0m\u001b[1;33m\u001b[0m\u001b[0m\n",
      "\u001b[1;31mValueError\u001b[0m: substring not found"
     ]
    }
   ],
   "source": [
    "# index('x'）=> Returns the index position of a given character\n",
    "# If the character is not present, an error is thrown\n",
    "res_index_a=a.index('a')\n",
    "print(\"The index of a is : \", res_index_a)\n",
    "\n",
    "res_index_z=a.index('z')\n",
    "print(\"The index of z is ： \", res_index_z)"
   ]
  },
  {
   "cell_type": "code",
   "execution_count": 21,
   "id": "d587ee57",
   "metadata": {},
   "outputs": [
    {
     "name": "stdout",
     "output_type": "stream",
     "text": [
      "The index of a is :  14\n"
     ]
    },
    {
     "ename": "ValueError",
     "evalue": "substring not found",
     "output_type": "error",
     "traceback": [
      "\u001b[1;31m---------------------------------------------------------------------------\u001b[0m",
      "\u001b[1;31mValueError\u001b[0m                                Traceback (most recent call last)",
      "\u001b[1;32m~\\AppData\\Local\\Temp\\ipykernel_27744\\870546617.py\u001b[0m in \u001b[0;36m<module>\u001b[1;34m\u001b[0m\n\u001b[0;32m      4\u001b[0m \u001b[0mprint\u001b[0m\u001b[1;33m(\u001b[0m\u001b[1;34m\"The index of a is : \"\u001b[0m\u001b[1;33m,\u001b[0m \u001b[0mres_index_a\u001b[0m\u001b[1;33m)\u001b[0m\u001b[1;33m\u001b[0m\u001b[1;33m\u001b[0m\u001b[0m\n\u001b[0;32m      5\u001b[0m \u001b[1;33m\u001b[0m\u001b[0m\n\u001b[1;32m----> 6\u001b[1;33m \u001b[0mres_index_z\u001b[0m\u001b[1;33m=\u001b[0m\u001b[0ma\u001b[0m\u001b[1;33m.\u001b[0m\u001b[0mrindex\u001b[0m\u001b[1;33m(\u001b[0m\u001b[1;34m'z'\u001b[0m\u001b[1;33m)\u001b[0m\u001b[1;33m\u001b[0m\u001b[1;33m\u001b[0m\u001b[0m\n\u001b[0m\u001b[0;32m      7\u001b[0m \u001b[0mprint\u001b[0m\u001b[1;33m(\u001b[0m\u001b[1;34m\"The index of z is ： \"\u001b[0m\u001b[1;33m,\u001b[0m \u001b[0mres_index_z\u001b[0m\u001b[1;33m)\u001b[0m\u001b[1;33m\u001b[0m\u001b[1;33m\u001b[0m\u001b[0m\n",
      "\u001b[1;31mValueError\u001b[0m: substring not found"
     ]
    }
   ],
   "source": [
    "# rindex() => Returns the index position of a given character from right to left\n",
    "# If the character is not present, an error is thrown\n",
    "res_index_a=a.rindex('a')\n",
    "print(\"The index of a is : \", res_index_a)\n",
    "\n",
    "res_index_z=a.rindex('z')\n",
    "print(\"The index of z is ： \", res_index_z)"
   ]
  },
  {
   "cell_type": "code",
   "execution_count": 54,
   "id": "4ba7a762",
   "metadata": {},
   "outputs": [
    {
     "name": "stdout",
     "output_type": "stream",
     "text": [
      "Else result: a\n",
      "The end result is :  XolidaH\n"
     ]
    }
   ],
   "source": [
    "# If condition\n",
    "a=10\n",
    "# Check the value of a is 100\n",
    "if a==100:\n",
    "    print(\"If result\",a)\n",
    "else:\n",
    "    print(\"Else result:\",'a')\n",
    "\n",
    "\n",
    "# Check if the first character and last character of the string is same or not\n",
    "# If the character are same=> Replace the last character with X\n",
    "# Else if the characters are not same => Replace the last character with Y\n",
    "\n",
    "# Syntax for replace\n",
    "# variable_name.replace(search_char,new_char,1)\n",
    "# first_character=string[0],last_character=string[-1]\n",
    "string1='HolidaH'\n",
    "res_replace = ''\n",
    "if string1[0] == string1[-1]:\n",
    "    res_replace = string1.replace(string1[-1],'X',1)\n",
    "else:\n",
    "    res_replace = string1.replace(string1[-1],'Y',1)\n",
    "    \n",
    "print('The end result is : ',res_replace)    \n",
    "\n"
   ]
  },
  {
   "cell_type": "code",
   "execution_count": 44,
   "id": "14ad30f1",
   "metadata": {},
   "outputs": [
    {
     "name": "stdout",
     "output_type": "stream",
     "text": [
      "The result of isalpha is :  True\n",
      "The result of isdigit is :  True\n",
      "The result of isdigit is :  False\n"
     ]
    }
   ],
   "source": [
    "# isdigit()=> Checks if all the characters of string are digits\n",
    "# isalpha()=> Checks if all the characters of string are alphabets\n",
    "# Returns Bool/ Boolean(True | False) =>(1|0)\n",
    "\n",
    "b='Relaxing'\n",
    "b.isalpha()\n",
    "b_res=b.isalpha()\n",
    "print(\"The result of isalpha is : \", b_res)\n",
    "\n",
    "c='123'\n",
    "c_res=c.isdigit()\n",
    "print(\"The result of isdigit is : \", c_res)\n",
    "d='123af'\n",
    "d_res=d.isdigit()\n",
    "print(\"The result of isdigit is : \", d_res)"
   ]
  },
  {
   "cell_type": "code",
   "execution_count": 45,
   "id": "39e9264e",
   "metadata": {},
   "outputs": [
    {
     "name": "stdout",
     "output_type": "stream",
     "text": [
      "The result of a is isalnum: True\n",
      "The result of b is isalnum: False\n"
     ]
    }
   ],
   "source": [
    "# isalnum() => Checks if the character is alphabet or number\n",
    "a = '13abc'\n",
    "b = '234~!@daf'\n",
    "\n",
    "a_res= a.isalnum()\n",
    "print (\"The result of a is isalnum:\",a_res)\n",
    "b_res= b.isalnum()\n",
    "print (\"The result of b is isalnum:\",b_res)"
   ]
  },
  {
   "cell_type": "code",
   "execution_count": 49,
   "id": "3239967a",
   "metadata": {},
   "outputs": [
    {
     "name": "stdout",
     "output_type": "stream",
     "text": [
      "The result of strip is : Hello\n",
      "The result of lstrip is : Hello                     \n",
      "The result of rstrip is :     Hello\n"
     ]
    }
   ],
   "source": [
    "# strip() => Removes both the spaces at left and right side of the string\n",
    "# lstrip() => Removes the leading space of left side space of the string\n",
    "# rstrip() => Removes the rear space or right side space of the string\n",
    "a= '    Hello                     '\n",
    "a_res=a.strip()\n",
    "b_res=a.lstrip()\n",
    "c_res=a.rstrip()\n",
    "print('The result of strip is :', a_res)\n",
    "print('The result of lstrip is :', b_res)\n",
    "print('The result of rstrip is :', c_res)"
   ]
  },
  {
   "cell_type": "code",
   "execution_count": 50,
   "id": "08f0ac70",
   "metadata": {},
   "outputs": [
    {
     "name": "stdout",
     "output_type": "stream",
     "text": [
      "The current value is :  2\n",
      "The current value is :  3\n",
      "The current value is :  4\n",
      "The current value is :  ~\n",
      "The current value is :  !\n",
      "The current value is :  @\n",
      "The current value is :  d\n",
      "The current value is :  a\n",
      "The current value is :  f\n"
     ]
    }
   ],
   "source": [
    "for x in b:\n",
    "    print(\"The current value is : \",x)"
   ]
  },
  {
   "cell_type": "code",
   "execution_count": 96,
   "id": "a7b4d275",
   "metadata": {},
   "outputs": [
    {
     "name": "stdout",
     "output_type": "stream",
     "text": [
      "3\n",
      "Result is : SON\n",
      "Count of USA is: 0\n"
     ]
    }
   ],
   "source": [
    "#Exercise \n",
    "#Question 1: \n",
    "#Given a string of odd length, return a string made of the middle three chars in upper case.\n",
    "#For example: –\n",
    "#    a = \"JhonDipPeta\"\n",
    "#   Expected Output : DIP\n",
    "\n",
    "#    b = \"Jasonay\"\n",
    "#    Expected Output : SON\n",
    "\n",
    "str1='Jasonay'\n",
    "a=int((len(str1)-1)/2)\n",
    "print(a)\n",
    "str_res=str1[a-1:a+2]\n",
    "print('Result is :',str_res.upper())\n",
    "\n",
    "\n",
    "# Exercise : 2\n",
    "# Question : \tFind all occurrences of “USA” in given string ignoring the case\n",
    "#    Input String : \n",
    "#    input_str = \"Welcome to USA. usa awesome, isn't it?\"\n",
    "#    Expected Output : Count of USA is 2\n",
    "\n",
    "input_str = \"Welcome to USA. usa awesome, isn't it?\"\n",
    "\n",
    "res_count=input_str.upper().count('USA)\n",
    "print('Count of USA is:',res_count)\n",
    "    "
   ]
  },
  {
   "cell_type": "code",
   "execution_count": null,
   "id": "efaf47ca",
   "metadata": {},
   "outputs": [],
   "source": []
  }
 ],
 "metadata": {
  "kernelspec": {
   "display_name": "Python 3 (ipykernel)",
   "language": "python",
   "name": "python3"
  },
  "language_info": {
   "codemirror_mode": {
    "name": "ipython",
    "version": 3
   },
   "file_extension": ".py",
   "mimetype": "text/x-python",
   "name": "python",
   "nbconvert_exporter": "python",
   "pygments_lexer": "ipython3",
   "version": "3.9.13"
  }
 },
 "nbformat": 4,
 "nbformat_minor": 5
}
