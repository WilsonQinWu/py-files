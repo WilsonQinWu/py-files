{
 "cells": [
  {
   "cell_type": "raw",
   "id": "214fdb3f",
   "metadata": {},
   "source": [
    "Ex 1. Write a Python function that accepts a string and \n",
    "calculate the number of upper case letters and lower case letters. Go to the editor\n",
    "Sample String : 'The quick Brow Fox'\n",
    "Expected Output :\n",
    "No. of Upper case characters : 3\n",
    "No. of Lower case Characters : 12"
   ]
  },
  {
   "cell_type": "code",
   "execution_count": 37,
   "id": "de63c35e",
   "metadata": {},
   "outputs": [
    {
     "name": "stdout",
     "output_type": "stream",
     "text": [
      "Upper case num:3\n",
      "Lower case num :12\n"
     ]
    }
   ],
   "source": [
    "uNum=0\n",
    "lNum=0\n",
    "\n",
    "def calStr(str):    \n",
    "    global uNum,lNum\n",
    "    for i in str:\n",
    "        if i.isupper():\n",
    "            uNum=uNum+1\n",
    "        elif i.islower():\n",
    "            lNum=lNum+1\n",
    "        else:\n",
    "            pass\n",
    "str_res=calStr('The quick Brow Fox')\n",
    "\n",
    "print(f\"Upper case num:{uNum}\\nLower case num :{lNum}\")"
   ]
  },
  {
   "cell_type": "raw",
   "id": "dbc75daa",
   "metadata": {},
   "source": [
    "Ex 2 :  Write a Python program to print the even numbers from a given list. Go to the editor\n",
    "Sample List : [1, 2, 3, 4, 5, 6, 7, 8, 9]\n",
    "Expected Result : [2, 4, 6, 8]"
   ]
  },
  {
   "cell_type": "code",
   "execution_count": 42,
   "id": "48382f6d",
   "metadata": {},
   "outputs": [
    {
     "name": "stdout",
     "output_type": "stream",
     "text": [
      "[2]\n",
      "[2, 4]\n",
      "[2, 4, 6]\n",
      "[2, 4, 6, 8]\n",
      "The even number from the given list is: [2, 4, 6, 8]\n"
     ]
    }
   ],
   "source": [
    "numList=[1, 2, 3, 4, 5, 6, 7, 8, 9]\n",
    "res=[]\n",
    "def findEven(numList):\n",
    "    for i in numList:\n",
    "        if i%2==0:\n",
    "            res.append(i)\n",
    "            print(res)\n",
    "    return res\n",
    "            \n",
    "print(\"The even number from the given list is:\",findEven(numList))\n",
    "    "
   ]
  },
  {
   "cell_type": "raw",
   "id": "4ad3b4b2",
   "metadata": {},
   "source": [
    "Ex 3 : Write a function to calculate area and perimeter of a rectangle.\n",
    "Hint :\n",
    "Area of a rectangle is length * breadth\n",
    "Perimeter of a rectangle is 2(length + breadth)\n",
    "\n",
    "Sample Input : length is 10 and breadth is 8\n",
    "Expected Output : Perimeter : 36\n",
    "                  Area : 80\n",
    "                  "
   ]
  },
  {
   "cell_type": "code",
   "execution_count": 49,
   "id": "f846a1c2",
   "metadata": {},
   "outputs": [
    {
     "name": "stdout",
     "output_type": "stream",
     "text": [
      "Perimeter : 36\n",
      "Area : 80\n"
     ]
    }
   ],
   "source": [
    "\n",
    "def areaPerimeter(length,breadth):\n",
    "   \n",
    "    area=length*breadth\n",
    "    perimeter=2*(length+breadth)\n",
    "    \n",
    "    print(f\"Perimeter : {perimeter}\\nArea : {area}\")\n",
    "    \n",
    "res=areaPerimeter(10,8)\n",
    "\n"
   ]
  },
  {
   "cell_type": "raw",
   "id": "957fc0c1",
   "metadata": {},
   "source": [
    "Ex 4 : Define a function that accepts 2 values and return its sum, subtraction and multiplication.\n",
    "Sample Input: 7, 5\n",
    "\n",
    "Expected output \n",
    "Sum is  12\n",
    "Sub is  2\n",
    "Multiplication is 35"
   ]
  },
  {
   "cell_type": "code",
   "execution_count": 50,
   "id": "76a47a68",
   "metadata": {},
   "outputs": [
    {
     "name": "stdout",
     "output_type": "stream",
     "text": [
      "Sum is : 12\n",
      "Sub is : 2\n",
      "Multiplication is : 35\n"
     ]
    }
   ],
   "source": [
    "\n",
    "def cal(num1,num2):\n",
    "   \n",
    "    sum=num1+num2\n",
    "    sub=num1-num2\n",
    "    multi=num1*num2\n",
    "    \n",
    "    print(f\"Sum is : {sum}\\nSub is : {sub}\\nMultiplication is : {multi}\")\n",
    "    \n",
    "res=cal(7,5)"
   ]
  },
  {
   "cell_type": "code",
   "execution_count": null,
   "id": "2be191bd",
   "metadata": {},
   "outputs": [],
   "source": []
  }
 ],
 "metadata": {
  "kernelspec": {
   "display_name": "Python 3 (ipykernel)",
   "language": "python",
   "name": "python3"
  },
  "language_info": {
   "codemirror_mode": {
    "name": "ipython",
    "version": 3
   },
   "file_extension": ".py",
   "mimetype": "text/x-python",
   "name": "python",
   "nbconvert_exporter": "python",
   "pygments_lexer": "ipython3",
   "version": "3.9.13"
  }
 },
 "nbformat": 4,
 "nbformat_minor": 5
}
