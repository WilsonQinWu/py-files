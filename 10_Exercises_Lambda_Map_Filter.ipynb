{
 "cells": [
  {
   "cell_type": "raw",
   "id": "6f734ae9",
   "metadata": {},
   "source": [
    "Ex 1 : Write a lambda function that takes x as parameter and returns x*11.\n",
    "       Sample Input : x = 10\n",
    "       Exp Output   : 110"
   ]
  },
  {
   "cell_type": "code",
   "execution_count": 9,
   "id": "71271349",
   "metadata": {},
   "outputs": [
    {
     "name": "stdout",
     "output_type": "stream",
     "text": [
      "Output: 110\n"
     ]
    }
   ],
   "source": [
    "x=10\n",
    "res=cal(x)\n",
    "cal=lambda x: x*11\n",
    "\n",
    "print(\"Output:\",res)"
   ]
  },
  {
   "cell_type": "raw",
   "id": "74b0b2de",
   "metadata": {},
   "source": [
    "Ex 2 : Write a lambda function which takes two arguments: a and b and returns the multiplication of them: a*b\n",
    "       Sample Input of a, b = 10, 10\n",
    "       Exp Output = 100"
   ]
  },
  {
   "cell_type": "code",
   "execution_count": 15,
   "id": "0d1a85ef",
   "metadata": {},
   "outputs": [
    {
     "name": "stdout",
     "output_type": "stream",
     "text": [
      "Output: 100\n"
     ]
    }
   ],
   "source": [
    "a=10\n",
    "b=10\n",
    "cal=lambda a,b: a*b\n",
    "res=cal(a,b)\n",
    "print(\"Output:\",res)"
   ]
  },
  {
   "cell_type": "code",
   "execution_count": 21,
   "id": "7a4a62ab",
   "metadata": {},
   "outputs": [
    {
     "name": "stdout",
     "output_type": "stream",
     "text": [
      "Output: 56\n"
     ]
    }
   ],
   "source": [
    "cal=lambda c=7,d=8: c*d\n",
    "res=cal()\n",
    "print(\"Output:\",res)"
   ]
  },
  {
   "cell_type": "raw",
   "id": "5e32cb9b",
   "metadata": {},
   "source": [
    "Ex 3 : Write a map function that returns the squares of the items in the list.\n",
    "       Sample Input : lst1=[10, 20, 30, 40, 50, 60]\n",
    "       Exp Output   : [100, 400, 900, 1600, 2500, 3600]"
   ]
  },
  {
   "cell_type": "code",
   "execution_count": 17,
   "id": "bf2b4ad3",
   "metadata": {},
   "outputs": [
    {
     "data": {
      "text/plain": [
       "[100, 400, 900, 1600, 2500, 3600]"
      ]
     },
     "execution_count": 17,
     "metadata": {},
     "output_type": "execute_result"
    }
   ],
   "source": [
    "# map with lambda function\n",
    "lst1=[10, 20, 30, 40, 50, 60]\n",
    "list(map(lambda x: x*x,lst1))"
   ]
  },
  {
   "cell_type": "raw",
   "id": "a07f4919",
   "metadata": {},
   "source": [
    "Ex 4 : Write a map function that adds \"Hello, \" in front of each item in the list.\n",
    "       Sample Input : lst1=[\"Jane\", \"Lee\", \"Will\", \"Brie\"]\n",
    "       Exp Output   : ['Hello Jane', 'Hello Lee', 'Hello Will', 'Hello Brie']"
   ]
  },
  {
   "cell_type": "code",
   "execution_count": 18,
   "id": "7f0ccca2",
   "metadata": {},
   "outputs": [
    {
     "data": {
      "text/plain": [
       "['Hello Jane', 'Hello Lee', 'Hello Will', 'Hello Brie']"
      ]
     },
     "execution_count": 18,
     "metadata": {},
     "output_type": "execute_result"
    }
   ],
   "source": [
    "lst1=[\"Jane\", \"Lee\", \"Will\", \"Brie\"]\n",
    "list(map(lambda x:'Hello '+x, lst1))"
   ]
  },
  {
   "cell_type": "raw",
   "id": "08004dcd",
   "metadata": {},
   "source": [
    "Ex 5 : Using map() function and lambda and count() function \n",
    "       Create a list which consists of the number of occurence of letter: a.\n",
    "       Sample Inp : lst1=[\"Alaska\", \"Alabama\", \"Arizona\", \"Arkansas\", \"Colorado\", \"Montana\", \"Nevada\"]\n",
    "       Exp Output :      [1, 2, 1, 2, 1, 2, 2]"
   ]
  },
  {
   "cell_type": "code",
   "execution_count": 24,
   "id": "8ebdbc9b",
   "metadata": {},
   "outputs": [
    {
     "data": {
      "text/plain": [
       "[2, 3, 1, 2, 1, 2, 2]"
      ]
     },
     "execution_count": 24,
     "metadata": {},
     "output_type": "execute_result"
    }
   ],
   "source": [
    "lst1=[\"Alaska\", \"Alabama\", \"Arizona\", \"Arkansas\", \"Colorado\", \"Montana\", \"Nevada\"]\n",
    "list(map(lambda x: x.count('a'),lst1))"
   ]
  },
  {
   "cell_type": "raw",
   "id": "5d595051",
   "metadata": {},
   "source": [
    "Ex 6 : Using filter() function filter the list so that only negative numbers are left.\n",
    "       Sample Input : lst1=[12, -1, 9, 8, -0.5, -0.2, -100]\n",
    "       Exp Output   : [-1, -0.5, -0.2, -100]\n",
    "       "
   ]
  },
  {
   "cell_type": "code",
   "execution_count": 29,
   "id": "2db42c35",
   "metadata": {},
   "outputs": [
    {
     "data": {
      "text/plain": [
       "[-1, -0.5, -0.2, -100]"
      ]
     },
     "execution_count": 29,
     "metadata": {},
     "output_type": "execute_result"
    }
   ],
   "source": [
    "lst1=[12, -1, 9, 8, -0.5, -0.2, -100]\n",
    "list(filter(lambda x: x<0, lst1))"
   ]
  },
  {
   "cell_type": "code",
   "execution_count": 28,
   "id": "8ce5eb05",
   "metadata": {},
   "outputs": [
    {
     "data": {
      "text/plain": [
       "[False, True, False, False, True, True, True]"
      ]
     },
     "execution_count": 28,
     "metadata": {},
     "output_type": "execute_result"
    }
   ],
   "source": [
    "lst1=[12, -1, 9, 8, -0.5, -0.2, -100]\n",
    "list(map(lambda x: x<0, lst1))"
   ]
  },
  {
   "cell_type": "code",
   "execution_count": 34,
   "id": "c3a77141",
   "metadata": {},
   "outputs": [
    {
     "name": "stdout",
     "output_type": "stream",
     "text": [
      "[1, 3, 5, 7, 9, 11, 13, 15, 17, 19]\n",
      "[False, True, False, True, False, True, False, True, False, True, False, True, False, True, False, True, False, True, False, True]\n"
     ]
    }
   ],
   "source": [
    "# 匿名函数lambda给出的是个筛选条件，从1到19中筛选出奇数来；\n",
    "# filter将传入的函数依次作用到序列的每个元素，True则返回 False则不返回。\n",
    "\n",
    "print(list(filter(lambda n : n % 2 == 1, range(20))))\n",
    "\n",
    "# 变成了它判断对错的条件，只打印true和false；\n",
    "# 形成一个可迭代序列，然后用list函数把可迭代序列变成list形式。\n",
    "\n",
    "print(list(map(lambda n : n % 2 == 1, range(20))))"
   ]
  },
  {
   "cell_type": "code",
   "execution_count": null,
   "id": "17a79aa1",
   "metadata": {},
   "outputs": [],
   "source": []
  }
 ],
 "metadata": {
  "kernelspec": {
   "display_name": "Python 3 (ipykernel)",
   "language": "python",
   "name": "python3"
  },
  "language_info": {
   "codemirror_mode": {
    "name": "ipython",
    "version": 3
   },
   "file_extension": ".py",
   "mimetype": "text/x-python",
   "name": "python",
   "nbconvert_exporter": "python",
   "pygments_lexer": "ipython3",
   "version": "3.9.13"
  }
 },
 "nbformat": 4,
 "nbformat_minor": 5
}
